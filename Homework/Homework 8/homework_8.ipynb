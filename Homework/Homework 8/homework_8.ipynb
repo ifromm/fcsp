{
 "cells": [
  {
   "cell_type": "markdown",
   "id": "9f925736-25ed-40f6-aa11-ec230740dd3b",
   "metadata": {},
   "source": [
    "# Homework 8"
   ]
  },
  {
   "cell_type": "markdown",
   "id": "21f9223d-1946-429c-9c3f-82e24ac0483b",
   "metadata": {},
   "source": [
    "## Overview\n",
    "* Absolute paths\n",
    "* Relative paths\n",
    "* File I/O\n",
    "* Import\n",
    "* PIP: Installing python modules\n",
    "* CSV (Comma Separated Values) - reading and writing with pythons's standard library"
   ]
  },
  {
   "cell_type": "markdown",
   "id": "f7904511-d1aa-486e-9f67-5e64d6e67b2c",
   "metadata": {},
   "source": [
    "## Absolute paths\n",
    "\n",
    "### Helpful resources\n",
    "https://docs.python.org/3/library/os.path.html  \n",
    "\n",
    "An _absolute path_ is the complete path to a file. Absolute paths work only on your system - since other users can have directory trees different from yours. It is recommended to **avoid absolute paths whenever possible!** Also, hardcoding paths (absolute or relative) will most likely produce code that is not easy to port or test."
   ]
  },
  {
   "cell_type": "code",
   "execution_count": 1,
   "id": "6dc42a48-3636-47a0-bee4-f1222d04921c",
   "metadata": {},
   "outputs": [],
   "source": [
    "# Execute to create a python file for demonstration\n",
    "with open('demofile.py', 'w') as datafile:\n",
    "    datafile.write(\"print('Hello, World!')\")"
   ]
  },
  {
   "cell_type": "code",
   "execution_count": 3,
   "id": "37cee8ba-e223-4355-980a-6b88e4552569",
   "metadata": {},
   "outputs": [
    {
     "name": "stdout",
     "output_type": "stream",
     "text": [
      "print('Hello, World!')\n",
      "Hello, World!\n"
     ]
    }
   ],
   "source": [
    "absolute_path = 'C:/Users/denis/work/courses/focsp/focsp/homeworks/demofile.py'\n",
    "\n",
    "with open(absolute_path, 'r') as text_file:\n",
    "    data = text_file.read()\n",
    "print(data)\n",
    "eval(data)"
   ]
  },
  {
   "cell_type": "markdown",
   "id": "80f7b1ed-4d13-4062-b61c-0f87a62f935e",
   "metadata": {},
   "source": [
    "So reading this file with its absolute path works well, but just on my PC (this won't work on your PC)!"
   ]
  },
  {
   "cell_type": "markdown",
   "id": "03216456-fec0-4972-9a7e-ca5eff967332",
   "metadata": {},
   "source": [
    "## Relative Paths\n",
    "Relative paths are paths which start from the current working directory. So only the directory tree 'below' the current working directory is relevant. Working with relative paths will save you a lot of nerves and time ;)  \n",
    "_Hint:_ you can still go 'up' the directory tree by using `../` once for each level that you go up at the beginning of the path."
   ]
  },
  {
   "cell_type": "code",
   "execution_count": 4,
   "id": "09686d14-6c21-4bb1-9cbf-629921585970",
   "metadata": {},
   "outputs": [
    {
     "name": "stdout",
     "output_type": "stream",
     "text": [
      "print('Hello, World!')\n",
      "Hello, World!\n"
     ]
    }
   ],
   "source": [
    "relative_path = 'demofile.py' # this file is in our current working directory\n",
    "\n",
    "with open(relative_path, 'r') as text_file:\n",
    "    data = text_file.read()\n",
    "print(data)\n",
    "eval(data)"
   ]
  },
  {
   "cell_type": "markdown",
   "id": "bae0b69c-5872-46fd-9a60-dffe5d641e4d",
   "metadata": {},
   "source": [
    "### Common Mistakes\n",
    "One common mistake is trying to access a file via path that does not exist."
   ]
  },
  {
   "cell_type": "code",
   "execution_count": 5,
   "id": "c981602d-30f2-4a09-b606-3e9c7cbf0fb3",
   "metadata": {},
   "outputs": [
    {
     "ename": "FileNotFoundError",
     "evalue": "[Errno 2] No such file or directory: 'folder/demofile.py'",
     "output_type": "error",
     "traceback": [
      "\u001b[1;31m---------------------------------------------------------------------------\u001b[0m",
      "\u001b[1;31mFileNotFoundError\u001b[0m                         Traceback (most recent call last)",
      "Input \u001b[1;32mIn [5]\u001b[0m, in \u001b[0;36m<cell line: 2>\u001b[1;34m()\u001b[0m\n\u001b[0;32m      1\u001b[0m absolute_path \u001b[38;5;241m=\u001b[39m \u001b[38;5;124m'\u001b[39m\u001b[38;5;124mfolder/demofile.py\u001b[39m\u001b[38;5;124m'\u001b[39m\n\u001b[1;32m----> 2\u001b[0m \u001b[38;5;28;01mwith\u001b[39;00m \u001b[38;5;28;43mopen\u001b[39;49m\u001b[43m(\u001b[49m\u001b[43mabsolute_path\u001b[49m\u001b[43m,\u001b[49m\u001b[43m \u001b[49m\u001b[38;5;124;43m'\u001b[39;49m\u001b[38;5;124;43mr\u001b[39;49m\u001b[38;5;124;43m'\u001b[39;49m\u001b[43m)\u001b[49m \u001b[38;5;28;01mas\u001b[39;00m text_file:\n\u001b[0;32m      3\u001b[0m     data \u001b[38;5;241m=\u001b[39m text_file\u001b[38;5;241m.\u001b[39mread()\n\u001b[0;32m      4\u001b[0m \u001b[38;5;28mprint\u001b[39m(data)\n",
      "\u001b[1;31mFileNotFoundError\u001b[0m: [Errno 2] No such file or directory: 'folder/demofile.py'"
     ]
    }
   ],
   "source": [
    "absolute_path = 'folder/demofile.py'\n",
    "with open(absolute_path, 'r') as text_file:\n",
    "    data = text_file.read()\n",
    "print(data)\n",
    "eval(data)"
   ]
  },
  {
   "cell_type": "markdown",
   "id": "03bcc688-2962-4b79-9dc8-d0b473c7d478",
   "metadata": {},
   "source": [
    "Path does not exist!"
   ]
  },
  {
   "cell_type": "markdown",
   "id": "895f4240-207a-402c-9a16-193540a05bbc",
   "metadata": {},
   "source": [
    "## File I/O"
   ]
  },
  {
   "cell_type": "markdown",
   "id": "ed361a13-d0fe-4eb7-b4f8-23d0fad7e867",
   "metadata": {},
   "source": [
    "### Helpful resources\n",
    "https://docs.python.org/3/tutorial/inputoutput.html#reading-and-writing-files  \n",
    "https://docs.python.org/3/library/functions.html#open"
   ]
  },
  {
   "cell_type": "markdown",
   "id": "7ce6b724-bb1f-4814-8d3a-3f08567b5744",
   "metadata": {},
   "source": [
    "Python built-in function open() opens a file and returns a File Object, which you can use to read, write or append.\n",
    "\n",
    "* `'r'` - Reading a file\n",
    "* `'w'` - Open for writing (deleting previous content)\n",
    "* `'a'` - Open for writing (appending to the end if exists)\n",
    "\n",
    "mode | Methods\n",
    "-------- | --------\n",
    "`'r'`   | `read() ` `readlines() `\n",
    "`'w'`   | `write()` `writelines()`\n",
    "`'a'`   | `write()` `writelines()`\n"
   ]
  },
  {
   "cell_type": "code",
   "execution_count": 6,
   "id": "c1672b96-3195-4785-8bf8-c05ef00dc7c9",
   "metadata": {},
   "outputs": [],
   "source": [
    "# This creates a file with some content for the examples below\n",
    "with open('shoppinglist.txt', 'w') as datafile:\n",
    "    datafile.write('noodles\\nbread\\nmilk\\ncheese\\napples\\n')"
   ]
  },
  {
   "cell_type": "markdown",
   "id": "e38d4c99-cad3-4f40-9c97-d979d3766f9b",
   "metadata": {},
   "source": [
    "Let's see what happens if we want to add 'rice' with `'w'` mode:"
   ]
  },
  {
   "cell_type": "code",
   "execution_count": 7,
   "id": "440a3c9a-46ac-4e6e-8511-d1798e91b8d1",
   "metadata": {},
   "outputs": [],
   "source": [
    "with open('shoppinglist.txt', 'w') as datafile:\n",
    "    datafile.write('rice\\n')"
   ]
  },
  {
   "cell_type": "markdown",
   "id": "2bc988d4-5e40-40a5-8959-f2be8be11536",
   "metadata": {},
   "source": [
    "Didn't work out well, our old list got deleted. Using `'a'` will do a better job:"
   ]
  },
  {
   "cell_type": "code",
   "execution_count": 8,
   "id": "f5814fa3-dc6f-4907-a177-884e467c1bb4",
   "metadata": {},
   "outputs": [],
   "source": [
    "with open('shoppinglist.txt', 'w') as datafile:\n",
    "    datafile.write('noodles\\nbread\\nmilk\\ncheese\\napples\\n')"
   ]
  },
  {
   "cell_type": "code",
   "execution_count": 9,
   "id": "d7cab404-b3c3-423c-b489-10a2d84d87ba",
   "metadata": {},
   "outputs": [],
   "source": [
    "with open('shoppinglist.txt', 'a') as datafile:\n",
    "    datafile.write('rice\\n')"
   ]
  },
  {
   "cell_type": "markdown",
   "id": "20758869-6909-4250-9501-0a82c443cf12",
   "metadata": {},
   "source": [
    "### Reading the entire content of a file\n",
    "https://docs.python.org/3/tutorial/inputoutput.html#methods-of-file-objects\n",
    "\n",
    "The `read(size)` method reads a specified amount of data and returns it as a string. Size is an optional argument, and if size is omitted or negative, the method reads and returns the entire content of the file will at once."
   ]
  },
  {
   "cell_type": "code",
   "execution_count": 10,
   "id": "eb0415b8-4e3c-4d84-836d-d916bd83cac6",
   "metadata": {},
   "outputs": [
    {
     "name": "stdout",
     "output_type": "stream",
     "text": [
      "noodles\n",
      "bread\n",
      "milk\n",
      "cheese\n",
      "apples\n",
      "rice\n",
      "\n"
     ]
    }
   ],
   "source": [
    "# read the whole file\n",
    "with open('shoppinglist.txt', 'r') as shoppinglist_file:\n",
    "    content = shoppinglist_file.read()\n",
    "\n",
    "print(content)"
   ]
  },
  {
   "cell_type": "code",
   "execution_count": 11,
   "id": "6cc4d01c-d40b-4266-9c1b-16ebbf082491",
   "metadata": {},
   "outputs": [
    {
     "name": "stdout",
     "output_type": "stream",
     "text": [
      "<class 'str'>\n",
      "'noodles\\nbread\\nmilk\\ncheese\\napples\\nrice\\n'\n"
     ]
    }
   ],
   "source": [
    "# content  -> this is a string with newline characters ('\\n')\n",
    "print(type(content))\n",
    "print(repr(content)) # printable representation of the given object"
   ]
  },
  {
   "cell_type": "markdown",
   "id": "8cdf881f-35c4-4398-a12f-530eff0db34e",
   "metadata": {},
   "source": [
    "As you can see, the output of the `read()` method is a string. Each newline is represented by a `\\n`. You can read the content of the file by iterating over the lines in the file. In that case, each line is represented as a string."
   ]
  },
  {
   "cell_type": "code",
   "execution_count": 12,
   "id": "50ef4314-6278-4b2f-bd02-b0bc0f1863ce",
   "metadata": {},
   "outputs": [
    {
     "name": "stdout",
     "output_type": "stream",
     "text": [
      "<class 'str'>\n",
      "'noodles\\n'\n",
      "noodles\n",
      "\n",
      "<class 'str'>\n",
      "'bread\\n'\n",
      "bread\n",
      "\n",
      "<class 'str'>\n",
      "'milk\\n'\n",
      "milk\n",
      "\n",
      "<class 'str'>\n",
      "'cheese\\n'\n",
      "cheese\n",
      "\n",
      "<class 'str'>\n",
      "'apples\\n'\n",
      "apples\n",
      "\n",
      "<class 'str'>\n",
      "'rice\\n'\n",
      "rice\n",
      "\n"
     ]
    }
   ],
   "source": [
    "# Reading a file line by line (i.e. iterate over the file):\n",
    "with open('shoppinglist.txt', 'r') as shoppinglist_file:\n",
    "    for line in shoppinglist_file:\n",
    "        print(type(line))\n",
    "        print(repr(line))\n",
    "        print(line)"
   ]
  },
  {
   "cell_type": "markdown",
   "id": "116102ea-01d1-4c2a-9b75-d84d5560328f",
   "metadata": {},
   "source": [
    "Method `readlines()` reads all lines from a file at once and returns them as a list. A newline character (\\n) is included at the end of every string in the list."
   ]
  },
  {
   "cell_type": "code",
   "execution_count": 13,
   "id": "3f1c3e51-084f-4f31-8886-d5e34b1cd37e",
   "metadata": {},
   "outputs": [
    {
     "name": "stdout",
     "output_type": "stream",
     "text": [
      "['noodles\\n', 'bread\\n', 'milk\\n', 'cheese\\n', 'apples\\n', 'rice\\n']\n",
      "Length of content is:  6\n"
     ]
    }
   ],
   "source": [
    "# reading with readlines()\n",
    "with open('shoppinglist.txt', 'r') as shoppinglist_file:\n",
    "    content = shoppinglist_file.readlines()\n",
    "    print(content)\n",
    "    print('Length of content is: ', len(content))"
   ]
  },
  {
   "cell_type": "code",
   "execution_count": 14,
   "id": "4cec42c8-5c62-4c95-8526-6121a1fed59f",
   "metadata": {},
   "outputs": [
    {
     "name": "stdout",
     "output_type": "stream",
     "text": [
      "<class 'str'>\n"
     ]
    }
   ],
   "source": [
    "print(type(content[0]))"
   ]
  },
  {
   "cell_type": "markdown",
   "id": "a58c4508-09f0-4b8b-9e09-37dc9eeb7fec",
   "metadata": {},
   "source": [
    "`f.write(string)` writes the content of a string to a file, returning the number of characters written."
   ]
  },
  {
   "cell_type": "code",
   "execution_count": 15,
   "id": "12860955-cb80-45b8-93bf-16b60dfe1975",
   "metadata": {},
   "outputs": [],
   "source": [
    "# writing to a file\n",
    "with open('some_new_file.txt', 'a') as some_file:\n",
    "    for i in range(10):\n",
    "        line = f'Line number {i+1}\\n'\n",
    "        some_file.write(line)"
   ]
  },
  {
   "cell_type": "markdown",
   "id": "552cd6bd-a36e-4496-9060-cfde3dad2ac1",
   "metadata": {},
   "source": [
    "### Common Mistakes\n",
    "One common mistake is opening a file for reading but trying to write to the file instead."
   ]
  },
  {
   "cell_type": "code",
   "execution_count": 16,
   "id": "b9cca82f-d1cf-424e-b177-489ed7ec4704",
   "metadata": {},
   "outputs": [
    {
     "ename": "UnsupportedOperation",
     "evalue": "not writable",
     "output_type": "error",
     "traceback": [
      "\u001b[1;31m---------------------------------------------------------------------------\u001b[0m",
      "\u001b[1;31mUnsupportedOperation\u001b[0m                      Traceback (most recent call last)",
      "Input \u001b[1;32mIn [16]\u001b[0m, in \u001b[0;36m<cell line: 1>\u001b[1;34m()\u001b[0m\n\u001b[0;32m      1\u001b[0m \u001b[38;5;28;01mwith\u001b[39;00m \u001b[38;5;28mopen\u001b[39m(\u001b[38;5;124m'\u001b[39m\u001b[38;5;124mshoppinglist.txt\u001b[39m\u001b[38;5;124m'\u001b[39m, \u001b[38;5;124m'\u001b[39m\u001b[38;5;124mr\u001b[39m\u001b[38;5;124m'\u001b[39m) \u001b[38;5;28;01mas\u001b[39;00m shoppinglist_file:\n\u001b[1;32m----> 2\u001b[0m     \u001b[43mshoppinglist_file\u001b[49m\u001b[38;5;241;43m.\u001b[39;49m\u001b[43mwrite\u001b[49m\u001b[43m(\u001b[49m\u001b[38;5;124;43m'\u001b[39;49m\u001b[38;5;124;43mrice\u001b[39;49m\u001b[38;5;130;43;01m\\n\u001b[39;49;00m\u001b[38;5;124;43m'\u001b[39;49m\u001b[43m)\u001b[49m\n",
      "\u001b[1;31mUnsupportedOperation\u001b[0m: not writable"
     ]
    }
   ],
   "source": [
    "with open('shoppinglist.txt', 'r') as shoppinglist_file:\n",
    "    shoppinglist_file.write('rice\\n')"
   ]
  },
  {
   "cell_type": "markdown",
   "id": "5c04ee74-4d5c-49b9-8eec-959257b4bc0f",
   "metadata": {},
   "source": [
    "Another common mistake is opening a file for writing but trying to read from the file."
   ]
  },
  {
   "cell_type": "code",
   "execution_count": 17,
   "id": "5bbaccc9-3dce-4259-8408-48acd97ae1e8",
   "metadata": {},
   "outputs": [
    {
     "ename": "UnsupportedOperation",
     "evalue": "not readable",
     "output_type": "error",
     "traceback": [
      "\u001b[1;31m---------------------------------------------------------------------------\u001b[0m",
      "\u001b[1;31mUnsupportedOperation\u001b[0m                      Traceback (most recent call last)",
      "Input \u001b[1;32mIn [17]\u001b[0m, in \u001b[0;36m<cell line: 1>\u001b[1;34m()\u001b[0m\n\u001b[0;32m      1\u001b[0m \u001b[38;5;28;01mwith\u001b[39;00m \u001b[38;5;28mopen\u001b[39m(\u001b[38;5;124m'\u001b[39m\u001b[38;5;124mshoppinglist.txt\u001b[39m\u001b[38;5;124m'\u001b[39m, \u001b[38;5;124m'\u001b[39m\u001b[38;5;124mw\u001b[39m\u001b[38;5;124m'\u001b[39m) \u001b[38;5;28;01mas\u001b[39;00m shoppinglist_file:\n\u001b[1;32m----> 2\u001b[0m     \u001b[38;5;28mprint\u001b[39m(\u001b[43mshoppinglist_file\u001b[49m\u001b[38;5;241;43m.\u001b[39;49m\u001b[43mreadlines\u001b[49m\u001b[43m(\u001b[49m\u001b[43m)\u001b[49m)\n",
      "\u001b[1;31mUnsupportedOperation\u001b[0m: not readable"
     ]
    }
   ],
   "source": [
    "with open('shoppinglist.txt', 'w') as shoppinglist_file:\n",
    "    print(shoppinglist_file.readlines())"
   ]
  },
  {
   "cell_type": "markdown",
   "id": "4ff2939e-6989-4750-8691-ae6be666462c",
   "metadata": {},
   "source": [
    "## Import\n",
    "Import/Modules:\n",
    "+ https://docs.python.org/3/tutorial/modules.html\n",
    "+ https://realpython.com/python-modules-packages/#python-modules-overview<br>\n",
    "\n",
    "Standard Library: https://docs.python.org/3/library/index.html"
   ]
  },
  {
   "cell_type": "markdown",
   "id": "0b01c7d8-e679-4009-9560-45554c52ea84",
   "metadata": {},
   "source": [
    "Imagine you are working on a script which includes a variety of functions to solve common tasks, for instance: functions to perform mathematical matrix operations or functions to visualise huge amounts of data. Wouldn't it be convenient if we could use those functions from another python-script? Well....since we are too lazy to rewrite everything.... Yeah, it would!\n",
    "\n",
    "Modules - it's your time to shine🌞<br>\n",
    "Modules are nothing more than <ins>.py-files</ins> consisting of different kinds of components, i.e. functions, which can be made available in any other python-script using the `import`-statement. And yes, you can import your own python-scripts as well! Besides that, Python comes with an extensive amount of modules, known as <ins>Standard-Library</ins>. You can also include 3rd-party packages (numpy, pandas, scipy, matplotlib,...) but you will have to install them first."
   ]
  },
  {
   "cell_type": "markdown",
   "id": "78c7a228-de50-4b36-9233-ce2d80cf89b4",
   "metadata": {},
   "source": [
    "### How to `import` everything from a module\n",
    "\n",
    "**Python-Syntax:** \n",
    "```python\n",
    "import module_name\n",
    "```\n",
    "\n",
    "It doesn't get easier than that - after the import-statement follows the name of the module. Now you can use all functions from the `module_name` module by prefixing their name with their <ins>namespace</ins> `module_name.` Usually, all import-statements are found at the top of the script to keep the code tidy and clear.\n",
    "\n",
    "**Note:** `random` is part of the python standard-library\n"
   ]
  },
  {
   "cell_type": "code",
   "execution_count": 1,
   "id": "d947e2e1-943d-402a-bf4c-2b88ede78f1a",
   "metadata": {},
   "outputs": [],
   "source": [
    "import random"
   ]
  },
  {
   "cell_type": "code",
   "execution_count": 2,
   "id": "40af7d20-9442-410b-a594-71c69ea69a8b",
   "metadata": {},
   "outputs": [
    {
     "data": {
      "text/plain": [
       "28"
      ]
     },
     "execution_count": 2,
     "metadata": {},
     "output_type": "execute_result"
    }
   ],
   "source": [
    "random.randint(20,30)  # returns an random integer between the values 20 and 30"
   ]
  },
  {
   "cell_type": "code",
   "execution_count": 3,
   "id": "cc362301-f125-446b-9fd8-86c26e37c169",
   "metadata": {},
   "outputs": [
    {
     "data": {
      "text/plain": [
       "'D'"
      ]
     },
     "execution_count": 3,
     "metadata": {},
     "output_type": "execute_result"
    }
   ],
   "source": [
    "random.choice(\"ABCDE\") # returns an random element of a given non-empty sequence"
   ]
  },
  {
   "cell_type": "markdown",
   "id": "959af574-0a0c-4982-9b90-268b525be874",
   "metadata": {},
   "source": [
    "But what happens if we import a module inside a function? The module will become part of the local namespace of the function, therefore it is not possible to use the module-contents outside this particular function.\n",
    "\n",
    "**Note:** Most python-styleguides do recommend importing modules at script-top since it is not really beneficial to do it somewhere else (like inside a function)."
   ]
  },
  {
   "cell_type": "code",
   "execution_count": 4,
   "id": "18b6e26b-f26b-424e-9df9-f2d99f045fc0",
   "metadata": {},
   "outputs": [
    {
     "name": "stdout",
     "output_type": "stream",
     "text": [
      "[22, 91, 8, 47, 14, 80, 54, 35, 22, 91]\n"
     ]
    },
    {
     "data": {
      "text/plain": [
       "102"
      ]
     },
     "execution_count": 4,
     "metadata": {},
     "output_type": "execute_result"
    }
   ],
   "source": [
    "def generate_some_numbers(amount):\n",
    "    import random\n",
    "    numbers = []\n",
    "    for n in range(amount):\n",
    "        numbers.append(random.randint(0, 100))\n",
    "    return numbers\n",
    "print(generate_some_numbers(10))\n",
    "\n",
    "random.randint(100,150)  # this will lead to a NameError since random is not defined outside the function"
   ]
  },
  {
   "cell_type": "markdown",
   "id": "97fc3946-103c-4a07-bc04-e2abbb298e51",
   "metadata": {},
   "source": [
    "### How to `import` specific contents `from` a module\n",
    "\n",
    "**Python-Syntax:**\n",
    "```python\n",
    "from module_name import content_name1, content_name2, etc\n",
    "``` \n",
    "\n",
    "Instead of importing everything of a module, we can extract specific content, i.e. only functions we really need. This allows us, to use functions without the namespace-prefix. Keep in mind, that multiple functions are separated with commas (`,`)."
   ]
  },
  {
   "cell_type": "code",
   "execution_count": 5,
   "id": "30b21f8a-249e-4d47-9aea-09374064f9e7",
   "metadata": {},
   "outputs": [],
   "source": [
    "from statistics import mean, median"
   ]
  },
  {
   "cell_type": "code",
   "execution_count": 6,
   "id": "c07503f0-10b4-45ae-9100-3af036605a64",
   "metadata": {},
   "outputs": [
    {
     "name": "stdout",
     "output_type": "stream",
     "text": [
      "52.24324324324324\n",
      "58\n"
     ]
    }
   ],
   "source": [
    "list_of_random_numbers = [random.randint(0,100) for _ in range(111)]\n",
    "print(mean(list_of_random_numbers))\n",
    "print(median(list_of_random_numbers))"
   ]
  },
  {
   "cell_type": "markdown",
   "id": "aa20eb8b-b4cb-476d-85e2-8c22f761d4ec",
   "metadata": {},
   "source": [
    "**Pitfall:**\n",
    "```python\n",
    "from statistics import mean\n",
    "from numpy import mean\n",
    "```\n",
    "Always keep an eye on which elements you are importing from different modules. In our case, there are two imported functions with the same name (name-collision). Therefore python always uses the last imported function with that name - in our case, the mean-function of the numpy module. <ins>The last import always wins!</ins>\n",
    "\n"
   ]
  },
  {
   "cell_type": "markdown",
   "id": "3fffa3a3-f590-48cf-9b87-af28651610f2",
   "metadata": {},
   "source": [
    "### How to `import` a module `as` you like\n",
    "\n",
    "**Python-Syntax:** \n",
    "```python\n",
    "import module_name as new_module_name_in_namespace\n",
    "from module_name import component as new_component_name_in_namespace\n",
    "```\n",
    "\n",
    "Modules and packages can be renamed on import to keep code more succinct. Most widely-used packages have an established abbreviation. Stick to it to make your code readable for others!"
   ]
  },
  {
   "cell_type": "code",
   "execution_count": 7,
   "id": "fc4bf34d-03fd-4bd8-8962-af67e2cc2d86",
   "metadata": {},
   "outputs": [],
   "source": [
    "import numpy as np # np is the established shorthand for numpy"
   ]
  },
  {
   "cell_type": "markdown",
   "id": "a596c607-049a-406f-8905-3c4723db6742",
   "metadata": {},
   "source": [
    "Now we can use `np` as the namespace prefix for `numpy` components."
   ]
  },
  {
   "cell_type": "code",
   "execution_count": 9,
   "id": "76071a5d-5ccf-4ebf-9512-212bb78dc8f0",
   "metadata": {},
   "outputs": [
    {
     "data": {
      "text/plain": [
       "array([ 7,  9, 11, 13, 15])"
      ]
     },
     "execution_count": 9,
     "metadata": {},
     "output_type": "execute_result"
    }
   ],
   "source": [
    "a = np.array([1,2,3,4,5])\n",
    "b = np.array([6,7,8,9,10])\n",
    "a + b # numpy array operations work elementwise"
   ]
  },
  {
   "cell_type": "markdown",
   "id": "ab9e076d-b85f-4219-9d40-6e7540ec8ee1",
   "metadata": {},
   "source": [
    "### How to `import*` all names from a module\n",
    "It is possible to import all names from a given package. This means no namespace prefix is necessary for any of them. **Usually this is a bad idea, as it causes poorly readable code and namespace conflicts.** Thus, use explicit imports and namespace prefixes as shown above!"
   ]
  },
  {
   "cell_type": "code",
   "execution_count": 10,
   "id": "ef8b0a93-8b09-4516-9b9d-e9a0fb0877fa",
   "metadata": {},
   "outputs": [
    {
     "data": {
      "text/plain": [
       "<module 'random' from 'C:\\\\Users\\\\denis\\\\AppData\\\\Local\\\\Programs\\\\Python\\\\Python310\\\\lib\\\\random.py'>"
      ]
     },
     "execution_count": 10,
     "metadata": {},
     "output_type": "execute_result"
    }
   ],
   "source": [
    "import random # let's import random, just like before\n",
    "random # -> this will show us where the package is stored"
   ]
  },
  {
   "cell_type": "code",
   "execution_count": 11,
   "id": "3f0bfd30-c61a-4c4d-a8c4-1d1901b01b9c",
   "metadata": {},
   "outputs": [
    {
     "data": {
      "text/plain": [
       "<module 'numpy.random' from 'C:\\\\Users\\\\denis\\\\AppData\\\\Local\\\\Programs\\\\Python\\\\Python310\\\\lib\\\\site-packages\\\\numpy\\\\random\\\\__init__.py'>"
      ]
     },
     "execution_count": 11,
     "metadata": {},
     "output_type": "execute_result"
    }
   ],
   "source": [
    "from numpy import * # please don't do this\n",
    "random # -> this is not the built-in random anymore, as it's overwritten by numpy's"
   ]
  },
  {
   "cell_type": "code",
   "execution_count": 12,
   "id": "1443a0b0-13ec-483e-87c6-e15b19a086a4",
   "metadata": {},
   "outputs": [
    {
     "data": {
      "text/plain": [
       "15"
      ]
     },
     "execution_count": 12,
     "metadata": {},
     "output_type": "execute_result"
    }
   ],
   "source": [
    "sum([1, 2, 3, 4, 5]) # this is not the builtin sum-function, but numpy's"
   ]
  },
  {
   "cell_type": "markdown",
   "id": "6d878e89-a408-4d46-83ab-18d39daabaa5",
   "metadata": {},
   "source": [
    "## PIP: Installing Python Modules\n",
    "https://docs.python.org/3/installing/index.html\n",
    "\n",
    "While the python standard library is *extensive*, there is an even bigger collection of 3rd-party packages available. `pip` is one of several possibilities to install such additional python packages. It comes with the default python setup, so you can use it right away. Note that pip is a package itself, but is usually used as a command line tool, not within a `.py`-script or `.ipynb`-notebook. You most likely already used pip when installing JupyterLab. Replace `pip` with `pip3` in the following commands, if you are using MACOS or Linux.\n",
    "\n",
    "To install a package with pip, simply open up a terminal and enter\n",
    "> `pip install <package name>`\n",
    "\n",
    "e.g.\n",
    "> `pip install numpy`.\n",
    "\n",
    "Multiple packages can be installed at once by just chaining names (separated with spaces) like this:\n",
    "> `pip install numpy matplotlib pandas scipy`\n",
    "\n",
    "Depending on your computer's settings and environment setup, you might run into permission issues. Usually installing new packages just for the current user (instead of the systemwide default) fixes those:\n",
    "> `pip install --user numpy`\n",
    "\n",
    "Just like python itself, its packages exist in different versions, having different features and dependencies. This often leads to issues when trying to run code on another computer. Best practice would be to create a *virtual environment* ([Docs](https://packaging.python.org/tutorials/installing-packages/#creating-virtual-environments)) for each project, using *requirements files* ([Docs](https://pip.pypa.io/en/latest/user_guide/#requirements-files)) - or using Docker containers. You are welcome to do so, but for now it's sufficient to just install packages globally ;)\n",
    "\n",
    "\n",
    "<center><img src=\"https://hackernoon.com/hn-images/1*ookfwogTLx_1qhHaiFJoJw.png\" width=\"400\" /></center>"
   ]
  },
  {
   "cell_type": "markdown",
   "id": "dac362ce-4ca2-43a1-920f-95a3da1a2a07",
   "metadata": {},
   "source": [
    "## CSV (Comma Separated Values) - reading and writing with pythons's standard library\n",
    "\n",
    "https://docs.python.org/3/library/csv.html  \n",
    "\n",
    "If you are working with a huge amount of data, you will soon get in touch with so called `.csv-files`. In those files, the stored data is separated with commas (`,`), hence the abbreviation `csv` (comma separated values). It can be found in many places: Online datasets, Export from Excel or Google Sheets, Export from SQL, ...<br>\n",
    "Luckily, pythons standard-library offers a csv-module to read and write tabular data in csv-format. \n",
    "\n",
    "**File-Structure:**\n",
    "\n",
    "```python\n",
    "column1,column2,column3\n",
    "value1,value2,value3\n",
    "value1,value2,value3\n",
    "value1,value2,value3\n",
    "```\n",
    "\n",
    "1.) The **first row** of a csv-file always contains column **headers**<br>\n",
    "2.) All **following rows** contain **values**\n",
    "\n",
    "We can import the csv-module in the same fashion as we learned before:"
   ]
  },
  {
   "cell_type": "code",
   "execution_count": 13,
   "id": "f2e2ce8a-b9d5-46f3-b60c-01d4cca78e91",
   "metadata": {},
   "outputs": [],
   "source": [
    "import csv"
   ]
  },
  {
   "cell_type": "markdown",
   "id": "14daca4b-14b1-40ba-8cb2-ff01a5db60fc",
   "metadata": {},
   "source": [
    "### CSV - Read from a given csv-file"
   ]
  },
  {
   "cell_type": "markdown",
   "id": "c2fe9c70-c0fe-4827-bd4f-166efa87435a",
   "metadata": {},
   "source": [
    "Lets have a look into a csv-file, containing the most streamed songs of the year 2021, using the `csv.reader`-method"
   ]
  },
  {
   "cell_type": "code",
   "execution_count": 17,
   "id": "05f80065-e23d-425a-ab34-9979cc2ba231",
   "metadata": {},
   "outputs": [
    {
     "name": "stdout",
     "output_type": "stream",
     "text": [
      "Header of the CSV: ['songs', 'artist', 'album', 'streams_in_millions', 'publish_year']\n",
      "First data row: ['Shape of You', 'Ed Sheeran', 'Divide', '2.96', '2017']\n",
      "<_csv.reader object at 0x0000012BF0D0A6E0>\n"
     ]
    }
   ],
   "source": [
    "with open(\"./most_streamed_songs.csv\", 'r') as csv_file:\n",
    "    streamed_songs = csv.reader(csv_file, delimiter=',')\n",
    "    \n",
    "    header = next(streamed_songs)\n",
    "    print(f\"Header of the CSV: {header}\")\n",
    "\n",
    "    first_data_row = next(streamed_songs)\n",
    "    print(f\"First data row: {first_data_row}\")\n",
    "    \n",
    "    # alternatively (iterate through whole csv-file and store the data in a list of lists):\n",
    "    # data = []\n",
    "    # for row in streamed_songs:\n",
    "    #     print(row)\n",
    "    #     data.append(row)\n",
    "    \n",
    "print(streamed_songs)\n",
    "# print(data)"
   ]
  },
  {
   "cell_type": "markdown",
   "id": "3f4f8bfb-9803-4bea-b991-436121fd7caa",
   "metadata": {},
   "source": [
    "Well done - row after row, we stored the data of the file in lists which can be used for further tasks. <br>\n",
    "In some cases it might be handy to read data in a dictionary using the `csv.DictReader`. This method gives us a dictionary with the column name as key and the data as value. "
   ]
  },
  {
   "cell_type": "code",
   "execution_count": 24,
   "id": "2a6eb432-2c94-4f53-abba-9c1469f0d201",
   "metadata": {},
   "outputs": [
    {
     "name": "stdout",
     "output_type": "stream",
     "text": [
      "{'songs': 'Shape of You', 'artist': 'Ed Sheeran', 'album': 'Divide', 'streams_in_millions': '2.96', 'publish_year': '2017'}\n",
      "{'songs': 'Blinding Lights', 'artist': 'The Weeknd', 'album': 'After Hours', 'streams_in_millions': '2.613', 'publish_year': '2019'}\n",
      "{'songs': 'Dance Monkey', 'artist': 'Tones and I', 'album': 'The Kids Are Coming', 'streams_in_millions': '2.395', 'publish_year': '2019'}\n",
      "{'songs': 'Rockstar', 'artist': 'Post Malone', 'album': 'Beerbongs & Bentleys', 'streams_in_millions': '2.291', 'publish_year': '2017'}\n",
      "{'songs': 'One Dance', 'artist': 'Drake', 'album': 'Views', 'streams_in_millions': '2.16', 'publish_year': '2016'}\n",
      "{'songs': 'Someone You Loved', 'artist': 'Lewis Capaldi', 'album': 'Breach', 'streams_in_millions': '2.143', 'publish_year': '2018'}\n"
     ]
    }
   ],
   "source": [
    "with open(\"./most_streamed_songs.csv\", 'r') as csv_file:\n",
    "    streamed_songs = csv.DictReader(csv_file, delimiter=',')\n",
    "    \n",
    "    for row in streamed_songs:\n",
    "        print(row)"
   ]
  },
  {
   "cell_type": "markdown",
   "id": "a39aaa2c-2aa3-4050-bbd2-4c848b6381f8",
   "metadata": {},
   "source": [
    "### CSV - Writing into a (given) csv-file\n",
    "\n",
    "But the magic✨ doesn't stop at just reading csv-files, it is also possible to write/append to csv-files. We simply use the method `csv.writer` combined with the `.writerow()`-function which takes a list (containing the new data) as a single parameter. Keep in mind to define exactly what you want to do in the *with open*-statement: \n",
    "\n",
    "* `a` for appending\n",
    "* `w` for writing (clears file before writing-procedure)\n",
    "\n",
    "If the file you try to access doesn't exist, python will create a new file with the given file name.\n"
   ]
  },
  {
   "cell_type": "code",
   "execution_count": 21,
   "id": "aae9af4c-5e58-4347-a7eb-2eb02e10cb6d",
   "metadata": {},
   "outputs": [],
   "source": [
    "new_data_row = [\"Someone You Loved\",\"Lewis Capaldi\",\"Breach\",2.143,2018]\n",
    "headers = [\"song\",\"artist\",\"album\",\"streams_in_millions\",\"publish_year\"]\n",
    "\n",
    "with open(\"./most_streamed_songs.csv\", 'a', newline = \"\\n\") as csv_file: \n",
    "    streamed_songs = csv.writer(csv_file, delimiter=',')\n",
    "    # streamed_songs.writerow(headers)\n",
    "    streamed_songs.writerow(new_data_row)"
   ]
  },
  {
   "cell_type": "markdown",
   "id": "efd7e0da-6cf2-4edd-9078-a70dcdfd5853",
   "metadata": {},
   "source": [
    "It also works with dictionaries using `csv.DictWriter`. Instead of a list, the `.writerow()`-function takes a dictionary containing the column headers as keys and the new data as values. "
   ]
  },
  {
   "cell_type": "code",
   "execution_count": 23,
   "id": "9af685b2-9a9d-4409-b5db-d17917e11110",
   "metadata": {},
   "outputs": [],
   "source": [
    "new_data_row = {\"song\":\"Someone You Loved\",\"artist\":\"Lewis Capaldi\",\"album\":\"Breach\",\"streams_in_millions\":2.143,\"publish_year\":2018}\n",
    "\n",
    "with open(\"./most_streamed_songs.csv\", 'a', newline = \"\\n\") as csv_file:\n",
    "    streamed_songs = csv.DictWriter(csv_file, fieldnames = headers)\n",
    "    # streamed_songs.writeheader()\n",
    "    streamed_songs.writerow(new_data_row)"
   ]
  },
  {
   "cell_type": "markdown",
   "id": "04806472-9dd3-4670-bb1b-3884d5d0f7d5",
   "metadata": {},
   "source": [
    "## Pandas\n",
    "\n",
    "Pandas is a Python package, which provides data structures for working with tabular, labeled data (i.e., data in a table with rows and columns). It is a good tool for real-world data analysis in Python.\n",
    "Get more information about pandas:\n",
    "* https://www.youtube.com/watch?v=dqT-UlYlg1s\n",
    "* https://pandas.pydata.org/docs/  "
   ]
  },
  {
   "cell_type": "markdown",
   "id": "8682a650-af5c-4382-a26e-6f8b3f3ca163",
   "metadata": {},
   "source": [
    "### Install and Import\n",
    "\n",
    "In order to get access to the Pandas module, we’ll need to install it: ```pip install pandas ``` (in commandline/terminal)  \n",
    "The module is usually imported at the top of a file under pd."
   ]
  },
  {
   "cell_type": "code",
   "execution_count": 25,
   "id": "d01d472e-d3a3-49d8-84db-dfeac074db5d",
   "metadata": {},
   "outputs": [],
   "source": [
    "import pandas as pd"
   ]
  },
  {
   "cell_type": "markdown",
   "id": "41bdd4de-b720-4dc6-8bd4-e634cd34c5c3",
   "metadata": {},
   "source": [
    "### Pandas Data structures\n",
    "\n",
    "Pandas has it's own data structures - ```Series ``` and ``` DataFrames ```.\n",
    "\n",
    "```pd.Series ```: One-dimensional array with axis labels   \n",
    "bsp. ```x = pd.Series([6,3,4,6], index=[‘a’, ‘b’, ‘c’, ‘d’]) ```   \n",
    "\n",
    "\n",
    "```pd.DataFrames ```: DataFrames can contain many different data types: strings, ints, floats, tuples, ...   \n",
    "They have **rows** and **columns**: Every column has a name/header, every row has an index (integer) and contains values (different data types). So it is very nice to work with a lot of data with a lot of different columns, because they are named.  "
   ]
  },
  {
   "cell_type": "markdown",
   "id": "31cb0216-256e-4ee9-ae3b-0f9fa8968f49",
   "metadata": {},
   "source": [
    "### CSV reading and writing with Pandas\n",
    "The most important methods are `.to_csv` and `pd.read_csv`. But what are the methods doing?\n",
    "\n",
    "`.to_csv`: saves pd.DataFrame, pd.Series... as an .csv file\n",
    "\n",
    "`pd.read_csv`: loads the .csv-file in a pd.DataFrame"
   ]
  },
  {
   "cell_type": "code",
   "execution_count": 26,
   "id": "50fd7437-8fbc-485e-8ca2-cf286fb280b9",
   "metadata": {},
   "outputs": [],
   "source": [
    "most_streamed_songs = pd.read_csv('most_streamed_songs.csv') #load data to Pandas DataFrame\n",
    "# do something with the DataFrame\n",
    "most_streamed_songs.to_csv('./updated_most_streamed_songs.csv', index = False) #save data to a CSV"
   ]
  },
  {
   "cell_type": "markdown",
   "id": "3b473b6e-f416-4f79-a641-fa9448db7ec7",
   "metadata": {},
   "source": [
    "### Create a DataFrame"
   ]
  },
  {
   "cell_type": "markdown",
   "id": "64f94878-0057-419e-9fc0-f5d2cad41df8",
   "metadata": {},
   "source": [
    "Let´s try to pass a dictionary to pd.DataFrame():"
   ]
  },
  {
   "cell_type": "code",
   "execution_count": 27,
   "id": "ee365e3d-4cd5-4523-b780-21b47d15813b",
   "metadata": {},
   "outputs": [
    {
     "data": {
      "text/html": [
       "<div>\n",
       "<style scoped>\n",
       "    .dataframe tbody tr th:only-of-type {\n",
       "        vertical-align: middle;\n",
       "    }\n",
       "\n",
       "    .dataframe tbody tr th {\n",
       "        vertical-align: top;\n",
       "    }\n",
       "\n",
       "    .dataframe thead th {\n",
       "        text-align: right;\n",
       "    }\n",
       "</style>\n",
       "<table border=\"1\" class=\"dataframe\">\n",
       "  <thead>\n",
       "    <tr style=\"text-align: right;\">\n",
       "      <th></th>\n",
       "      <th>songs</th>\n",
       "      <th>artist</th>\n",
       "      <th>album</th>\n",
       "      <th>streams_in_millions</th>\n",
       "      <th>publish_year</th>\n",
       "    </tr>\n",
       "  </thead>\n",
       "  <tbody>\n",
       "    <tr>\n",
       "      <th>0</th>\n",
       "      <td>Shape of You</td>\n",
       "      <td>Ed Sheeran</td>\n",
       "      <td>Divide</td>\n",
       "      <td>2.960</td>\n",
       "      <td>2017</td>\n",
       "    </tr>\n",
       "    <tr>\n",
       "      <th>1</th>\n",
       "      <td>Blinding Lights</td>\n",
       "      <td>The Weeknd</td>\n",
       "      <td>After Hours</td>\n",
       "      <td>2.613</td>\n",
       "      <td>2019</td>\n",
       "    </tr>\n",
       "    <tr>\n",
       "      <th>2</th>\n",
       "      <td>Dance Monkey</td>\n",
       "      <td>Tones and I</td>\n",
       "      <td>The Kids Are Coming</td>\n",
       "      <td>2.395</td>\n",
       "      <td>2019</td>\n",
       "    </tr>\n",
       "    <tr>\n",
       "      <th>3</th>\n",
       "      <td>Rockstar</td>\n",
       "      <td>Post Malone</td>\n",
       "      <td>Beerbongs &amp; Bentleys</td>\n",
       "      <td>2.291</td>\n",
       "      <td>2017</td>\n",
       "    </tr>\n",
       "    <tr>\n",
       "      <th>4</th>\n",
       "      <td>One Dance</td>\n",
       "      <td>Drake</td>\n",
       "      <td>Views</td>\n",
       "      <td>2.160</td>\n",
       "      <td>2016</td>\n",
       "    </tr>\n",
       "  </tbody>\n",
       "</table>\n",
       "</div>"
      ],
      "text/plain": [
       "             songs       artist                 album  streams_in_millions  \\\n",
       "0     Shape of You   Ed Sheeran                Divide                2.960   \n",
       "1  Blinding Lights   The Weeknd           After Hours                2.613   \n",
       "2     Dance Monkey  Tones and I   The Kids Are Coming                2.395   \n",
       "3         Rockstar  Post Malone  Beerbongs & Bentleys                2.291   \n",
       "4        One Dance        Drake                 Views                2.160   \n",
       "\n",
       "   publish_year  \n",
       "0          2017  \n",
       "1          2019  \n",
       "2          2019  \n",
       "3          2017  \n",
       "4          2016  "
      ]
     },
     "metadata": {},
     "output_type": "display_data"
    }
   ],
   "source": [
    "most_streamed_songs = {\"songs\": [\"Shape of You\",\"Blinding Lights\", \"Dance Monkey\", \"Rockstar\", \"One Dance\"],\n",
    "                       \"artist\": [\"Ed Sheeran\",\"The Weeknd\", \"Tones and I\", \"Post Malone\", \"Drake\"],\n",
    "                       \"album\": [\"Divide\",\"After Hours\",\"The Kids Are Coming\", \"Beerbongs & Bentleys\", \"Views\"],\n",
    "                       \"streams_in_millions\": [2.960, 2.613, 2.395, 2.291, 2.160],\n",
    "                       \"publish_year\": [2017, 2019, 2019, 2017, 2016]}\n",
    "\n",
    "most_streamed_songs = pd.DataFrame(most_streamed_songs)\n",
    "display(most_streamed_songs) #this works only in jupyter"
   ]
  },
  {
   "cell_type": "markdown",
   "id": "67110da8-efb0-4969-8953-6b683aaa934b",
   "metadata": {},
   "source": [
    "It is also possible to take lists and use the keyword argument *columns* to pass a list of column names:"
   ]
  },
  {
   "cell_type": "code",
   "execution_count": 28,
   "id": "376a5327-c927-4a9a-b369-679f7e1d58e3",
   "metadata": {},
   "outputs": [
    {
     "data": {
      "text/html": [
       "<div>\n",
       "<style scoped>\n",
       "    .dataframe tbody tr th:only-of-type {\n",
       "        vertical-align: middle;\n",
       "    }\n",
       "\n",
       "    .dataframe tbody tr th {\n",
       "        vertical-align: top;\n",
       "    }\n",
       "\n",
       "    .dataframe thead th {\n",
       "        text-align: right;\n",
       "    }\n",
       "</style>\n",
       "<table border=\"1\" class=\"dataframe\">\n",
       "  <thead>\n",
       "    <tr style=\"text-align: right;\">\n",
       "      <th></th>\n",
       "      <th>songs</th>\n",
       "      <th>artist</th>\n",
       "      <th>album</th>\n",
       "      <th>streams_in_millions</th>\n",
       "      <th>publish_year</th>\n",
       "    </tr>\n",
       "  </thead>\n",
       "  <tbody>\n",
       "    <tr>\n",
       "      <th>0</th>\n",
       "      <td>Shape of You</td>\n",
       "      <td>Ed Sheeran</td>\n",
       "      <td>Divide</td>\n",
       "      <td>2.960</td>\n",
       "      <td>2017</td>\n",
       "    </tr>\n",
       "    <tr>\n",
       "      <th>1</th>\n",
       "      <td>Blinding Lights</td>\n",
       "      <td>The Weeknd</td>\n",
       "      <td>After Hours</td>\n",
       "      <td>2.613</td>\n",
       "      <td>2019</td>\n",
       "    </tr>\n",
       "    <tr>\n",
       "      <th>2</th>\n",
       "      <td>Dance Monkey</td>\n",
       "      <td>Tones and I</td>\n",
       "      <td>The Kids Are Coming</td>\n",
       "      <td>2.395</td>\n",
       "      <td>2019</td>\n",
       "    </tr>\n",
       "    <tr>\n",
       "      <th>3</th>\n",
       "      <td>Rockstar</td>\n",
       "      <td>Post Malone</td>\n",
       "      <td>Beerbongs &amp; Bentleys</td>\n",
       "      <td>2.291</td>\n",
       "      <td>2017</td>\n",
       "    </tr>\n",
       "    <tr>\n",
       "      <th>4</th>\n",
       "      <td>One Dance</td>\n",
       "      <td>Drake</td>\n",
       "      <td>Views</td>\n",
       "      <td>2.160</td>\n",
       "      <td>2016</td>\n",
       "    </tr>\n",
       "  </tbody>\n",
       "</table>\n",
       "</div>"
      ],
      "text/plain": [
       "             songs       artist                 album  streams_in_millions  \\\n",
       "0     Shape of You   Ed Sheeran                Divide                2.960   \n",
       "1  Blinding Lights   The Weeknd           After Hours                2.613   \n",
       "2     Dance Monkey  Tones and I   The Kids Are Coming                2.395   \n",
       "3         Rockstar  Post Malone  Beerbongs & Bentleys                2.291   \n",
       "4        One Dance        Drake                 Views                2.160   \n",
       "\n",
       "   publish_year  \n",
       "0          2017  \n",
       "1          2019  \n",
       "2          2019  \n",
       "3          2017  \n",
       "4          2016  "
      ]
     },
     "metadata": {},
     "output_type": "display_data"
    }
   ],
   "source": [
    "most_streamed_songs = [[\"Shape of You\", \"Ed Sheeran\", \"Divide\", 2.960, 2017],\n",
    "                       [\"Blinding Lights\",\"The Weeknd\",\"After Hours\",2.613,2019],\n",
    "                       [\"Dance Monkey\", \"Tones and I\", \"The Kids Are Coming\", 2.395, 2019],\n",
    "                       [\"Rockstar\", \"Post Malone\", \"Beerbongs & Bentleys\", 2.291, 2017],\n",
    "                       [\"One Dance\", \"Drake\", \"Views\", 2.160, 2016]]\n",
    "                       \n",
    "most_streamed_songs = pd.DataFrame(most_streamed_songs, columns =  [\"songs\", \"artist\", \"album\", \"streams_in_millions\", \"publish_year\"])\n",
    "display(most_streamed_songs)  #this works only in jupyter"
   ]
  },
  {
   "cell_type": "markdown",
   "id": "d84850f6-c555-4d4c-a6fb-1046272d306a",
   "metadata": {},
   "source": [
    "### Working with DataFrames\n",
    "\n",
    "Now, we want to work with a DataFrame. Therefore, let us load some data from a csv file:"
   ]
  },
  {
   "cell_type": "code",
   "execution_count": 34,
   "id": "2586dacd-057d-4519-87b3-a19f7192dbe2",
   "metadata": {},
   "outputs": [],
   "source": [
    "data = pd.read_csv('COVID-19_AUT_2022_01_01_TO_2022_11_21.csv')"
   ]
  },
  {
   "cell_type": "markdown",
   "id": "b5ada820-c238-46f2-9740-9bcf7f51b18c",
   "metadata": {},
   "source": [
    "### Inspect DataFrame\n",
    "Now we have a DataFrame and want to have a look at it. If we work with a small DataFrame, we can simply use print(DataFrame) or in jupyter display(DataFrame).  \n",
    "If it's a larger DataFrame, pandas offers some helpfull methodes:\n",
    "\n",
    "`data.head()`- shows the first 5 rows   \n",
    "`data.info()`  -shows a summary of the DataFrame including the index dtype and columns, non-null values and memory usage.   \n",
    "`data.tail()` - shows the last 5 rows   "
   ]
  },
  {
   "cell_type": "code",
   "execution_count": 35,
   "id": "113083a2-fc6c-4fff-84cb-ca3d2a40de69",
   "metadata": {},
   "outputs": [
    {
     "data": {
      "text/html": [
       "<div>\n",
       "<style scoped>\n",
       "    .dataframe tbody tr th:only-of-type {\n",
       "        vertical-align: middle;\n",
       "    }\n",
       "\n",
       "    .dataframe tbody tr th {\n",
       "        vertical-align: top;\n",
       "    }\n",
       "\n",
       "    .dataframe thead th {\n",
       "        text-align: right;\n",
       "    }\n",
       "</style>\n",
       "<table border=\"1\" class=\"dataframe\">\n",
       "  <thead>\n",
       "    <tr style=\"text-align: right;\">\n",
       "      <th></th>\n",
       "      <th>id</th>\n",
       "      <th>iso_code</th>\n",
       "      <th>location</th>\n",
       "      <th>date</th>\n",
       "      <th>total_cases</th>\n",
       "      <th>new_cases</th>\n",
       "      <th>total_deaths</th>\n",
       "      <th>new_deaths</th>\n",
       "      <th>population</th>\n",
       "    </tr>\n",
       "  </thead>\n",
       "  <tbody>\n",
       "    <tr>\n",
       "      <th>0</th>\n",
       "      <td>13734</td>\n",
       "      <td>AUT</td>\n",
       "      <td>Austria</td>\n",
       "      <td>2022-01-01</td>\n",
       "      <td>1274628.0</td>\n",
       "      <td>3817.0</td>\n",
       "      <td>16845.0</td>\n",
       "      <td>30.0</td>\n",
       "      <td>8939617.0</td>\n",
       "    </tr>\n",
       "    <tr>\n",
       "      <th>1</th>\n",
       "      <td>13735</td>\n",
       "      <td>AUT</td>\n",
       "      <td>Austria</td>\n",
       "      <td>2022-01-02</td>\n",
       "      <td>1278327.0</td>\n",
       "      <td>3699.0</td>\n",
       "      <td>16859.0</td>\n",
       "      <td>14.0</td>\n",
       "      <td>8939617.0</td>\n",
       "    </tr>\n",
       "    <tr>\n",
       "      <th>2</th>\n",
       "      <td>13736</td>\n",
       "      <td>AUT</td>\n",
       "      <td>Austria</td>\n",
       "      <td>2022-01-03</td>\n",
       "      <td>1281328.0</td>\n",
       "      <td>3001.0</td>\n",
       "      <td>16867.0</td>\n",
       "      <td>8.0</td>\n",
       "      <td>8939617.0</td>\n",
       "    </tr>\n",
       "    <tr>\n",
       "      <th>3</th>\n",
       "      <td>13737</td>\n",
       "      <td>AUT</td>\n",
       "      <td>Austria</td>\n",
       "      <td>2022-01-04</td>\n",
       "      <td>1284811.0</td>\n",
       "      <td>3483.0</td>\n",
       "      <td>16879.0</td>\n",
       "      <td>12.0</td>\n",
       "      <td>8939617.0</td>\n",
       "    </tr>\n",
       "    <tr>\n",
       "      <th>4</th>\n",
       "      <td>13738</td>\n",
       "      <td>AUT</td>\n",
       "      <td>Austria</td>\n",
       "      <td>2022-01-05</td>\n",
       "      <td>1290817.0</td>\n",
       "      <td>6006.0</td>\n",
       "      <td>16900.0</td>\n",
       "      <td>21.0</td>\n",
       "      <td>8939617.0</td>\n",
       "    </tr>\n",
       "  </tbody>\n",
       "</table>\n",
       "</div>"
      ],
      "text/plain": [
       "      id iso_code location        date  total_cases  new_cases  total_deaths  \\\n",
       "0  13734      AUT  Austria  2022-01-01    1274628.0     3817.0       16845.0   \n",
       "1  13735      AUT  Austria  2022-01-02    1278327.0     3699.0       16859.0   \n",
       "2  13736      AUT  Austria  2022-01-03    1281328.0     3001.0       16867.0   \n",
       "3  13737      AUT  Austria  2022-01-04    1284811.0     3483.0       16879.0   \n",
       "4  13738      AUT  Austria  2022-01-05    1290817.0     6006.0       16900.0   \n",
       "\n",
       "   new_deaths  population  \n",
       "0        30.0   8939617.0  \n",
       "1        14.0   8939617.0  \n",
       "2         8.0   8939617.0  \n",
       "3        12.0   8939617.0  \n",
       "4        21.0   8939617.0  "
      ]
     },
     "metadata": {},
     "output_type": "display_data"
    },
    {
     "name": "stdout",
     "output_type": "stream",
     "text": [
      "<class 'pandas.core.frame.DataFrame'>\n",
      "RangeIndex: 324 entries, 0 to 323\n",
      "Data columns (total 9 columns):\n",
      " #   Column        Non-Null Count  Dtype  \n",
      "---  ------        --------------  -----  \n",
      " 0   id            324 non-null    int64  \n",
      " 1   iso_code      324 non-null    object \n",
      " 2   location      324 non-null    object \n",
      " 3   date          324 non-null    object \n",
      " 4   total_cases   324 non-null    float64\n",
      " 5   new_cases     323 non-null    float64\n",
      " 6   total_deaths  324 non-null    float64\n",
      " 7   new_deaths    320 non-null    float64\n",
      " 8   population    324 non-null    float64\n",
      "dtypes: float64(5), int64(1), object(3)\n",
      "memory usage: 22.9+ KB\n"
     ]
    },
    {
     "data": {
      "text/plain": [
       "None"
      ]
     },
     "metadata": {},
     "output_type": "display_data"
    },
    {
     "data": {
      "text/html": [
       "<div>\n",
       "<style scoped>\n",
       "    .dataframe tbody tr th:only-of-type {\n",
       "        vertical-align: middle;\n",
       "    }\n",
       "\n",
       "    .dataframe tbody tr th {\n",
       "        vertical-align: top;\n",
       "    }\n",
       "\n",
       "    .dataframe thead th {\n",
       "        text-align: right;\n",
       "    }\n",
       "</style>\n",
       "<table border=\"1\" class=\"dataframe\">\n",
       "  <thead>\n",
       "    <tr style=\"text-align: right;\">\n",
       "      <th></th>\n",
       "      <th>id</th>\n",
       "      <th>iso_code</th>\n",
       "      <th>location</th>\n",
       "      <th>date</th>\n",
       "      <th>total_cases</th>\n",
       "      <th>new_cases</th>\n",
       "      <th>total_deaths</th>\n",
       "      <th>new_deaths</th>\n",
       "      <th>population</th>\n",
       "    </tr>\n",
       "  </thead>\n",
       "  <tbody>\n",
       "    <tr>\n",
       "      <th>319</th>\n",
       "      <td>14053</td>\n",
       "      <td>AUT</td>\n",
       "      <td>Austria</td>\n",
       "      <td>2022-11-16</td>\n",
       "      <td>5502186.0</td>\n",
       "      <td>5041.0</td>\n",
       "      <td>21116.0</td>\n",
       "      <td>11.0</td>\n",
       "      <td>8939617.0</td>\n",
       "    </tr>\n",
       "    <tr>\n",
       "      <th>320</th>\n",
       "      <td>14054</td>\n",
       "      <td>AUT</td>\n",
       "      <td>Austria</td>\n",
       "      <td>2022-11-17</td>\n",
       "      <td>5506697.0</td>\n",
       "      <td>4511.0</td>\n",
       "      <td>21124.0</td>\n",
       "      <td>8.0</td>\n",
       "      <td>8939617.0</td>\n",
       "    </tr>\n",
       "    <tr>\n",
       "      <th>321</th>\n",
       "      <td>14055</td>\n",
       "      <td>AUT</td>\n",
       "      <td>Austria</td>\n",
       "      <td>2022-11-18</td>\n",
       "      <td>5510919.0</td>\n",
       "      <td>4222.0</td>\n",
       "      <td>21134.0</td>\n",
       "      <td>10.0</td>\n",
       "      <td>8939617.0</td>\n",
       "    </tr>\n",
       "    <tr>\n",
       "      <th>322</th>\n",
       "      <td>14056</td>\n",
       "      <td>AUT</td>\n",
       "      <td>Austria</td>\n",
       "      <td>2022-11-19</td>\n",
       "      <td>5514701.0</td>\n",
       "      <td>3782.0</td>\n",
       "      <td>21143.0</td>\n",
       "      <td>9.0</td>\n",
       "      <td>8939617.0</td>\n",
       "    </tr>\n",
       "    <tr>\n",
       "      <th>323</th>\n",
       "      <td>14057</td>\n",
       "      <td>AUT</td>\n",
       "      <td>Austria</td>\n",
       "      <td>2022-11-20</td>\n",
       "      <td>5517893.0</td>\n",
       "      <td>3192.0</td>\n",
       "      <td>21144.0</td>\n",
       "      <td>1.0</td>\n",
       "      <td>8939617.0</td>\n",
       "    </tr>\n",
       "  </tbody>\n",
       "</table>\n",
       "</div>"
      ],
      "text/plain": [
       "        id iso_code location        date  total_cases  new_cases  \\\n",
       "319  14053      AUT  Austria  2022-11-16    5502186.0     5041.0   \n",
       "320  14054      AUT  Austria  2022-11-17    5506697.0     4511.0   \n",
       "321  14055      AUT  Austria  2022-11-18    5510919.0     4222.0   \n",
       "322  14056      AUT  Austria  2022-11-19    5514701.0     3782.0   \n",
       "323  14057      AUT  Austria  2022-11-20    5517893.0     3192.0   \n",
       "\n",
       "     total_deaths  new_deaths  population  \n",
       "319       21116.0        11.0   8939617.0  \n",
       "320       21124.0         8.0   8939617.0  \n",
       "321       21134.0        10.0   8939617.0  \n",
       "322       21143.0         9.0   8939617.0  \n",
       "323       21144.0         1.0   8939617.0  "
      ]
     },
     "metadata": {},
     "output_type": "display_data"
    }
   ],
   "source": [
    "display(data.head()) # display just works in Jupyter\n",
    "display(data.info()) # display just works in Jupyter\n",
    "display(data.tail()) # display just works in Jupyter"
   ]
  },
  {
   "cell_type": "markdown",
   "id": "bbef0ee7-c445-4d79-bc69-2161cdff4871",
   "metadata": {},
   "source": [
    "With the methods `.head()` and `.tail()` 5 rows will be displayed. But you can change the amount easily when you fill in another number."
   ]
  },
  {
   "cell_type": "code",
   "execution_count": 36,
   "id": "24645453-6552-471b-a324-b740e8a5ee9f",
   "metadata": {},
   "outputs": [
    {
     "data": {
      "text/html": [
       "<div>\n",
       "<style scoped>\n",
       "    .dataframe tbody tr th:only-of-type {\n",
       "        vertical-align: middle;\n",
       "    }\n",
       "\n",
       "    .dataframe tbody tr th {\n",
       "        vertical-align: top;\n",
       "    }\n",
       "\n",
       "    .dataframe thead th {\n",
       "        text-align: right;\n",
       "    }\n",
       "</style>\n",
       "<table border=\"1\" class=\"dataframe\">\n",
       "  <thead>\n",
       "    <tr style=\"text-align: right;\">\n",
       "      <th></th>\n",
       "      <th>id</th>\n",
       "      <th>iso_code</th>\n",
       "      <th>location</th>\n",
       "      <th>date</th>\n",
       "      <th>total_cases</th>\n",
       "      <th>new_cases</th>\n",
       "      <th>total_deaths</th>\n",
       "      <th>new_deaths</th>\n",
       "      <th>population</th>\n",
       "    </tr>\n",
       "  </thead>\n",
       "  <tbody>\n",
       "    <tr>\n",
       "      <th>0</th>\n",
       "      <td>13734</td>\n",
       "      <td>AUT</td>\n",
       "      <td>Austria</td>\n",
       "      <td>2022-01-01</td>\n",
       "      <td>1274628.0</td>\n",
       "      <td>3817.0</td>\n",
       "      <td>16845.0</td>\n",
       "      <td>30.0</td>\n",
       "      <td>8939617.0</td>\n",
       "    </tr>\n",
       "    <tr>\n",
       "      <th>1</th>\n",
       "      <td>13735</td>\n",
       "      <td>AUT</td>\n",
       "      <td>Austria</td>\n",
       "      <td>2022-01-02</td>\n",
       "      <td>1278327.0</td>\n",
       "      <td>3699.0</td>\n",
       "      <td>16859.0</td>\n",
       "      <td>14.0</td>\n",
       "      <td>8939617.0</td>\n",
       "    </tr>\n",
       "    <tr>\n",
       "      <th>2</th>\n",
       "      <td>13736</td>\n",
       "      <td>AUT</td>\n",
       "      <td>Austria</td>\n",
       "      <td>2022-01-03</td>\n",
       "      <td>1281328.0</td>\n",
       "      <td>3001.0</td>\n",
       "      <td>16867.0</td>\n",
       "      <td>8.0</td>\n",
       "      <td>8939617.0</td>\n",
       "    </tr>\n",
       "  </tbody>\n",
       "</table>\n",
       "</div>"
      ],
      "text/plain": [
       "      id iso_code location        date  total_cases  new_cases  total_deaths  \\\n",
       "0  13734      AUT  Austria  2022-01-01    1274628.0     3817.0       16845.0   \n",
       "1  13735      AUT  Austria  2022-01-02    1278327.0     3699.0       16859.0   \n",
       "2  13736      AUT  Austria  2022-01-03    1281328.0     3001.0       16867.0   \n",
       "\n",
       "   new_deaths  population  \n",
       "0        30.0   8939617.0  \n",
       "1        14.0   8939617.0  \n",
       "2         8.0   8939617.0  "
      ]
     },
     "metadata": {},
     "output_type": "display_data"
    },
    {
     "data": {
      "text/html": [
       "<div>\n",
       "<style scoped>\n",
       "    .dataframe tbody tr th:only-of-type {\n",
       "        vertical-align: middle;\n",
       "    }\n",
       "\n",
       "    .dataframe tbody tr th {\n",
       "        vertical-align: top;\n",
       "    }\n",
       "\n",
       "    .dataframe thead th {\n",
       "        text-align: right;\n",
       "    }\n",
       "</style>\n",
       "<table border=\"1\" class=\"dataframe\">\n",
       "  <thead>\n",
       "    <tr style=\"text-align: right;\">\n",
       "      <th></th>\n",
       "      <th>id</th>\n",
       "      <th>iso_code</th>\n",
       "      <th>location</th>\n",
       "      <th>date</th>\n",
       "      <th>total_cases</th>\n",
       "      <th>new_cases</th>\n",
       "      <th>total_deaths</th>\n",
       "      <th>new_deaths</th>\n",
       "      <th>population</th>\n",
       "    </tr>\n",
       "  </thead>\n",
       "  <tbody>\n",
       "    <tr>\n",
       "      <th>321</th>\n",
       "      <td>14055</td>\n",
       "      <td>AUT</td>\n",
       "      <td>Austria</td>\n",
       "      <td>2022-11-18</td>\n",
       "      <td>5510919.0</td>\n",
       "      <td>4222.0</td>\n",
       "      <td>21134.0</td>\n",
       "      <td>10.0</td>\n",
       "      <td>8939617.0</td>\n",
       "    </tr>\n",
       "    <tr>\n",
       "      <th>322</th>\n",
       "      <td>14056</td>\n",
       "      <td>AUT</td>\n",
       "      <td>Austria</td>\n",
       "      <td>2022-11-19</td>\n",
       "      <td>5514701.0</td>\n",
       "      <td>3782.0</td>\n",
       "      <td>21143.0</td>\n",
       "      <td>9.0</td>\n",
       "      <td>8939617.0</td>\n",
       "    </tr>\n",
       "    <tr>\n",
       "      <th>323</th>\n",
       "      <td>14057</td>\n",
       "      <td>AUT</td>\n",
       "      <td>Austria</td>\n",
       "      <td>2022-11-20</td>\n",
       "      <td>5517893.0</td>\n",
       "      <td>3192.0</td>\n",
       "      <td>21144.0</td>\n",
       "      <td>1.0</td>\n",
       "      <td>8939617.0</td>\n",
       "    </tr>\n",
       "  </tbody>\n",
       "</table>\n",
       "</div>"
      ],
      "text/plain": [
       "        id iso_code location        date  total_cases  new_cases  \\\n",
       "321  14055      AUT  Austria  2022-11-18    5510919.0     4222.0   \n",
       "322  14056      AUT  Austria  2022-11-19    5514701.0     3782.0   \n",
       "323  14057      AUT  Austria  2022-11-20    5517893.0     3192.0   \n",
       "\n",
       "     total_deaths  new_deaths  population  \n",
       "321       21134.0        10.0   8939617.0  \n",
       "322       21143.0         9.0   8939617.0  \n",
       "323       21144.0         1.0   8939617.0  "
      ]
     },
     "metadata": {},
     "output_type": "display_data"
    }
   ],
   "source": [
    "display(data.head(3)) # display just works in Jupyter\n",
    "display(data.tail(3))# display just works in Jupyter"
   ]
  },
  {
   "cell_type": "markdown",
   "id": "5f7cce79-7423-4d8d-a31b-bf2ed35993d7",
   "metadata": {},
   "source": [
    "### Pandas get rows and columns\n",
    "Sometimes, you just want a few rows or columns of your DataFrame. There are different ways one can get a column in pandas. The following are the ones we recomand to use:"
   ]
  },
  {
   "cell_type": "markdown",
   "id": "818f74b7-a998-48fd-96e6-1976a2cda33a",
   "metadata": {},
   "source": [
    "##### `.loc` method\n",
    "\n",
    "**Python-Syntax:**\n",
    "\n",
    "```python\n",
    "df.loc[row_start:row_end, columns]\n",
    "``` \n",
    "\n",
    "The method lets you access the rows and columns you want to have. You need square brackets and then you specify, which rows you want by their index. If you want all rows, just make a `:`.\n",
    "\n",
    "**Attention:** The first and second index are both included!"
   ]
  },
  {
   "cell_type": "code",
   "execution_count": 37,
   "id": "6a277706-26ac-4aae-9f91-75fb59988bab",
   "metadata": {},
   "outputs": [
    {
     "data": {
      "text/plain": [
       "1    1278327.0\n",
       "2    1281328.0\n",
       "3    1284811.0\n",
       "4    1290817.0\n",
       "Name: total_cases, dtype: float64"
      ]
     },
     "metadata": {},
     "output_type": "display_data"
    },
    {
     "data": {
      "text/plain": [
       "'\\n'"
      ]
     },
     "metadata": {},
     "output_type": "display_data"
    },
    {
     "name": "stdout",
     "output_type": "stream",
     "text": [
      "0      1274628.0\n",
      "1      1278327.0\n",
      "2      1281328.0\n",
      "3      1284811.0\n",
      "4      1290817.0\n",
      "         ...    \n",
      "319    5502186.0\n",
      "320    5506697.0\n",
      "321    5510919.0\n",
      "322    5514701.0\n",
      "323    5517893.0\n",
      "Name: total_cases, Length: 324, dtype: float64\n"
     ]
    }
   ],
   "source": [
    "display(data.loc[1:4, \"total_cases\"], \"\\n\")\n",
    "print(data.loc[:, \"total_cases\"])"
   ]
  },
  {
   "cell_type": "markdown",
   "id": "150e82c5-9957-46d2-9fa3-53366eb43707",
   "metadata": {},
   "source": [
    "##### `df[]` method\n",
    "\n",
    "**Python-Syntax:**\n",
    "\n",
    "```python\n",
    "df[column]\n",
    "``` \n",
    "or if you want to have more than one column\n",
    "\n",
    "```python\n",
    "df[[column, column]]\n",
    "``` \n",
    "\n",
    "You can access columns in a DataFrame like in a dictionary. Just write it in square brackets.If you want to have access to more than one column, write them in a list."
   ]
  },
  {
   "cell_type": "code",
   "execution_count": 38,
   "id": "aff635a2-efa2-4b36-a83a-74d7b21929bf",
   "metadata": {},
   "outputs": [
    {
     "name": "stdout",
     "output_type": "stream",
     "text": [
      "0      1274628.0\n",
      "1      1278327.0\n",
      "2      1281328.0\n",
      "3      1284811.0\n",
      "4      1290817.0\n",
      "         ...    \n",
      "319    5502186.0\n",
      "320    5506697.0\n",
      "321    5510919.0\n",
      "322    5514701.0\n",
      "323    5517893.0\n",
      "Name: total_cases, Length: 324, dtype: float64\n",
      "     total_cases  new_cases\n",
      "0      1274628.0     3817.0\n",
      "1      1278327.0     3699.0\n",
      "2      1281328.0     3001.0\n",
      "3      1284811.0     3483.0\n",
      "4      1290817.0     6006.0\n",
      "..           ...        ...\n",
      "319    5502186.0     5041.0\n",
      "320    5506697.0     4511.0\n",
      "321    5510919.0     4222.0\n",
      "322    5514701.0     3782.0\n",
      "323    5517893.0     3192.0\n",
      "\n",
      "[324 rows x 2 columns]\n"
     ]
    }
   ],
   "source": [
    "print(data[\"total_cases\"])\n",
    "print(data[[\"total_cases\", \"new_cases\"]])"
   ]
  },
  {
   "cell_type": "markdown",
   "id": "fd1244bb-3a57-4d65-8bc9-b6dda3032480",
   "metadata": {},
   "source": [
    "`df.column` method\n",
    "\n",
    "**Python-Syntax:**\n",
    "\n",
    "```python\n",
    "df.column\n",
    "``` \n",
    "\n",
    "You can access a column in a DataFrame by calling the attribute with a dot."
   ]
  },
  {
   "cell_type": "code",
   "execution_count": 39,
   "id": "0a0bca8f-d3d3-433a-a8e9-9919d0dcb2b3",
   "metadata": {},
   "outputs": [
    {
     "name": "stdout",
     "output_type": "stream",
     "text": [
      "0      1274628.0\n",
      "1      1278327.0\n",
      "2      1281328.0\n",
      "3      1284811.0\n",
      "4      1290817.0\n",
      "         ...    \n",
      "319    5502186.0\n",
      "320    5506697.0\n",
      "321    5510919.0\n",
      "322    5514701.0\n",
      "323    5517893.0\n",
      "Name: total_cases, Length: 324, dtype: float64\n"
     ]
    }
   ],
   "source": [
    "print(data.total_cases)"
   ]
  },
  {
   "cell_type": "code",
   "execution_count": 40,
   "id": "1e800eb6-123c-44fc-bb62-d1c18c29e548",
   "metadata": {},
   "outputs": [
    {
     "name": "stdout",
     "output_type": "stream",
     "text": [
      "0      1274628.0\n",
      "1      1278327.0\n",
      "2      1281328.0\n",
      "3      1284811.0\n",
      "4      1290817.0\n",
      "         ...    \n",
      "319    5502186.0\n",
      "320    5506697.0\n",
      "321    5510919.0\n",
      "322    5514701.0\n",
      "323    5517893.0\n",
      "Name: total_cases, Length: 324, dtype: float64\n"
     ]
    }
   ],
   "source": [
    "#print(data[\"total_cases\"])\n",
    "#print(display(data.total_cases))\n",
    "print(data.loc[:, \"total_cases\"])"
   ]
  },
  {
   "cell_type": "markdown",
   "id": "4624ceaf-8ad6-4ede-a8ca-d8b26154639b",
   "metadata": {},
   "source": [
    "### Pandas get rows by index\n",
    "There are different ways one can get a row in pandas. Therefore, you need the `df.iloc` method\n",
    "\n",
    "##### **For one column:**\n",
    "\n",
    "**Python-Syntax:**\n",
    "```python\n",
    "data.iloc[<row_index>]\n",
    "``` \n",
    "\n",
    "Be aware, that if you just want to see one row, it will be displayed like this:"
   ]
  },
  {
   "cell_type": "code",
   "execution_count": 41,
   "id": "0ba4a058-5da4-4dd4-8360-edf9127f0f66",
   "metadata": {},
   "outputs": [
    {
     "data": {
      "text/plain": [
       "id                   13736\n",
       "iso_code               AUT\n",
       "location           Austria\n",
       "date            2022-01-03\n",
       "total_cases      1281328.0\n",
       "new_cases           3001.0\n",
       "total_deaths       16867.0\n",
       "new_deaths             8.0\n",
       "population       8939617.0\n",
       "Name: 2, dtype: object"
      ]
     },
     "metadata": {},
     "output_type": "display_data"
    }
   ],
   "source": [
    "display(data.iloc[2])"
   ]
  },
  {
   "cell_type": "markdown",
   "id": "164c1a4a-e7d0-4988-87a1-4487793ad79f",
   "metadata": {},
   "source": [
    "##### **For more than one row:**\n",
    "\n",
    "**Python-Syntax:**\n",
    "```python\n",
    "data.iloc[[<row_index>, <row_index>]]\n",
    "```"
   ]
  },
  {
   "cell_type": "code",
   "execution_count": 42,
   "id": "eeab1d17-6cfb-476e-b4fd-87ad7a235d24",
   "metadata": {},
   "outputs": [
    {
     "data": {
      "text/html": [
       "<div>\n",
       "<style scoped>\n",
       "    .dataframe tbody tr th:only-of-type {\n",
       "        vertical-align: middle;\n",
       "    }\n",
       "\n",
       "    .dataframe tbody tr th {\n",
       "        vertical-align: top;\n",
       "    }\n",
       "\n",
       "    .dataframe thead th {\n",
       "        text-align: right;\n",
       "    }\n",
       "</style>\n",
       "<table border=\"1\" class=\"dataframe\">\n",
       "  <thead>\n",
       "    <tr style=\"text-align: right;\">\n",
       "      <th></th>\n",
       "      <th>id</th>\n",
       "      <th>iso_code</th>\n",
       "      <th>location</th>\n",
       "      <th>date</th>\n",
       "      <th>total_cases</th>\n",
       "      <th>new_cases</th>\n",
       "      <th>total_deaths</th>\n",
       "      <th>new_deaths</th>\n",
       "      <th>population</th>\n",
       "    </tr>\n",
       "  </thead>\n",
       "  <tbody>\n",
       "    <tr>\n",
       "      <th>2</th>\n",
       "      <td>13736</td>\n",
       "      <td>AUT</td>\n",
       "      <td>Austria</td>\n",
       "      <td>2022-01-03</td>\n",
       "      <td>1281328.0</td>\n",
       "      <td>3001.0</td>\n",
       "      <td>16867.0</td>\n",
       "      <td>8.0</td>\n",
       "      <td>8939617.0</td>\n",
       "    </tr>\n",
       "    <tr>\n",
       "      <th>4</th>\n",
       "      <td>13738</td>\n",
       "      <td>AUT</td>\n",
       "      <td>Austria</td>\n",
       "      <td>2022-01-05</td>\n",
       "      <td>1290817.0</td>\n",
       "      <td>6006.0</td>\n",
       "      <td>16900.0</td>\n",
       "      <td>21.0</td>\n",
       "      <td>8939617.0</td>\n",
       "    </tr>\n",
       "  </tbody>\n",
       "</table>\n",
       "</div>"
      ],
      "text/plain": [
       "      id iso_code location        date  total_cases  new_cases  total_deaths  \\\n",
       "2  13736      AUT  Austria  2022-01-03    1281328.0     3001.0       16867.0   \n",
       "4  13738      AUT  Austria  2022-01-05    1290817.0     6006.0       16900.0   \n",
       "\n",
       "   new_deaths  population  \n",
       "2         8.0   8939617.0  \n",
       "4        21.0   8939617.0  "
      ]
     },
     "metadata": {},
     "output_type": "display_data"
    }
   ],
   "source": [
    "display(data.iloc[[2, 4]])"
   ]
  },
  {
   "cell_type": "markdown",
   "id": "7d8bc6a7-6989-431d-81bb-ed39afe65ca0",
   "metadata": {},
   "source": [
    "It can also be used for a better display of one row:"
   ]
  },
  {
   "cell_type": "code",
   "execution_count": 43,
   "id": "b779a166-a5e1-4cd5-8648-009161213294",
   "metadata": {},
   "outputs": [
    {
     "data": {
      "text/html": [
       "<div>\n",
       "<style scoped>\n",
       "    .dataframe tbody tr th:only-of-type {\n",
       "        vertical-align: middle;\n",
       "    }\n",
       "\n",
       "    .dataframe tbody tr th {\n",
       "        vertical-align: top;\n",
       "    }\n",
       "\n",
       "    .dataframe thead th {\n",
       "        text-align: right;\n",
       "    }\n",
       "</style>\n",
       "<table border=\"1\" class=\"dataframe\">\n",
       "  <thead>\n",
       "    <tr style=\"text-align: right;\">\n",
       "      <th></th>\n",
       "      <th>id</th>\n",
       "      <th>iso_code</th>\n",
       "      <th>location</th>\n",
       "      <th>date</th>\n",
       "      <th>total_cases</th>\n",
       "      <th>new_cases</th>\n",
       "      <th>total_deaths</th>\n",
       "      <th>new_deaths</th>\n",
       "      <th>population</th>\n",
       "    </tr>\n",
       "  </thead>\n",
       "  <tbody>\n",
       "    <tr>\n",
       "      <th>2</th>\n",
       "      <td>13736</td>\n",
       "      <td>AUT</td>\n",
       "      <td>Austria</td>\n",
       "      <td>2022-01-03</td>\n",
       "      <td>1281328.0</td>\n",
       "      <td>3001.0</td>\n",
       "      <td>16867.0</td>\n",
       "      <td>8.0</td>\n",
       "      <td>8939617.0</td>\n",
       "    </tr>\n",
       "  </tbody>\n",
       "</table>\n",
       "</div>"
      ],
      "text/plain": [
       "      id iso_code location        date  total_cases  new_cases  total_deaths  \\\n",
       "2  13736      AUT  Austria  2022-01-03    1281328.0     3001.0       16867.0   \n",
       "\n",
       "   new_deaths  population  \n",
       "2         8.0   8939617.0  "
      ]
     },
     "metadata": {},
     "output_type": "display_data"
    }
   ],
   "source": [
    "display(data.iloc[[2]])"
   ]
  },
  {
   "cell_type": "markdown",
   "id": "03d6e6e3-2e67-4bf0-a743-5c8af17e59bb",
   "metadata": {},
   "source": [
    "##### **For a range of rows:**\n",
    "\n",
    "**Python-Syntax:**\n",
    "```python\n",
    "data.iloc[<start_row_index> : <end_row_index>]\n",
    "```\n",
    "`<start_row_index>` is inclusive, `<end_row_index>` is exclusive."
   ]
  },
  {
   "cell_type": "code",
   "execution_count": null,
   "id": "46424906-3565-49c7-93ed-f392663b9d39",
   "metadata": {},
   "outputs": [],
   "source": [
    "display(data.iloc[0:10])"
   ]
  },
  {
   "cell_type": "markdown",
   "id": "c73205c5-13ab-4889-a23e-e512c2388c59",
   "metadata": {},
   "source": [
    "### Row selection with conditions\n",
    "You can select multiple rows by using logical operations. For example get all rows which fulfill the criterias 1 to n:\n",
    "\n",
    "**Python-Syntax:**\n",
    "```python\n",
    "data.loc[(<creteria_1>) & (<creteria_2>) & ... & (<creteria_n>)]\n",
    "```\n",
    "Or get all rows which fulfill one of the criterias 1 to n:\n",
    "\n",
    "**Python-Syntax:**\n",
    "```python\n",
    "data.loc[(<creteria_1>) | (<creteria_2>) | ... | (<creteria_n>)]\n",
    "```\n",
    "\n",
    "You can combine also different logical operations"
   ]
  },
  {
   "cell_type": "code",
   "execution_count": 54,
   "id": "eb1efb0e-005b-4d7d-bb62-698955bd2089",
   "metadata": {},
   "outputs": [
    {
     "data": {
      "text/html": [
       "<div>\n",
       "<style scoped>\n",
       "    .dataframe tbody tr th:only-of-type {\n",
       "        vertical-align: middle;\n",
       "    }\n",
       "\n",
       "    .dataframe tbody tr th {\n",
       "        vertical-align: top;\n",
       "    }\n",
       "\n",
       "    .dataframe thead th {\n",
       "        text-align: right;\n",
       "    }\n",
       "</style>\n",
       "<table border=\"1\" class=\"dataframe\">\n",
       "  <thead>\n",
       "    <tr style=\"text-align: right;\">\n",
       "      <th></th>\n",
       "      <th>id</th>\n",
       "      <th>iso_code</th>\n",
       "      <th>location</th>\n",
       "      <th>date</th>\n",
       "      <th>total_cases</th>\n",
       "      <th>new_cases</th>\n",
       "      <th>total_deaths</th>\n",
       "      <th>new_deaths</th>\n",
       "      <th>population</th>\n",
       "    </tr>\n",
       "  </thead>\n",
       "  <tbody>\n",
       "    <tr>\n",
       "      <th>5</th>\n",
       "      <td>13739</td>\n",
       "      <td>AUT</td>\n",
       "      <td>Austria</td>\n",
       "      <td>2022-01-06</td>\n",
       "      <td>1300899.0</td>\n",
       "      <td>10082.0</td>\n",
       "      <td>16912.0</td>\n",
       "      <td>12.0</td>\n",
       "      <td>8939617.0</td>\n",
       "    </tr>\n",
       "  </tbody>\n",
       "</table>\n",
       "</div>"
      ],
      "text/plain": [
       "      id iso_code location        date  total_cases  new_cases  total_deaths  \\\n",
       "5  13739      AUT  Austria  2022-01-06    1300899.0    10082.0       16912.0   \n",
       "\n",
       "   new_deaths  population  \n",
       "5        12.0   8939617.0  "
      ]
     },
     "metadata": {},
     "output_type": "display_data"
    },
    {
     "data": {
      "text/html": [
       "<div>\n",
       "<style scoped>\n",
       "    .dataframe tbody tr th:only-of-type {\n",
       "        vertical-align: middle;\n",
       "    }\n",
       "\n",
       "    .dataframe tbody tr th {\n",
       "        vertical-align: top;\n",
       "    }\n",
       "\n",
       "    .dataframe thead th {\n",
       "        text-align: right;\n",
       "    }\n",
       "</style>\n",
       "<table border=\"1\" class=\"dataframe\">\n",
       "  <thead>\n",
       "    <tr style=\"text-align: right;\">\n",
       "      <th></th>\n",
       "      <th>id</th>\n",
       "      <th>iso_code</th>\n",
       "      <th>location</th>\n",
       "      <th>date</th>\n",
       "      <th>total_cases</th>\n",
       "      <th>new_cases</th>\n",
       "      <th>total_deaths</th>\n",
       "      <th>new_deaths</th>\n",
       "      <th>population</th>\n",
       "    </tr>\n",
       "  </thead>\n",
       "  <tbody>\n",
       "    <tr>\n",
       "      <th>78</th>\n",
       "      <td>13812</td>\n",
       "      <td>AUT</td>\n",
       "      <td>Austria</td>\n",
       "      <td>2022-03-20</td>\n",
       "      <td>3462110.0</td>\n",
       "      <td>42322.0</td>\n",
       "      <td>18525.0</td>\n",
       "      <td>41.0</td>\n",
       "      <td>8939617.0</td>\n",
       "    </tr>\n",
       "    <tr>\n",
       "      <th>83</th>\n",
       "      <td>13817</td>\n",
       "      <td>AUT</td>\n",
       "      <td>Austria</td>\n",
       "      <td>2022-03-25</td>\n",
       "      <td>3664438.0</td>\n",
       "      <td>41281.0</td>\n",
       "      <td>18718.0</td>\n",
       "      <td>49.0</td>\n",
       "      <td>8939617.0</td>\n",
       "    </tr>\n",
       "    <tr>\n",
       "      <th>84</th>\n",
       "      <td>13818</td>\n",
       "      <td>AUT</td>\n",
       "      <td>Austria</td>\n",
       "      <td>2022-03-26</td>\n",
       "      <td>3701790.0</td>\n",
       "      <td>37352.0</td>\n",
       "      <td>18759.0</td>\n",
       "      <td>41.0</td>\n",
       "      <td>8939617.0</td>\n",
       "    </tr>\n",
       "    <tr>\n",
       "      <th>85</th>\n",
       "      <td>13819</td>\n",
       "      <td>AUT</td>\n",
       "      <td>Austria</td>\n",
       "      <td>2022-03-27</td>\n",
       "      <td>3734990.0</td>\n",
       "      <td>33200.0</td>\n",
       "      <td>18805.0</td>\n",
       "      <td>46.0</td>\n",
       "      <td>8939617.0</td>\n",
       "    </tr>\n",
       "    <tr>\n",
       "      <th>90</th>\n",
       "      <td>13824</td>\n",
       "      <td>AUT</td>\n",
       "      <td>Austria</td>\n",
       "      <td>2022-04-01</td>\n",
       "      <td>3868236.0</td>\n",
       "      <td>26188.0</td>\n",
       "      <td>19001.0</td>\n",
       "      <td>49.0</td>\n",
       "      <td>8939617.0</td>\n",
       "    </tr>\n",
       "    <tr>\n",
       "      <th>91</th>\n",
       "      <td>13825</td>\n",
       "      <td>AUT</td>\n",
       "      <td>Austria</td>\n",
       "      <td>2022-04-02</td>\n",
       "      <td>3890531.0</td>\n",
       "      <td>22295.0</td>\n",
       "      <td>19045.0</td>\n",
       "      <td>44.0</td>\n",
       "      <td>8939617.0</td>\n",
       "    </tr>\n",
       "    <tr>\n",
       "      <th>92</th>\n",
       "      <td>13826</td>\n",
       "      <td>AUT</td>\n",
       "      <td>Austria</td>\n",
       "      <td>2022-04-03</td>\n",
       "      <td>3909523.0</td>\n",
       "      <td>18992.0</td>\n",
       "      <td>19095.0</td>\n",
       "      <td>50.0</td>\n",
       "      <td>8939617.0</td>\n",
       "    </tr>\n",
       "    <tr>\n",
       "      <th>213</th>\n",
       "      <td>13947</td>\n",
       "      <td>AUT</td>\n",
       "      <td>Austria</td>\n",
       "      <td>2022-08-02</td>\n",
       "      <td>4799326.0</td>\n",
       "      <td>25283.0</td>\n",
       "      <td>20366.0</td>\n",
       "      <td>49.0</td>\n",
       "      <td>8939617.0</td>\n",
       "    </tr>\n",
       "  </tbody>\n",
       "</table>\n",
       "</div>"
      ],
      "text/plain": [
       "        id iso_code location        date  total_cases  new_cases  \\\n",
       "78   13812      AUT  Austria  2022-03-20    3462110.0    42322.0   \n",
       "83   13817      AUT  Austria  2022-03-25    3664438.0    41281.0   \n",
       "84   13818      AUT  Austria  2022-03-26    3701790.0    37352.0   \n",
       "85   13819      AUT  Austria  2022-03-27    3734990.0    33200.0   \n",
       "90   13824      AUT  Austria  2022-04-01    3868236.0    26188.0   \n",
       "91   13825      AUT  Austria  2022-04-02    3890531.0    22295.0   \n",
       "92   13826      AUT  Austria  2022-04-03    3909523.0    18992.0   \n",
       "213  13947      AUT  Austria  2022-08-02    4799326.0    25283.0   \n",
       "\n",
       "     total_deaths  new_deaths  population  \n",
       "78        18525.0        41.0   8939617.0  \n",
       "83        18718.0        49.0   8939617.0  \n",
       "84        18759.0        41.0   8939617.0  \n",
       "85        18805.0        46.0   8939617.0  \n",
       "90        19001.0        49.0   8939617.0  \n",
       "91        19045.0        44.0   8939617.0  \n",
       "92        19095.0        50.0   8939617.0  \n",
       "213       20366.0        49.0   8939617.0  "
      ]
     },
     "execution_count": 54,
     "metadata": {},
     "output_type": "execute_result"
    }
   ],
   "source": [
    "#Get all rows with date \"2022-01-06\"\n",
    "display(data.loc[data.date == \"2022-01-06\"])\n",
    "\n",
    "#Get the entries with new_cases > 1000 and new_deaths > 40\n",
    "data.loc[(data.new_cases > 1000) & (data.new_deaths > 40)]"
   ]
  },
  {
   "cell_type": "markdown",
   "id": "ea5ab4cc-32c0-43e9-90b6-59ce35500fae",
   "metadata": {},
   "source": [
    "### Combine row and colum slicing\n",
    "With the `df.loc[]` method, you can combine  row and column slicing.   \n",
    "So here, we want to get the `total_cases`, `new_cases`, `total_deaths` and `new_deaths` of austria from today:"
   ]
  },
  {
   "cell_type": "code",
   "execution_count": 55,
   "id": "84643297-38a8-422d-bef3-844686a52395",
   "metadata": {},
   "outputs": [
    {
     "data": {
      "text/html": [
       "<div>\n",
       "<style scoped>\n",
       "    .dataframe tbody tr th:only-of-type {\n",
       "        vertical-align: middle;\n",
       "    }\n",
       "\n",
       "    .dataframe tbody tr th {\n",
       "        vertical-align: top;\n",
       "    }\n",
       "\n",
       "    .dataframe thead th {\n",
       "        text-align: right;\n",
       "    }\n",
       "</style>\n",
       "<table border=\"1\" class=\"dataframe\">\n",
       "  <thead>\n",
       "    <tr style=\"text-align: right;\">\n",
       "      <th></th>\n",
       "      <th>total_cases</th>\n",
       "      <th>new_cases</th>\n",
       "      <th>total_deaths</th>\n",
       "      <th>new_deaths</th>\n",
       "    </tr>\n",
       "  </thead>\n",
       "  <tbody>\n",
       "    <tr>\n",
       "      <th>78</th>\n",
       "      <td>3462110.0</td>\n",
       "      <td>42322.0</td>\n",
       "      <td>18525.0</td>\n",
       "      <td>41.0</td>\n",
       "    </tr>\n",
       "    <tr>\n",
       "      <th>83</th>\n",
       "      <td>3664438.0</td>\n",
       "      <td>41281.0</td>\n",
       "      <td>18718.0</td>\n",
       "      <td>49.0</td>\n",
       "    </tr>\n",
       "    <tr>\n",
       "      <th>84</th>\n",
       "      <td>3701790.0</td>\n",
       "      <td>37352.0</td>\n",
       "      <td>18759.0</td>\n",
       "      <td>41.0</td>\n",
       "    </tr>\n",
       "    <tr>\n",
       "      <th>85</th>\n",
       "      <td>3734990.0</td>\n",
       "      <td>33200.0</td>\n",
       "      <td>18805.0</td>\n",
       "      <td>46.0</td>\n",
       "    </tr>\n",
       "    <tr>\n",
       "      <th>90</th>\n",
       "      <td>3868236.0</td>\n",
       "      <td>26188.0</td>\n",
       "      <td>19001.0</td>\n",
       "      <td>49.0</td>\n",
       "    </tr>\n",
       "    <tr>\n",
       "      <th>91</th>\n",
       "      <td>3890531.0</td>\n",
       "      <td>22295.0</td>\n",
       "      <td>19045.0</td>\n",
       "      <td>44.0</td>\n",
       "    </tr>\n",
       "    <tr>\n",
       "      <th>92</th>\n",
       "      <td>3909523.0</td>\n",
       "      <td>18992.0</td>\n",
       "      <td>19095.0</td>\n",
       "      <td>50.0</td>\n",
       "    </tr>\n",
       "    <tr>\n",
       "      <th>213</th>\n",
       "      <td>4799326.0</td>\n",
       "      <td>25283.0</td>\n",
       "      <td>20366.0</td>\n",
       "      <td>49.0</td>\n",
       "    </tr>\n",
       "  </tbody>\n",
       "</table>\n",
       "</div>"
      ],
      "text/plain": [
       "     total_cases  new_cases  total_deaths  new_deaths\n",
       "78     3462110.0    42322.0       18525.0        41.0\n",
       "83     3664438.0    41281.0       18718.0        49.0\n",
       "84     3701790.0    37352.0       18759.0        41.0\n",
       "85     3734990.0    33200.0       18805.0        46.0\n",
       "90     3868236.0    26188.0       19001.0        49.0\n",
       "91     3890531.0    22295.0       19045.0        44.0\n",
       "92     3909523.0    18992.0       19095.0        50.0\n",
       "213    4799326.0    25283.0       20366.0        49.0"
      ]
     },
     "execution_count": 55,
     "metadata": {},
     "output_type": "execute_result"
    }
   ],
   "source": [
    "data.loc[(data.new_cases > 1000) & (data.new_deaths > 40), [\"total_cases\", \"new_cases\", \"total_deaths\", \"new_deaths\"]]"
   ]
  },
  {
   "cell_type": "markdown",
   "id": "aa6c26a1-69cc-4c1c-a91e-f832894d952a",
   "metadata": {},
   "source": [
    "### Compute the rolling window \n",
    "Rolling window? If you want to compute mean of the last 3 days of each value in the DataFrame, you need a rolling window by using the method `rolling()`. Therefore, you can add a the parameter `min_period` to make sure, that at least 2 values are in the DataFrame to compute the mean.\n",
    "\n",
    "**Python-Syntax:**\n",
    "```python\n",
    "data.rolling(<window_size>).function() \n",
    "```"
   ]
  },
  {
   "cell_type": "code",
   "execution_count": 57,
   "id": "dbe57e47-1d73-49af-99d5-35ae2ff26d1e",
   "metadata": {},
   "outputs": [
    {
     "data": {
      "text/html": [
       "<div>\n",
       "<style scoped>\n",
       "    .dataframe tbody tr th:only-of-type {\n",
       "        vertical-align: middle;\n",
       "    }\n",
       "\n",
       "    .dataframe tbody tr th {\n",
       "        vertical-align: top;\n",
       "    }\n",
       "\n",
       "    .dataframe thead th {\n",
       "        text-align: right;\n",
       "    }\n",
       "</style>\n",
       "<table border=\"1\" class=\"dataframe\">\n",
       "  <thead>\n",
       "    <tr style=\"text-align: right;\">\n",
       "      <th></th>\n",
       "      <th>id</th>\n",
       "      <th>iso_code</th>\n",
       "      <th>location</th>\n",
       "      <th>date</th>\n",
       "      <th>total_cases</th>\n",
       "      <th>new_cases</th>\n",
       "      <th>total_deaths</th>\n",
       "      <th>new_deaths</th>\n",
       "      <th>population</th>\n",
       "      <th>new_cases_max_3d</th>\n",
       "    </tr>\n",
       "  </thead>\n",
       "  <tbody>\n",
       "    <tr>\n",
       "      <th>0</th>\n",
       "      <td>13734</td>\n",
       "      <td>AUT</td>\n",
       "      <td>Austria</td>\n",
       "      <td>2022-01-01</td>\n",
       "      <td>1274628.0</td>\n",
       "      <td>3817.0</td>\n",
       "      <td>16845.0</td>\n",
       "      <td>30.0</td>\n",
       "      <td>8939617.0</td>\n",
       "      <td>NaN</td>\n",
       "    </tr>\n",
       "    <tr>\n",
       "      <th>1</th>\n",
       "      <td>13735</td>\n",
       "      <td>AUT</td>\n",
       "      <td>Austria</td>\n",
       "      <td>2022-01-02</td>\n",
       "      <td>1278327.0</td>\n",
       "      <td>3699.0</td>\n",
       "      <td>16859.0</td>\n",
       "      <td>14.0</td>\n",
       "      <td>8939617.0</td>\n",
       "      <td>3817.0</td>\n",
       "    </tr>\n",
       "    <tr>\n",
       "      <th>2</th>\n",
       "      <td>13736</td>\n",
       "      <td>AUT</td>\n",
       "      <td>Austria</td>\n",
       "      <td>2022-01-03</td>\n",
       "      <td>1281328.0</td>\n",
       "      <td>3001.0</td>\n",
       "      <td>16867.0</td>\n",
       "      <td>8.0</td>\n",
       "      <td>8939617.0</td>\n",
       "      <td>3817.0</td>\n",
       "    </tr>\n",
       "    <tr>\n",
       "      <th>3</th>\n",
       "      <td>13737</td>\n",
       "      <td>AUT</td>\n",
       "      <td>Austria</td>\n",
       "      <td>2022-01-04</td>\n",
       "      <td>1284811.0</td>\n",
       "      <td>3483.0</td>\n",
       "      <td>16879.0</td>\n",
       "      <td>12.0</td>\n",
       "      <td>8939617.0</td>\n",
       "      <td>3699.0</td>\n",
       "    </tr>\n",
       "    <tr>\n",
       "      <th>4</th>\n",
       "      <td>13738</td>\n",
       "      <td>AUT</td>\n",
       "      <td>Austria</td>\n",
       "      <td>2022-01-05</td>\n",
       "      <td>1290817.0</td>\n",
       "      <td>6006.0</td>\n",
       "      <td>16900.0</td>\n",
       "      <td>21.0</td>\n",
       "      <td>8939617.0</td>\n",
       "      <td>6006.0</td>\n",
       "    </tr>\n",
       "    <tr>\n",
       "      <th>...</th>\n",
       "      <td>...</td>\n",
       "      <td>...</td>\n",
       "      <td>...</td>\n",
       "      <td>...</td>\n",
       "      <td>...</td>\n",
       "      <td>...</td>\n",
       "      <td>...</td>\n",
       "      <td>...</td>\n",
       "      <td>...</td>\n",
       "      <td>...</td>\n",
       "    </tr>\n",
       "    <tr>\n",
       "      <th>319</th>\n",
       "      <td>14053</td>\n",
       "      <td>AUT</td>\n",
       "      <td>Austria</td>\n",
       "      <td>2022-11-16</td>\n",
       "      <td>5502186.0</td>\n",
       "      <td>5041.0</td>\n",
       "      <td>21116.0</td>\n",
       "      <td>11.0</td>\n",
       "      <td>8939617.0</td>\n",
       "      <td>5041.0</td>\n",
       "    </tr>\n",
       "    <tr>\n",
       "      <th>320</th>\n",
       "      <td>14054</td>\n",
       "      <td>AUT</td>\n",
       "      <td>Austria</td>\n",
       "      <td>2022-11-17</td>\n",
       "      <td>5506697.0</td>\n",
       "      <td>4511.0</td>\n",
       "      <td>21124.0</td>\n",
       "      <td>8.0</td>\n",
       "      <td>8939617.0</td>\n",
       "      <td>5041.0</td>\n",
       "    </tr>\n",
       "    <tr>\n",
       "      <th>321</th>\n",
       "      <td>14055</td>\n",
       "      <td>AUT</td>\n",
       "      <td>Austria</td>\n",
       "      <td>2022-11-18</td>\n",
       "      <td>5510919.0</td>\n",
       "      <td>4222.0</td>\n",
       "      <td>21134.0</td>\n",
       "      <td>10.0</td>\n",
       "      <td>8939617.0</td>\n",
       "      <td>5041.0</td>\n",
       "    </tr>\n",
       "    <tr>\n",
       "      <th>322</th>\n",
       "      <td>14056</td>\n",
       "      <td>AUT</td>\n",
       "      <td>Austria</td>\n",
       "      <td>2022-11-19</td>\n",
       "      <td>5514701.0</td>\n",
       "      <td>3782.0</td>\n",
       "      <td>21143.0</td>\n",
       "      <td>9.0</td>\n",
       "      <td>8939617.0</td>\n",
       "      <td>4511.0</td>\n",
       "    </tr>\n",
       "    <tr>\n",
       "      <th>323</th>\n",
       "      <td>14057</td>\n",
       "      <td>AUT</td>\n",
       "      <td>Austria</td>\n",
       "      <td>2022-11-20</td>\n",
       "      <td>5517893.0</td>\n",
       "      <td>3192.0</td>\n",
       "      <td>21144.0</td>\n",
       "      <td>1.0</td>\n",
       "      <td>8939617.0</td>\n",
       "      <td>4222.0</td>\n",
       "    </tr>\n",
       "  </tbody>\n",
       "</table>\n",
       "<p>324 rows × 10 columns</p>\n",
       "</div>"
      ],
      "text/plain": [
       "        id iso_code location        date  total_cases  new_cases  \\\n",
       "0    13734      AUT  Austria  2022-01-01    1274628.0     3817.0   \n",
       "1    13735      AUT  Austria  2022-01-02    1278327.0     3699.0   \n",
       "2    13736      AUT  Austria  2022-01-03    1281328.0     3001.0   \n",
       "3    13737      AUT  Austria  2022-01-04    1284811.0     3483.0   \n",
       "4    13738      AUT  Austria  2022-01-05    1290817.0     6006.0   \n",
       "..     ...      ...      ...         ...          ...        ...   \n",
       "319  14053      AUT  Austria  2022-11-16    5502186.0     5041.0   \n",
       "320  14054      AUT  Austria  2022-11-17    5506697.0     4511.0   \n",
       "321  14055      AUT  Austria  2022-11-18    5510919.0     4222.0   \n",
       "322  14056      AUT  Austria  2022-11-19    5514701.0     3782.0   \n",
       "323  14057      AUT  Austria  2022-11-20    5517893.0     3192.0   \n",
       "\n",
       "     total_deaths  new_deaths  population  new_cases_max_3d  \n",
       "0         16845.0        30.0   8939617.0               NaN  \n",
       "1         16859.0        14.0   8939617.0            3817.0  \n",
       "2         16867.0         8.0   8939617.0            3817.0  \n",
       "3         16879.0        12.0   8939617.0            3699.0  \n",
       "4         16900.0        21.0   8939617.0            6006.0  \n",
       "..            ...         ...         ...               ...  \n",
       "319       21116.0        11.0   8939617.0            5041.0  \n",
       "320       21124.0         8.0   8939617.0            5041.0  \n",
       "321       21134.0        10.0   8939617.0            5041.0  \n",
       "322       21143.0         9.0   8939617.0            4511.0  \n",
       "323       21144.0         1.0   8939617.0            4222.0  \n",
       "\n",
       "[324 rows x 10 columns]"
      ]
     },
     "metadata": {},
     "output_type": "display_data"
    }
   ],
   "source": [
    "# Compute the max new cases of the last 3 days\n",
    "data.loc[:, \"new_cases_max_3d\"] = data.loc[:, \"new_cases\"].rolling(3, min_periods=2).max()\n",
    "display(data)"
   ]
  },
  {
   "cell_type": "markdown",
   "id": "edd5499e-ff1e-4ba6-a511-e0454a0f8c04",
   "metadata": {},
   "source": [
    "## Programming examples"
   ]
  },
  {
   "cell_type": "markdown",
   "id": "f93e0247-752e-4dd5-bff7-30b8715be6b8",
   "metadata": {},
   "source": [
    "### Programming example 1\n",
    "\n",
    "Next year, a big wedding is planned. You want to invite all your family members and friends :) Later you realize, that a wedding is pretty expensive, so you decide to delete all your aunties & oncles from the list.\n",
    "\n",
    "**Task:** \n",
    "Open the file `guestlist.txt` and read all the entries into a list. Write a function `wedding_cost_reducer()` that gets the guestlist, and creates a new guestlist with every second entry deleted and writes this list into the new file `guestlist_short.txt`."
   ]
  },
  {
   "cell_type": "code",
   "execution_count": 22,
   "id": "3dd3eb69-a408-4f95-85c1-3eaf6cbf692a",
   "metadata": {},
   "outputs": [],
   "source": [
    "# execute to create guestlist:\n",
    "with open('guestlist.txt', 'w', encoding='utf8') as datafile:\n",
    "    datafile.write('mom\\ndad\\nmother-in-law\\nfather-in-law\\nuncle Nepomuk\\naunt Margarethe\\ngrandma\\ngrandpa\\ngreat-aunt Henriette\\nSebastian\\n')\n",
    "    \n",
    "\n",
    "# Your code goes here"
   ]
  },
  {
   "cell_type": "markdown",
   "id": "3ed6dc08-ace5-40b6-83c3-6dadac3ce262",
   "metadata": {},
   "source": [
    "### Programming example 2\n",
    "\n",
    "**Even and odd numbers**\n",
    "\n",
    "You are not allowed to import anything. Make sure you test your functions. The tests get also graded so don’t delete or comment them out.\n",
    "1. Write a function `is_even`:\n",
    "\n",
    "This function should check if the given number is even or not. The function should return `True` if the number is even and `False` if not.\n",
    "\n",
    "For example: if 5 is given for number, `False` should be returned.\n",
    "\n",
    "* Parameters:\n",
    "\n",
    "| Name | Type | Description |\n",
    "|------|------|-------------|\n",
    "|number|int   |Number which should be checked if even or odd|\n",
    "\n",
    " \n",
    "* Return:\n",
    "|Type|Description|\n",
    "|----|-----------|\n",
    "|bool|`True` if the number is even, `False` if not|\n",
    "\n",
    "\n",
    "2. Write a function `check_numbers`:\n",
    "\n",
    "This function receives a file path to a text file with comma-separated numbers. The function should read this file and use the function `is_even` to check, for every number in the file, whether it is even or odd. To save the result, the function should create a dictionary with two keys, \"even\" and \"odd\", where both values are a list. If the checked number is even, it should be added to the list of the key \"even\". Otherwise, it should be added to the list of the key \"odd\". Make sure the elements in the list are integers. The function should output and return the dictionary at the end.\n",
    "\n",
    "**Hint:** use `.split(<delimiter>)` to split up a string by a <delimiter>\n",
    "\n",
    "* Parameters:\n",
    "|Name|Type|Description|\n",
    "|---|---|----|\n",
    "|file_path|str|Path to the file|\n",
    "\n",
    "* Return:\n",
    "|Type|Description|\n",
    "|---|----|\n",
    "|`dict[str, list[int]]`|Dictionary with even and odd numbers|\n",
    "    \n",
    "3. Write a function `write_numbers`:\n",
    "    \n",
    "This function recieves a file path to a file to write the dictionary containing even and odd numbers from the previous example. Write a CSV file using \"even\" and \"odd\" as column names and the numbers from those two lists as data.\n",
    "    \n",
    "* Parameters:\n",
    "|Name|Type|Description|\n",
    "|---|---|----|\n",
    "|file_path|str|Path to the file|\n",
    "|`dict[str, list[int]]`|dict|Dictionary with even and odd numbers|\n",
    "\n",
    "\n",
    "**Test your functions:**\n",
    "If you use the given file `numbers.txt` your dictionary output should look like this:\n",
    "```\n",
    "{'odd': [1, 3, 5, 7, 9, 11, 13, 15, 17, 19, 21, 23, 25, 27, 29, 31, 33, 35, 37, 39, 41, 43, 45, 47, 49, 51, 53, 55, 57, 59, 61, 63, 65, 67, 69, 71, 73, 75, 77, 79, 81, 83, 85, 87, 89, 91, 93, 95, 97, 99], \n",
    "'even': [0, 2, 4, 6, 8, 10, 12, 14, 16, 18, 20, 22, 24, 26, 28, 30, 32, 34, 36, 38, 40, 42, 44, 46, 48, 50, 52, 54, 56, 58, 60, 62, 64, 66, 68, 70, 72, 74, 76, 78, 80, 82, 84, 86, 88, 90, 92, 94, 96, 98]}\n",
    "```\n",
    "\n",
    "**As always, you need to test your implementation - this will also help with debugging! And it also gets graded.**"
   ]
  },
  {
   "cell_type": "code",
   "execution_count": 1,
   "id": "f66d71d2-8176-45f8-a504-88623217cfa0",
   "metadata": {},
   "outputs": [],
   "source": [
    "# your code goes here"
   ]
  },
  {
   "cell_type": "markdown",
   "id": "1b060a63-33ce-4cd9-97ce-5ea2e0c38622",
   "metadata": {},
   "source": [
    "### Programming example 3\n",
    "\n",
    "**DictReader**\n",
    "\n",
    "You are not allowed to import anything. Make sure you test your functions. The tests get also graded so don’t delete or comment them out.\n",
    "1. Write a function `create_dict`:\n",
    "\n",
    "This function should create a dictionary where the keys are given by the header list and the values are given by the values list. For example, the first element in the header list corresponds to the first element in the values list. Return the dictionary.\n",
    "For example, when the following headers and values are given:\n",
    "\n",
    "`header = [\"header1\", \"header2\", \"header3\"]`\n",
    "`values = [\"value1\" , \"value2\" , \"value3\" ]`\n",
    "\n",
    "the returned dictionary should look like this:\n",
    "\n",
    "`{\"header1\":\"value1\", \"header2\":\"value2\", \"header3\":\"value3\"}`\n",
    "\n",
    "* Parameters:\n",
    "|Name|Type|Description|\n",
    "|---|---|---|\n",
    "|headers|`list[str]`|List of headers|\n",
    "|values|`list[str]`|List of values|\n",
    "\n",
    "* Return:\n",
    "|Type|Description|\n",
    "|---|---|\n",
    "|`dict[str, str]`|Created dictionary from headers and values|\n",
    "\n",
    "2. Write a function `dict_reader`:\n",
    "\n",
    "This function receives a file path to a csv file with comma-separated values. The function should read the file line by line. The first line is the header, the other lines are the values for the header. Split every line by the given delimiter and save it as a list. For every data line, call the function `create_dict` with the header (list of strings) and the data line (list of strings). The returned dictionary from `create_dict` should be appended to a list. At the end, return the list. The result should be the same as if you would use the `dict_reader` form the csv module.\n",
    "\n",
    "**Hint:** use `.split(<delimiter>)` to split up a string by a <delimiter>. A delimiter can also be a newline (`\\n`)\n",
    "\n",
    "* Parameters:\n",
    "|Name|Type|Description|\n",
    "|---|---|---|\n",
    "|file_path|`str`|Path to the file|\n",
    "|delimiter|`str`|Delimiter by which the data should be splitted|\n",
    "    \n",
    "\n",
    "**Test your functions:**\n",
    "If you use the given file `data.csv` your dictionary output should look like this:\n",
    "```\n",
    "[{'date': '2020-12-09', 'location': 'Austria', 'new_cases': '2932'},\n",
    " {'date': '2020-12-08', 'location': 'Austria', 'new_cases': '2377'},\n",
    " {'date': '2020-12-08', 'location': 'Austria', 'new_cases': '2263'}]\n",
    "\n",
    "```\n",
    "\n",
    "**As always, you need to test your implementation - this will also help with debugging! And it also gets graded.**"
   ]
  },
  {
   "cell_type": "code",
   "execution_count": 2,
   "id": "57bbcb32-b5f4-454b-b4a4-fc100bda88ff",
   "metadata": {},
   "outputs": [],
   "source": [
    "# your code goes here"
   ]
  },
  {
   "cell_type": "markdown",
   "id": "8d4ecc58-83c9-43c6-be30-4c8909ae70e4",
   "metadata": {},
   "source": [
    "### Programming example 4\n",
    "\n",
    "The file `spotify_weekly_charts_cw45.csv` contains about 200 different songs from different artists. It is your job to analyse this file using the `csv`-module. You can decide which method (`csv.reader` or `csv.DictReader`) you want to use.\n",
    "\n",
    "Write a function called `find_artist_songs_in_charts`, which takes a single positional argument `artist:str` and returns/prints nothing. This function should find all songs of the given artist and save them in a different csv-file. The new file-name should include the name of the artist. Do not forget to import the csv-module. \n",
    "\n",
    "If everything works as intended, your new file content should look like this (using `Billie Eilish` as artist):\n",
    "```\n",
    "Position,Track Name,Artist,Streams\n",
    "23,Happier Than Ever,Billie Eilish,15725534\n",
    "64,Bored,Billie Eilish,8284534\n",
    "74,Happier Than Ever - Edit,Billie Eilish,7634386\n",
    "80,lovely (with Khalid),Billie Eilish,7455574\n",
    "108,bad guy,Billie Eilish,6309259\n",
    "```"
   ]
  },
  {
   "cell_type": "code",
   "execution_count": 26,
   "id": "a1617b14-46d8-4ae9-9c2f-99bd9301c141",
   "metadata": {},
   "outputs": [],
   "source": [
    "# your code goes here"
   ]
  },
  {
   "cell_type": "markdown",
   "id": "40531327-6089-457f-b0a3-ae2e4ebabde6",
   "metadata": {},
   "source": [
    "### Bonus programming example 1 (for extra 2 points)\n",
    "\n",
    "Solve the task from previous example using the `pandas` module. Additionally, print the total and average number of streams, i.e., the sum and the average of streams of all songs of this artist."
   ]
  },
  {
   "cell_type": "code",
   "execution_count": 27,
   "id": "22be269a-a529-4cdd-97d5-26c6e4980488",
   "metadata": {},
   "outputs": [],
   "source": [
    "# your code goes here"
   ]
  },
  {
   "cell_type": "markdown",
   "id": "df1a7531-298d-4374-baae-543c4eb894be",
   "metadata": {},
   "source": [
    "### Bonus programming example 2 (for extra 3 points)\n",
    "\n",
    "Using the `pandas` module read the covid dataset. Compute the rolling mean of new cases for 7 days. Plot the rolling mean for months January-March, April-June, July-September, October-November (4 plots all together). Compute the new cases as the percentage of the total population. Compute the new deaths for each month. Plot the new deaths for each month (1 plot)."
   ]
  },
  {
   "cell_type": "code",
   "execution_count": 27,
   "id": "6033b6ef-64f5-4636-b407-dccd878c79bf",
   "metadata": {},
   "outputs": [],
   "source": [
    "# your code goes here"
   ]
  }
 ],
 "metadata": {
  "kernelspec": {
   "display_name": "Python 3 (ipykernel)",
   "language": "python",
   "name": "python3"
  },
  "language_info": {
   "codemirror_mode": {
    "name": "ipython",
    "version": 3
   },
   "file_extension": ".py",
   "mimetype": "text/x-python",
   "name": "python",
   "nbconvert_exporter": "python",
   "pygments_lexer": "ipython3",
   "version": "3.10.4"
  }
 },
 "nbformat": 4,
 "nbformat_minor": 5
}
