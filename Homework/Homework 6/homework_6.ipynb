{
 "cells": [
  {
   "cell_type": "markdown",
   "id": "1492fd85-2d8e-4fb5-b2bf-fb6d4872c958",
   "metadata": {
    "tags": []
   },
   "source": [
    "# Homework 6"
   ]
  },
  {
   "cell_type": "markdown",
   "id": "9e21bb7b-6d1b-4cda-afbe-eb215dee6f5b",
   "metadata": {
    "tags": []
   },
   "source": [
    "## Overview\n",
    "* List comprehensions\n",
    "* Nested loops\n",
    "* Functions\n",
    "* Name scope and variable scope\n",
    "* Programming examples"
   ]
  },
  {
   "cell_type": "markdown",
   "id": "5ab23d93-49e6-48f2-9bdc-a3db0b42c080",
   "metadata": {},
   "source": [
    "# List comprehensions"
   ]
  },
  {
   "cell_type": "markdown",
   "id": "009675bb-1371-4840-b28e-595cd8f81143",
   "metadata": {},
   "source": [
    "You can rewrite every for loop, which creates a list into a list comprehension. The syntax is as follows: \n",
    "```python\n",
    "resulting_list = [iterator for iterator in sequence]\n",
    "```\n",
    "You can also combine this with conditions:\n",
    "```python\n",
    "resulting_list = [iterator for iterator in sequence if condition]\n",
    "```"
   ]
  },
  {
   "cell_type": "code",
   "execution_count": 1,
   "id": "e6bda6ef-51e6-46d2-83c1-e20e7bcf7f98",
   "metadata": {},
   "outputs": [
    {
     "name": "stdout",
     "output_type": "stream",
     "text": [
      "[1.0, 2.0, 3.0]\n"
     ]
    }
   ],
   "source": [
    "squared_numbers = [1, 4, 9]\n",
    "\n",
    "# this loop creates a list where every element is the square root of a given list\n",
    "numbers = []\n",
    "for squared_number in squared_numbers:\n",
    "    numbers.append(squared_number ** (1 / 2))\n",
    "\n",
    "print(numbers)"
   ]
  },
  {
   "cell_type": "code",
   "execution_count": 2,
   "id": "96377eb2-6a40-42fd-8377-7978ce336cd9",
   "metadata": {},
   "outputs": [
    {
     "name": "stdout",
     "output_type": "stream",
     "text": [
      "[1.0, 2.0, 3.0]\n"
     ]
    }
   ],
   "source": [
    "# this is the list comprehension equivalent\n",
    "numbers = [squared_number ** (1 / 2) for squared_number in squared_numbers]\n",
    "print(numbers)"
   ]
  },
  {
   "cell_type": "markdown",
   "id": "a5be7299-76b7-4c82-880d-12e224ac90ec",
   "metadata": {},
   "source": [
    "You can also use conditions inside a list comprehension:"
   ]
  },
  {
   "cell_type": "code",
   "execution_count": 3,
   "id": "7ea20bcf-55f2-4234-8c22-fd274093cd19",
   "metadata": {},
   "outputs": [
    {
     "name": "stdout",
     "output_type": "stream",
     "text": [
      "[6, 10, 15, 18]\n"
     ]
    }
   ],
   "source": [
    "random_numbers = [6, 90, 10, 15, 114, 25, 18]\n",
    "\n",
    "filtered_numbers = []\n",
    "\n",
    "for number in random_numbers:\n",
    "    if number < 20:\n",
    "        filtered_numbers.append(number)\n",
    "\n",
    "print(filtered_numbers)"
   ]
  },
  {
   "cell_type": "code",
   "execution_count": 4,
   "id": "e3ec0d5c-2c44-415c-8ea4-af815936c171",
   "metadata": {},
   "outputs": [
    {
     "name": "stdout",
     "output_type": "stream",
     "text": [
      "[6, 10, 15, 18]\n"
     ]
    }
   ],
   "source": [
    "filtered_numbers = [number for number in random_numbers if number < 20]\n",
    "print(filtered_numbers)"
   ]
  },
  {
   "cell_type": "markdown",
   "id": "444ddc65-e0e8-49a3-a7b6-685c4acc0f1c",
   "metadata": {},
   "source": [
    "Ok let's get even more advanced since we are already there😉 Sometimes, list comprehensions handle a lot of data occupying a lot of computer memory. To prevent this we can use generator comprehensions creating a generator object, which occupies only a small amount of memory. This is a lazy object, which only calculates the next element when needed, not all the elements at once as a list comprehension. A generator comprehension is created with round brackets instead of square brackets."
   ]
  },
  {
   "cell_type": "code",
   "execution_count": 5,
   "id": "a659c936-f73f-4464-8c67-31f5ac2ed71f",
   "metadata": {},
   "outputs": [
    {
     "name": "stdout",
     "output_type": "stream",
     "text": [
      "Size of the list comprehension object: 8448728 bytes\n",
      "Size of the generator comprehension object: 104 bytes\n"
     ]
    }
   ],
   "source": [
    "import sys\n",
    "list_comprehension = [element ** 4 for element in range(1000000)]\n",
    "print(f'Size of the list comprehension object: { sys.getsizeof(list_comprehension)} bytes')\n",
    "\n",
    "generator_comprehension = (element ** 4 for element in range(1000000))\n",
    "print(f'Size of the generator comprehension object: {sys.getsizeof(generator_comprehension)} bytes')"
   ]
  },
  {
   "cell_type": "markdown",
   "id": "05c8734a-76fc-4469-9331-202b6fef7f4e",
   "metadata": {},
   "source": [
    "# Nested loops"
   ]
  },
  {
   "cell_type": "markdown",
   "id": "6f3febca-c200-4f1f-b630-37c2bb97d4c1",
   "metadata": {},
   "source": [
    "A nested loop is a loop inside of another loop. We call the nested loop also an inner loop, and the other loop, in which an inner loop is included, an outer loop. An outer loop can contain more than one inner loop, and also the nesting can be repeated arbitrarly many times. The inner loop will be executed as many times as there are iterations in the outer loop. Hence, the total number of iterations of the inner loop will be the product of the number of iterations of the outer loop and the number of the iteration of that inner loop. Let us see an example:"
   ]
  },
  {
   "cell_type": "code",
   "execution_count": 6,
   "id": "111d52d5-a7d8-49ad-92df-110a91e22b3a",
   "metadata": {},
   "outputs": [
    {
     "name": "stdout",
     "output_type": "stream",
     "text": [
      "****************************************\n",
      "Iteration counter of the outer loop: 1\n",
      "****************************************\n",
      "Iteration counter of the inner loop: 1\n",
      "Iteration counter of the inner loop: 2\n",
      "Iteration counter of the inner loop: 3\n",
      "Iteration counter of the inner loop: 4\n",
      "Iteration counter of the inner loop: 5\n",
      "****************************************\n",
      "Iteration counter of the outer loop: 2\n",
      "****************************************\n",
      "Iteration counter of the inner loop: 6\n",
      "Iteration counter of the inner loop: 7\n",
      "Iteration counter of the inner loop: 8\n",
      "Iteration counter of the inner loop: 9\n",
      "Iteration counter of the inner loop: 10\n",
      "****************************************\n",
      "Iteration counter of the outer loop: 3\n",
      "****************************************\n",
      "Iteration counter of the inner loop: 11\n",
      "Iteration counter of the inner loop: 12\n",
      "Iteration counter of the inner loop: 13\n",
      "Iteration counter of the inner loop: 14\n",
      "Iteration counter of the inner loop: 15\n",
      "****************************************\n",
      "Iteration counter of the outer loop: 4\n",
      "****************************************\n",
      "Iteration counter of the inner loop: 16\n",
      "Iteration counter of the inner loop: 17\n",
      "Iteration counter of the inner loop: 18\n",
      "Iteration counter of the inner loop: 19\n",
      "Iteration counter of the inner loop: 20\n",
      "****************************************\n",
      "Iteration counter of the outer loop: 5\n",
      "****************************************\n",
      "Iteration counter of the inner loop: 21\n",
      "Iteration counter of the inner loop: 22\n",
      "Iteration counter of the inner loop: 23\n",
      "Iteration counter of the inner loop: 24\n",
      "Iteration counter of the inner loop: 25\n",
      "****************************************\n",
      "Iteration counter of the outer loop: 6\n",
      "****************************************\n",
      "Iteration counter of the inner loop: 26\n",
      "Iteration counter of the inner loop: 27\n",
      "Iteration counter of the inner loop: 28\n",
      "Iteration counter of the inner loop: 29\n",
      "Iteration counter of the inner loop: 30\n",
      "****************************************\n",
      "Iteration counter of the outer loop: 7\n",
      "****************************************\n",
      "Iteration counter of the inner loop: 31\n",
      "Iteration counter of the inner loop: 32\n",
      "Iteration counter of the inner loop: 33\n",
      "Iteration counter of the inner loop: 34\n",
      "Iteration counter of the inner loop: 35\n",
      "****************************************\n",
      "Iteration counter of the outer loop: 8\n",
      "****************************************\n",
      "Iteration counter of the inner loop: 36\n",
      "Iteration counter of the inner loop: 37\n",
      "Iteration counter of the inner loop: 38\n",
      "Iteration counter of the inner loop: 39\n",
      "Iteration counter of the inner loop: 40\n",
      "****************************************\n",
      "Iteration counter of the outer loop: 9\n",
      "****************************************\n",
      "Iteration counter of the inner loop: 41\n",
      "Iteration counter of the inner loop: 42\n",
      "Iteration counter of the inner loop: 43\n",
      "Iteration counter of the inner loop: 44\n",
      "Iteration counter of the inner loop: 45\n",
      "****************************************\n",
      "Iteration counter of the outer loop: 10\n",
      "****************************************\n",
      "Iteration counter of the inner loop: 46\n",
      "Iteration counter of the inner loop: 47\n",
      "Iteration counter of the inner loop: 48\n",
      "Iteration counter of the inner loop: 49\n",
      "Iteration counter of the inner loop: 50\n"
     ]
    }
   ],
   "source": [
    "count_outer = 1\n",
    "count_inner = 1\n",
    "for i in range(10):\n",
    "    print('*' * 40)\n",
    "    print(f'Iteration counter of the outer loop: {count_outer}')\n",
    "    print('*' * 40)\n",
    "    count_outer += 1\n",
    "    for j in range(5):\n",
    "        print(f'Iteration counter of the inner loop: {count_inner}')\n",
    "        count_inner += 1"
   ]
  },
  {
   "cell_type": "markdown",
   "id": "692e001a-7949-435f-a514-8a2ef1d3e84c",
   "metadata": {},
   "source": [
    "Hence, for each iteration step of the outer loop, the inner loop restarts its execution and goes through all its iteration steps again.\n",
    "\n",
    "Typically, we will use nested loops if we have nested data structures, such as nested lists, or we would like to produce some multidimensional data structure or output. For example, we can use the nested loops to output the multiplication table for one-digit numbers."
   ]
  },
  {
   "cell_type": "code",
   "execution_count": 7,
   "id": "438aa38d-53e4-4995-b26f-fe529652d641",
   "metadata": {},
   "outputs": [
    {
     "name": "stdout",
     "output_type": "stream",
     "text": [
      "1 2 3 4 5 6 7 8 9 10 \n",
      "2 4 6 8 10 12 14 16 18 20 \n",
      "3 6 9 12 15 18 21 24 27 30 \n",
      "4 8 12 16 20 24 28 32 36 40 \n",
      "5 10 15 20 25 30 35 40 45 50 \n",
      "6 12 18 24 30 36 42 48 54 60 \n",
      "7 14 21 28 35 42 49 56 63 70 \n",
      "8 16 24 32 40 48 56 64 72 80 \n",
      "9 18 27 36 45 54 63 72 81 90 \n",
      "10 20 30 40 50 60 70 80 90 100 \n"
     ]
    }
   ],
   "source": [
    "for x in range(1, 11):\n",
    "    for y in range(1, 11):\n",
    "        print(x * y, end=' ')\n",
    "    print()"
   ]
  },
  {
   "cell_type": "markdown",
   "id": "e4de7182-103b-44c3-899e-6ddfb808d3c1",
   "metadata": {},
   "source": [
    "Of course, we can nest different types of loops within each other. Recollect our linear regression fit, where we nested `for` loops within a `while` loop."
   ]
  },
  {
   "cell_type": "code",
   "execution_count": 8,
   "id": "aa3c4eed-1476-41e7-9091-c8f641cd4e6f",
   "metadata": {},
   "outputs": [
    {
     "name": "stdin",
     "output_type": "stream",
     "text": [
      "Enter the number of data points:  1\n",
      "Enter the x coordinate of the 0-th point:  1\n",
      "Enter the y coordinate of the 0-th point:  2\n"
     ]
    },
    {
     "name": "stdout",
     "output_type": "stream",
     "text": [
      "Slope of the best fitting line is 3.7414146907147527.\n",
      "Intercept of the best fitting line is -1.258585309285244.\n",
      "The error is 0.23312421157160232.\n",
      "The algorithm converged in 163 steps.\n"
     ]
    }
   ],
   "source": [
    "n = int(input('Enter the number of data points: '))\n",
    "\n",
    "data = []\n",
    "count = 0\n",
    "while count < n:\n",
    "    x = float(input(f'Enter the x coordinate of the {count}-th point: '))\n",
    "    y = float(input(f'Enter the y coordinate of the {count}-th point: '))\n",
    "    data.append((x, y))\n",
    "    count += 1\n",
    "\n",
    "tol = 1e-2\n",
    "learning_rate = 1e-2\n",
    "a = 10\n",
    "b = 5\n",
    "error = 0\n",
    "error_old = 1\n",
    "count = 0\n",
    "\n",
    "while abs(error_old - error) > tol:\n",
    "    a_grad = 0\n",
    "    b_grad = 0\n",
    "    for point in data:\n",
    "        a_grad += (a * point[0] + b - point[1]) * point[0]\n",
    "        b_grad += a * point[0] + b - point[1]\n",
    "    a -= learning_rate * a_grad\n",
    "    b -= learning_rate * b_grad\n",
    "    \n",
    "    error_old = error\n",
    "    error = 0\n",
    "    for point in data:\n",
    "        error += ((a * point[0] + b) - point[1]) ** 2\n",
    "    \n",
    "    count += 1\n",
    "    \n",
    "print(f'Slope of the best fitting line is {a}.')\n",
    "print(f'Intercept of the best fitting line is {b}.')\n",
    "print(f'The error is {error}.')\n",
    "print(f'The algorithm converged in {count} steps.')"
   ]
  },
  {
   "cell_type": "markdown",
   "id": "2d95d27b-81fa-4e9f-bf55-7e50a361809c",
   "metadata": {},
   "source": [
    "We can use `break` and `continue` statements in the same way with the nested loops. They are always associated with the loop in which they are used.\n",
    "\n",
    "In the next example we are checking whether the elements from the first list belong also to the second list, and if that is the case we `break` out of the second loop immediately to not waste computation time."
   ]
  },
  {
   "cell_type": "code",
   "execution_count": 9,
   "id": "1c71bc61-5bae-4c03-9da2-c88d079539d4",
   "metadata": {},
   "outputs": [
    {
     "name": "stdout",
     "output_type": "stream",
     "text": [
      "5 belongs to both lists.\n",
      "6 belongs to both lists.\n"
     ]
    }
   ],
   "source": [
    "first = [2, 5, 6, 7]\n",
    "second = [0, 6, 5, 1]\n",
    "\n",
    "for x in first:\n",
    "    for y in second:\n",
    "        if x == y:\n",
    "            print(f'{x} belongs to both lists.')\n",
    "            break"
   ]
  },
  {
   "cell_type": "markdown",
   "id": "76dce5bb-88dc-4271-b0b6-ef5c5073c1a5",
   "metadata": {},
   "source": [
    "In this next example we do not want to divide with zero, therefore we use `continue` when we encounter zero in the denominators."
   ]
  },
  {
   "cell_type": "code",
   "execution_count": 10,
   "id": "5dbf3d03-bed8-4e46-a982-64156f8c5f6c",
   "metadata": {},
   "outputs": [
    {
     "name": "stdout",
     "output_type": "stream",
     "text": [
      "3 / 9 = 0.3333333333333333\n",
      "3 / 4 = 0.75\n",
      "3 / 5 = 0.6\n",
      "3 / 3 = 1.0\n",
      "3 / 4 = 0.75\n",
      "5 / 9 = 0.5555555555555556\n",
      "5 / 4 = 1.25\n",
      "5 / 5 = 1.0\n",
      "5 / 3 = 1.6666666666666667\n",
      "5 / 4 = 1.25\n",
      "6 / 9 = 0.6666666666666666\n",
      "6 / 4 = 1.5\n",
      "6 / 5 = 1.2\n",
      "6 / 3 = 2.0\n",
      "6 / 4 = 1.5\n",
      "-1 / 9 = -0.1111111111111111\n",
      "-1 / 4 = -0.25\n",
      "-1 / 5 = -0.2\n",
      "-1 / 3 = -0.3333333333333333\n",
      "-1 / 4 = -0.25\n"
     ]
    }
   ],
   "source": [
    "numerators = [3, 5, 6, -1]\n",
    "denominators = [9, 4, 5, 0, 3, 4]\n",
    "\n",
    "for numerator in numerators:\n",
    "    for denominator in denominators:\n",
    "        if denominator == 0:\n",
    "            continue\n",
    "        else:\n",
    "            print(f'{numerator} / {denominator} = {numerator / denominator}')"
   ]
  },
  {
   "cell_type": "markdown",
   "id": "6b045b25-7cd3-4cd9-b9d8-5edbdae1f6d5",
   "metadata": {},
   "source": [
    "We can also combine nested loops and list comprehensions. In the next example we want to create a new list, which keeps the product of all pairs of numbers from two other lists. For those two other lists, we will use `first` and `second` lists that we defined in one of the previous cells."
   ]
  },
  {
   "cell_type": "code",
   "execution_count": 11,
   "id": "4627d3f7-e4ad-4202-8cef-e921b8247470",
   "metadata": {},
   "outputs": [
    {
     "name": "stdout",
     "output_type": "stream",
     "text": [
      "[0, 12, 10, 2, 0, 30, 25, 5, 0, 36, 30, 6, 0, 42, 35, 7]\n"
     ]
    }
   ],
   "source": [
    "products = []\n",
    "\n",
    "for x in first:\n",
    "    for y in second:\n",
    "        products.append(x * y)\n",
    "\n",
    "print(products)"
   ]
  },
  {
   "cell_type": "markdown",
   "id": "b42d72d8-3988-4ab4-b080-5b2bb76f0b70",
   "metadata": {},
   "source": [
    "Now the same result with a list comprehension."
   ]
  },
  {
   "cell_type": "code",
   "execution_count": 12,
   "id": "e1b333b0-341b-48b5-b047-6b27cfd5c636",
   "metadata": {},
   "outputs": [
    {
     "name": "stdout",
     "output_type": "stream",
     "text": [
      "[0, 12, 10, 2, 0, 30, 25, 5, 0, 36, 30, 6, 0, 42, 35, 7]\n"
     ]
    }
   ],
   "source": [
    "products = [x * y for x in first for y in second]\n",
    "print(products)"
   ]
  },
  {
   "cell_type": "markdown",
   "id": "cae8e454-c7bd-4fb3-b3ad-5b11176f9d7d",
   "metadata": {},
   "source": [
    "## Functions\n",
    "https://docs.python.org/3.9/tutorial/controlflow.html#defining-functions  \n",
    "\n",
    "Generally, functions are blocks of code, which run when the user calls (invokes) these functions. We can pass data to a function in the form of parameters (arguments). Typically, functions will process the arguments and compute an output value(s), which are then returned to the caller. \n",
    "\n",
    "So why should we use functions? There are a few reasons:\n",
    "* Functions facilitate reusing of code snippets.\n",
    "* Functions enable for a better code structuring.\n",
    "* Functions allow for quick changing of code throughout the program without need to copy/paste the code.\n",
    "\n",
    "We can use a function on similar but different input data to get the desired output without rewriting a lot of code. For example, look at the following figure. We have a function (`add_one_side`), which adds one side to a geometric form. We now can input different geometric forms to the function and get another geometric form but with one more side.\n",
    "\n",
    "<img src=\"https://content.codecademy.com/courses/learn-python-functions/python-functions.gif\" width=\"500\" />\n",
    "\n",
    "(gif taken from [https://www.codecademy.com](https://www.codecademy.com/courses/learn-python-3/lessons/intro-to-functions/exercises/introduction))"
   ]
  },
  {
   "cell_type": "markdown",
   "id": "181be83f-87b7-4580-92bc-0c82690057dd",
   "metadata": {},
   "source": [
    "### Defining functions in python\n",
    "Now that we are acquinted with the concept of functions let us have a look at how we can define and use functions in python. For that we use define or `def` keyword:\n",
    "```python\n",
    "# Use \"def\" to create new functions\n",
    "def function_name(arg1, arg2, ..., argN):\n",
    "    # do something\n",
    "    return something # optional!\n",
    "```\n",
    "Ok. What is this all? Every definition of a function in python starts with the `def` keyword followed by the function name. For guidelines on function names please consult again the [style guide](https://github.com/dhelic/focsp/blob/main/style.md).\n",
    "\n",
    "Typically, we want to pass data to a function. This is done by parameters (arguments). The parameters are defined in the round brackets directly after the function name. You can add as many arguments as you need and they are all separated by comma. At the end of the line we need to add the colon!  \n",
    "\n",
    "With function declaration defined, we can now write our code inside the function. It is important to tell python which part is part of the function and which is not. So everything inside the function needs to be indented (by 4 spaces). At the end of the function we can return values by using the `return` keyword followed by the value we want to return.\n",
    "\n",
    "Let's try it!"
   ]
  },
  {
   "cell_type": "code",
   "execution_count": 13,
   "id": "777a15e3-9963-433c-9ca2-a53a618e5b88",
   "metadata": {},
   "outputs": [
    {
     "name": "stdout",
     "output_type": "stream",
     "text": [
      "Outside the function\n"
     ]
    }
   ],
   "source": [
    "def hello_world():\n",
    "    print('Inside the function')\n",
    "\n",
    "print('Outside the function')"
   ]
  },
  {
   "cell_type": "markdown",
   "id": "4db7cc58-d17d-48c6-a78a-9380c1187f3a",
   "metadata": {},
   "source": [
    "So we created a function `hello_world` with no parameters (notice the empty round brackets). The function prints \"Inside the function\" and returns nothing explicit (*if a function has no return it returns `None` by default -> for simplicity we say the function returns nothing even if this is not really technically correct*) .\n",
    "\n",
    "But what happend here? Why did we only see the \"Outside the function\" string and not the \"inside the Function\" string?  \n",
    "**A function has to be _defined_ __and__ _executed_ for something to happen!** We execute the function by calling (invoking) it.\n",
    "So, let us now call the function. This is done by the function name followed by the round brackets. If we would have arguments defined we would also need to pass them here."
   ]
  },
  {
   "cell_type": "code",
   "execution_count": 14,
   "id": "3b4441a3-e70b-40bb-827c-1a9d5de4d5c7",
   "metadata": {},
   "outputs": [
    {
     "name": "stdout",
     "output_type": "stream",
     "text": [
      "Inside the function\n"
     ]
    }
   ],
   "source": [
    "hello_world()"
   ]
  },
  {
   "cell_type": "markdown",
   "id": "a2d8c2d3-50b7-4ccc-bc8e-d38936d4a067",
   "metadata": {},
   "source": [
    "### Positional parameters (arguments) and default parameters (keyword arguments)\n",
    "\n",
    "#### Positional parameters (arguments)\n",
    "Next we talk about parameters. We can pass data to a function by parameters. We first need to define the parameters inside the round brackets of the function definition. Notice: you can choose every name for these parameters and they are defined inside the function. **Only inside the function**. These variables are also called local variables since they are part of the local function space.  \n",
    "\n",
    "Let's try to create a function with two parameters. The function should subtract the second parameter from the first and the return the result of that subtraction. Notice that the order of parameters when calling this function (or any other function for that matter) is important -> therefore, these parameters  are called positional parameters as their position matters."
   ]
  },
  {
   "cell_type": "code",
   "execution_count": 15,
   "id": "7d352a61-ce1a-4ce2-b385-aaece6d41fcc",
   "metadata": {},
   "outputs": [],
   "source": [
    "def subtract(x, y):\n",
    "    return x - y"
   ]
  },
  {
   "cell_type": "code",
   "execution_count": 16,
   "id": "8a1126ea-34fd-4a1a-ad3a-76839abbef9c",
   "metadata": {},
   "outputs": [
    {
     "data": {
      "text/plain": [
       "-2"
      ]
     },
     "execution_count": 16,
     "metadata": {},
     "output_type": "execute_result"
    }
   ],
   "source": [
    "subtract(5, 7)"
   ]
  },
  {
   "cell_type": "markdown",
   "id": "4da257ce-d04d-438a-b4f2-cbd93f7e831f",
   "metadata": {},
   "source": [
    "Now we can see the code reuse in action: we can call our function with different parameters."
   ]
  },
  {
   "cell_type": "code",
   "execution_count": 17,
   "id": "1d617fe2-f486-47cc-b3db-c1d820d6fa3d",
   "metadata": {},
   "outputs": [
    {
     "name": "stdout",
     "output_type": "stream",
     "text": [
      "2\n",
      "-100\n",
      "-15\n"
     ]
    }
   ],
   "source": [
    "print(subtract(7, 5))\n",
    "print(subtract(100, 200))\n",
    "print(subtract(-10, 5))"
   ]
  },
  {
   "cell_type": "markdown",
   "id": "2efa846b-9700-411a-b05c-980c4e76ee5b",
   "metadata": {},
   "source": [
    "It is important that you **pass all parameters to the function when calling**, else you will encounter an error:"
   ]
  },
  {
   "cell_type": "code",
   "execution_count": 18,
   "id": "aaf7e04f-3c93-4a8b-8b1c-5439fc5f2fab",
   "metadata": {},
   "outputs": [
    {
     "ename": "TypeError",
     "evalue": "subtract() missing 1 required positional argument: 'y'",
     "output_type": "error",
     "traceback": [
      "\u001b[1;31m---------------------------------------------------------------------------\u001b[0m",
      "\u001b[1;31mTypeError\u001b[0m                                 Traceback (most recent call last)",
      "Input \u001b[1;32mIn [18]\u001b[0m, in \u001b[0;36m<cell line: 1>\u001b[1;34m()\u001b[0m\n\u001b[1;32m----> 1\u001b[0m \u001b[43msubtract\u001b[49m\u001b[43m(\u001b[49m\u001b[38;5;241;43m5\u001b[39;49m\u001b[43m)\u001b[49m\n",
      "\u001b[1;31mTypeError\u001b[0m: subtract() missing 1 required positional argument: 'y'"
     ]
    }
   ],
   "source": [
    "subtract(5) # one argument missing -> TypeError"
   ]
  },
  {
   "cell_type": "markdown",
   "id": "e21cd3a0-421c-439e-9695-34ebbc25b6bb",
   "metadata": {},
   "source": [
    "The same if you pass too many parameters:"
   ]
  },
  {
   "cell_type": "code",
   "execution_count": 19,
   "id": "3cb6f85e-e7d9-4e3b-a9bb-cfc16dccc4e2",
   "metadata": {},
   "outputs": [
    {
     "ename": "TypeError",
     "evalue": "subtract() takes 2 positional arguments but 3 were given",
     "output_type": "error",
     "traceback": [
      "\u001b[1;31m---------------------------------------------------------------------------\u001b[0m",
      "\u001b[1;31mTypeError\u001b[0m                                 Traceback (most recent call last)",
      "Input \u001b[1;32mIn [19]\u001b[0m, in \u001b[0;36m<cell line: 1>\u001b[1;34m()\u001b[0m\n\u001b[1;32m----> 1\u001b[0m \u001b[43msubtract\u001b[49m\u001b[43m(\u001b[49m\u001b[38;5;241;43m5\u001b[39;49m\u001b[43m,\u001b[49m\u001b[43m \u001b[49m\u001b[38;5;241;43m4\u001b[39;49m\u001b[43m,\u001b[49m\u001b[43m \u001b[49m\u001b[38;5;241;43m3\u001b[39;49m\u001b[43m)\u001b[49m\n",
      "\u001b[1;31mTypeError\u001b[0m: subtract() takes 2 positional arguments but 3 were given"
     ]
    }
   ],
   "source": [
    "subtract(5, 4, 3) # one argument extra -> TypeError"
   ]
  },
  {
   "cell_type": "markdown",
   "id": "cd590651-ff21-4f66-8204-8edc3d1f8583",
   "metadata": {},
   "source": [
    "#### Default parameters (keyword arguments)\n",
    "Let's now take a look into default parameters. They are very similar to positional parameters but they have a default value included in the function definition. When calling the function, it is not necessary to pass the default parameter. If nothing is passed for the default parameter, then the default value is used. No TypeError is raised. However, if we decide to pass the values for the default paramerters, the default values are then overwritten. Default parameters can only be defined **after** positional parameters.  \n",
    "\n",
    "Let's try this out:"
   ]
  },
  {
   "cell_type": "code",
   "execution_count": 20,
   "id": "c0771cec-11ac-4b09-b43a-636619dede60",
   "metadata": {},
   "outputs": [],
   "source": [
    "def root(number, degree=2):\n",
    "    return number ** (1 / degree)"
   ]
  },
  {
   "cell_type": "code",
   "execution_count": 21,
   "id": "bb15c2c3-85c7-4cb1-a99c-373a41e7ebb8",
   "metadata": {},
   "outputs": [
    {
     "data": {
      "text/plain": [
       "1.4142135623730951"
      ]
     },
     "execution_count": 21,
     "metadata": {},
     "output_type": "execute_result"
    }
   ],
   "source": [
    "root(2)"
   ]
  },
  {
   "cell_type": "code",
   "execution_count": 22,
   "id": "14eeaf2a-e4ad-481f-a0c1-210839448c94",
   "metadata": {},
   "outputs": [
    {
     "data": {
      "text/plain": [
       "1.2599210498948732"
      ]
     },
     "execution_count": 22,
     "metadata": {},
     "output_type": "execute_result"
    }
   ],
   "source": [
    "root(2, degree=3)"
   ]
  },
  {
   "cell_type": "markdown",
   "id": "81b1884e-7145-47ec-b832-7b683e0e4c55",
   "metadata": {},
   "source": [
    "### Return values\n",
    "Last but not least, let us talk about the return values. They are used to return the results of computation in the function to the outside, i.e., to the caller of the function. Again, when no return is present python automatically returns `None`, which can be seen when looking at the return value of our first function:"
   ]
  },
  {
   "cell_type": "code",
   "execution_count": 23,
   "id": "a774ac57-a5ec-40be-a6de-a7e7249cc1f2",
   "metadata": {
    "scrolled": true
   },
   "outputs": [
    {
     "name": "stdout",
     "output_type": "stream",
     "text": [
      "Inside the function\n",
      "None\n"
     ]
    }
   ],
   "source": [
    "print(hello_world())"
   ]
  },
  {
   "cell_type": "markdown",
   "id": "7aba3b8e-9e92-431f-8f8a-7519abb9fa10",
   "metadata": {},
   "source": [
    "Now let us create a function `sqrt`, which computes and returns the square root of a given number:"
   ]
  },
  {
   "cell_type": "code",
   "execution_count": 24,
   "id": "3f80cef7-5864-42f4-929b-38a4bb558658",
   "metadata": {},
   "outputs": [],
   "source": [
    "def sqrt(x):\n",
    "    return x ** 0.5"
   ]
  },
  {
   "cell_type": "code",
   "execution_count": 25,
   "id": "bfa4a391-0d84-4fad-8cba-86dbe45dd8f7",
   "metadata": {},
   "outputs": [
    {
     "name": "stdout",
     "output_type": "stream",
     "text": [
      "The square root of 7 is 2.6457513110645907\n"
     ]
    }
   ],
   "source": [
    "print(f'The square root of 7 is {sqrt(7)}')"
   ]
  },
  {
   "cell_type": "markdown",
   "id": "b99c050b-72c1-48b7-bb7b-6efec2c84505",
   "metadata": {},
   "source": [
    "We can also return more than one value by surrounding the return values with round brackets (*we actually return a tuple here but more about tuples later*)."
   ]
  },
  {
   "cell_type": "code",
   "execution_count": 26,
   "id": "c625dd4c-6a83-46f8-920f-aaa2a2760c3a",
   "metadata": {},
   "outputs": [],
   "source": [
    "def swap(x, y):\n",
    "    return (y, x)"
   ]
  },
  {
   "cell_type": "code",
   "execution_count": 27,
   "id": "1bd7d477-2203-4bf3-bafd-f89395647ce4",
   "metadata": {},
   "outputs": [
    {
     "name": "stdout",
     "output_type": "stream",
     "text": [
      "4 5\n"
     ]
    }
   ],
   "source": [
    "a, b = swap(5, 4)\n",
    "print(a, b)"
   ]
  },
  {
   "cell_type": "markdown",
   "id": "fab7e01b-fbe9-4fee-833d-48bf32a0bdc9",
   "metadata": {},
   "source": [
    "### Type hinting\n",
    "https://docs.python.org/3/library/typing.html  \n",
    "\n",
    "Since we always want to create code, which is easy to read and maintain, we can signal other users which parameter types a function has and what the function should return by adding type hints:"
   ]
  },
  {
   "cell_type": "code",
   "execution_count": 28,
   "id": "b53a94d2-cb43-4eaa-8465-4e134ee381b0",
   "metadata": {},
   "outputs": [],
   "source": [
    "def a_very_usefull_function(first_param: int, second_param: float, default_param: list[float] = [1.2, 2.1]) -> str:\n",
    "    # do something\n",
    "    \n",
    "    return 'some string as defined'"
   ]
  },
  {
   "cell_type": "markdown",
   "id": "5e03621b-e1d4-419f-830a-689979101773",
   "metadata": {},
   "source": [
    "Notice here: we tell the user that the first parameter *should* be a integer, the second *should* be a float and the default parameter *should* be a list of floats. The function returns a string. These type hints are, as the name suggests only hints and don't prevent from passing other types than defined.  \n",
    "\n",
    "We encourage you to always add typehints 😊"
   ]
  },
  {
   "cell_type": "markdown",
   "id": "f44791ac-3ba3-4201-80ee-138ef5bf003f",
   "metadata": {},
   "source": [
    "## Name scope and variable scope\n",
    "\n",
    "We use [pythontutor](http://pythontutor.com/visualize.html#mode=edit) in this part of the notebook to visualize the internal workflow of python programms."
   ]
  },
  {
   "cell_type": "markdown",
   "id": "2420de4d-9c14-4786-a211-488da31eddd0",
   "metadata": {},
   "source": [
    "### Variables in python\n",
    "\n",
    "In python every variable is an object. If we create a new variable we actually create a reference to an object."
   ]
  },
  {
   "cell_type": "markdown",
   "id": "7691ad6d-e3a9-46ff-9e54-5f7170491fb7",
   "metadata": {},
   "source": [
    "![reference](reference.png)"
   ]
  },
  {
   "cell_type": "markdown",
   "id": "1498e2a1-5794-4bf8-a9c5-42eb33255f1f",
   "metadata": {},
   "source": [
    "Objects have an identity/id which is a unique number. The objects also have a type (e.g., int for an integer) and they have a value, for example 1337 as shown in the picture. The example below illustrates that more than one variable may refer to the same object, i.e., both `variable` and the new variable `variable_1` refer to the same object. No new object is created for `variable_1`."
   ]
  },
  {
   "cell_type": "code",
   "execution_count": 29,
   "id": "610713f4-a0f5-4a0f-893f-efaa429781be",
   "metadata": {},
   "outputs": [
    {
     "name": "stdout",
     "output_type": "stream",
     "text": [
      "1800249128848 <class 'int'> 1337\n",
      "1800249128848 <class 'int'> 1337\n"
     ]
    }
   ],
   "source": [
    "variable = 1337\n",
    "variable_1 = variable\n",
    "\n",
    "print(id(variable), type(variable), variable)\n",
    "print(id(variable_1), type(variable_1), variable_1)"
   ]
  },
  {
   "cell_type": "markdown",
   "id": "e83f8841-19b2-46a7-be44-7e42fdcd2a96",
   "metadata": {},
   "source": [
    "Let us now use Python Tutor to visualize dynamically what is happening in our program. In the Python Tutor we have our program code on the left side of the screen. The green arrow shows us which line just executed and the red arrow points to the line that will be executed next. With the buttons below the code we are able to execute the program step by step.\n",
    "\n",
    "At the top right Python Tutor shows the output of the program if we have some. Below the program output, frames and objects are visualized. In a frame, all names, that are currently defined, are displayed. E.g. if you define a variable with global scope it is shown in the global frame as soon as the line where it is defined gets executed. The objects are displayed to the right of the frames. As we already know, variables are references to an object, and hence the Python Tutor visualizes this with an arrow from the variable to the object."
   ]
  },
  {
   "cell_type": "code",
   "execution_count": 30,
   "id": "e6547f19-e5cf-4140-a6b9-a7dd1ae6dcc9",
   "metadata": {},
   "outputs": [
    {
     "data": {
      "text/html": [
       "\n",
       "        <iframe\n",
       "            width=\"1000\"\n",
       "            height=\"400\"\n",
       "            src=\"http://pythontutor.com/visualize.html#code=variable%20%3D%201337%0Avariable_1%20%3D%20variable&cumulative=true&curInstr=0&heapPrimitives=true&mode=display&origin=opt-frontend.js&py=3&rawInputLstJSON=%5B%5D&textReferences=false\"\n",
       "            frameborder=\"0\"\n",
       "            allowfullscreen\n",
       "            \n",
       "        ></iframe>\n",
       "        "
      ],
      "text/plain": [
       "<IPython.lib.display.IFrame at 0x1a326345ea0>"
      ]
     },
     "execution_count": 30,
     "metadata": {},
     "output_type": "execute_result"
    }
   ],
   "source": [
    "# execute this code to open the example in Python Tutor\n",
    "from IPython.display import IFrame\n",
    "src=\"http://pythontutor.com/visualize.html#code=variable%20%3D%201337%0Avariable_1%20%3D%20variable&cumulative=true&curInstr=0&heapPrimitives=true&mode=display&origin=opt-frontend.js&py=3&rawInputLstJSON=%5B%5D&textReferences=false\"\n",
    "IFrame(src, width=1000, height=400)"
   ]
  },
  {
   "cell_type": "markdown",
   "id": "16b4de95-9ddc-4ba6-a1d7-7dea43856b56",
   "metadata": {},
   "source": [
    "### Mutable and immutable objects\n",
    "\n",
    "In the example below we see, what happens if we try to modify an immutable (not modifiable) object (e.g., an integer). What we can see is that a new object is created when `x`, a variable that refers to an integer object, gets modified. Integers are immutable and because of that, python has to make a new object if we change the value of `x`."
   ]
  },
  {
   "cell_type": "code",
   "execution_count": 31,
   "id": "4e7b2d9b-27c4-4063-85fe-583ee5704e8b",
   "metadata": {
    "tags": []
   },
   "outputs": [
    {
     "data": {
      "text/html": [
       "\n",
       "        <iframe\n",
       "            width=\"1000\"\n",
       "            height=\"300\"\n",
       "            src=\"http://pythontutor.com/iframe-embed.html#code=x%20%3D%205%0Ay%20%3D%20x%0Ax%20%2B%3D%2010%20%23%20x%20%3D%20x%20%2B%2010%20-%3E%20x%20%3D%2015&codeDivHeight=400&codeDivWidth=350&cumulative=false&curInstr=0&heapPrimitives=true&origin=opt-frontend.js&py=3&rawInputLstJSON=%5B%5D&textReferences=false\"\n",
       "            frameborder=\"0\"\n",
       "            allowfullscreen\n",
       "            \n",
       "        ></iframe>\n",
       "        "
      ],
      "text/plain": [
       "<IPython.lib.display.IFrame at 0x1a326236ec0>"
      ]
     },
     "execution_count": 31,
     "metadata": {},
     "output_type": "execute_result"
    }
   ],
   "source": [
    "# execute this code to open the example in Python Tutor\n",
    "src=\"http://pythontutor.com/iframe-embed.html#code=x%20%3D%205%0Ay%20%3D%20x%0Ax%20%2B%3D%2010%20%23%20x%20%3D%20x%20%2B%2010%20-%3E%20x%20%3D%2015&codeDivHeight=400&codeDivWidth=350&cumulative=false&curInstr=0&heapPrimitives=true&origin=opt-frontend.js&py=3&rawInputLstJSON=%5B%5D&textReferences=false\"\n",
    "IFrame(src, width=1000, height=300)"
   ]
  },
  {
   "cell_type": "markdown",
   "id": "063cffd8-ccf4-413e-abd7-0e42811733f0",
   "metadata": {},
   "source": [
    "### Local scope vs. global scope\n",
    "\n",
    "Scope determines the \"visibility\"  of names (name refers to the identifier of variables, functions and other objects) within the code. The scope of a name depends on the place in the code where it is created and it will only be visible to and accessible by the code in its scope.\n",
    "\n",
    "In the following example the variables which are defined outside of the `sqrt` function are global variables (with a global scope), the ones defined inside the `sqrt` function are local variables (with a local scope). Local variables can't get refered from outside the function. Python Tutor also visualizes this. It shows that there is a global frame in which the global variables are and as the `sqrt` gets called there is another frame for this function."
   ]
  },
  {
   "cell_type": "markdown",
   "id": "bdbe3483-1f49-4b6d-bed8-70ec495904f5",
   "metadata": {},
   "source": [
    "Python scopes are implemented as dictionaries that map names to objects. These dictionaries are commonly called namespaces. With `print(locals())` inside the `sqrt` function we get a dictionary with the local namespace only of this function. With `print(globals())` from anywhere in the code we can take a look at the global namespace. Since this is a dictionary, we can use standard access methods to retrive elements from that dictionary. In this example we can have two variables with the same name `root` but with the different values. This is possible because one of the variables lives in the global namespace and the other one in the local namespace."
   ]
  },
  {
   "cell_type": "code",
   "execution_count": 32,
   "id": "dffceaae-3023-4343-a480-582f0b7aa61a",
   "metadata": {},
   "outputs": [
    {
     "name": "stdout",
     "output_type": "stream",
     "text": [
      "Local namespace:  {'number': 2, 'root': 4}\n",
      "root from the global namespace:  2\n",
      "The result of the sqrt(2):  1.189207115002721\n",
      "The value of the root from the global namespace:  2\n"
     ]
    }
   ],
   "source": [
    "root = 2\n",
    "test = 1\n",
    "\n",
    "def sqrt(number):\n",
    "    root = 4\n",
    "    print('Local namespace: ', locals())\n",
    "    print('root from the global namespace: ', globals()['root'])\n",
    "    return number ** (1 / root)\n",
    "\n",
    "print('The result of the sqrt(2): ', sqrt(2))\n",
    "print('The value of the root from the global namespace: ', root) # Why is root still 2?"
   ]
  },
  {
   "cell_type": "code",
   "execution_count": 33,
   "id": "aea8f315-6e1a-404e-a3e8-f00457f35474",
   "metadata": {},
   "outputs": [
    {
     "data": {
      "text/html": [
       "\n",
       "        <iframe\n",
       "            width=\"1000\"\n",
       "            height=\"400\"\n",
       "            src=\"https://pythontutor.com/visualize.html#code=root%20%3D%202%0Adef%20sqrt%28number%29%3A%0A%20%20%20%20root%20%3D%204%0A%20%20%20%20return%20number%20**%20%281/root%29%0A%0Aprint%28sqrt%282%29%29%0Aprint%28root%29%20%23%20Why%20is%20root%20still%202%3F&cumulative=true&heapPrimitives=nevernest&mode=edit&origin=opt-frontend.js&py=3&rawInputLstJSON=%5B%5D&textReferences=false\"\n",
       "            frameborder=\"0\"\n",
       "            allowfullscreen\n",
       "            \n",
       "        ></iframe>\n",
       "        "
      ],
      "text/plain": [
       "<IPython.lib.display.IFrame at 0x1a32624e320>"
      ]
     },
     "execution_count": 33,
     "metadata": {},
     "output_type": "execute_result"
    }
   ],
   "source": [
    "#execute this code to open the example in Python Tutor\n",
    "src=\"https://pythontutor.com/visualize.html#code=root%20%3D%202%0Adef%20sqrt%28number%29%3A%0A%20%20%20%20root%20%3D%204%0A%20%20%20%20return%20number%20**%20%281/root%29%0A%0Aprint%28sqrt%282%29%29%0Aprint%28root%29%20%23%20Why%20is%20root%20still%202%3F&cumulative=true&heapPrimitives=nevernest&mode=edit&origin=opt-frontend.js&py=3&rawInputLstJSON=%5B%5D&textReferences=false\"\n",
    "IFrame(src, width=1000, height=400)"
   ]
  },
  {
   "cell_type": "markdown",
   "id": "1ededb82-1e48-4015-9472-1d452e5e7504",
   "metadata": {},
   "source": [
    "### Call by object reference\n",
    "\n",
    "In python, values are passed to a function by object reference. This means the object gets passed as a reference to the function. So the object outside the function and inside the function are the **same**. As there are mutable and immutable objects in python there is also a difference in their behavior when they are passed to a function. If an object is mutable (modifiable) then the object points only to the reference of itself. This means when modifying the object inside the function the object gets indirectly also modified outside the function. If an object is immutable (not modifiable) than the object gets copied when a modifying operation gets executed on the object. Here the object outside the function is unchanged afterwards.\n",
    "\n",
    "So this sound very complicated. Let's again take a look at an example with Python Tutor:"
   ]
  },
  {
   "cell_type": "markdown",
   "id": "73d474e5-f074-4b9c-8cbd-eea1e2b021e3",
   "metadata": {},
   "source": [
    "#### Call by object reference with an immutable object"
   ]
  },
  {
   "cell_type": "code",
   "execution_count": 34,
   "id": "c8462464-c1a8-4553-96c1-44611cc9232d",
   "metadata": {},
   "outputs": [
    {
     "name": "stdout",
     "output_type": "stream",
     "text": [
      "hello\n",
      "olleh\n"
     ]
    }
   ],
   "source": [
    "def reverse_string(string):\n",
    "    string = string[::-1]\n",
    "    print(string)\n",
    "    \n",
    "string = 'olleh'\n",
    "reverse_string(string)\n",
    "print(string)  # value has not changed"
   ]
  },
  {
   "cell_type": "code",
   "execution_count": 35,
   "id": "04367f23-4c85-4e08-8ec4-5d93fa97901a",
   "metadata": {},
   "outputs": [
    {
     "data": {
      "text/html": [
       "\n",
       "        <iframe\n",
       "            width=\"1000\"\n",
       "            height=\"400\"\n",
       "            src=\"http://pythontutor.com/visualize.html#code=def%20reverse_string%28string%29%3A%0A%20%20%20%20string%20%3D%20string%5B%3A%3A-1%5D%0A%20%20%20%20print%28string%29%0A%20%20%20%20%0Astring%20%3D%20%22olleh%22%0Areverse_string%28string%29%0Aprint%28string%29&cumulative=true&curInstr=0&heapPrimitives=nevernest&mode=display&origin=opt-frontend.js&py=3&rawInputLstJSON=%5B%5D&textReferences=false\"\n",
       "            frameborder=\"0\"\n",
       "            allowfullscreen\n",
       "            \n",
       "        ></iframe>\n",
       "        "
      ],
      "text/plain": [
       "<IPython.lib.display.IFrame at 0x1a326386d40>"
      ]
     },
     "execution_count": 35,
     "metadata": {},
     "output_type": "execute_result"
    }
   ],
   "source": [
    "# execute this code to open the example in Python Tutor\n",
    "src=\"http://pythontutor.com/visualize.html#code=def%20reverse_string%28string%29%3A%0A%20%20%20%20string%20%3D%20string%5B%3A%3A-1%5D%0A%20%20%20%20print%28string%29%0A%20%20%20%20%0Astring%20%3D%20%22olleh%22%0Areverse_string%28string%29%0Aprint%28string%29&cumulative=true&curInstr=0&heapPrimitives=nevernest&mode=display&origin=opt-frontend.js&py=3&rawInputLstJSON=%5B%5D&textReferences=false\"\n",
    "IFrame(src, width=1000, height=400)"
   ]
  },
  {
   "cell_type": "markdown",
   "id": "069e9d5e-3467-4834-9962-0cf5abefbea1",
   "metadata": {},
   "source": [
    "#### Call by object reference with a mutable object\n",
    "\n",
    "Notice that in this example, outside of the `get_odds` function all even numbers are also removed from the list. This is because python passes a reference (and not the values of the list) to the function when it gets called since list is a mutable object. This does not only work in this way for lists, but also for all other mutable variables."
   ]
  },
  {
   "cell_type": "code",
   "execution_count": 36,
   "id": "d01c01cb-98d3-4106-9929-a4d14a8db161",
   "metadata": {},
   "outputs": [
    {
     "name": "stdout",
     "output_type": "stream",
     "text": [
      "[1, 3, 5, 7]\n"
     ]
    }
   ],
   "source": [
    "def get_odds(items):\n",
    "    for item in items:\n",
    "        if item % 2 == 0:\n",
    "            items.remove(item)\n",
    "\n",
    "items = [1, 2, 3, 4, 5, 6, 7, 8]\n",
    "get_odds(items)\n",
    "print(items)"
   ]
  },
  {
   "cell_type": "code",
   "execution_count": 37,
   "id": "687650b9-eeaa-4129-9f46-89d4ca396cb8",
   "metadata": {},
   "outputs": [
    {
     "data": {
      "text/html": [
       "\n",
       "        <iframe\n",
       "            width=\"1000\"\n",
       "            height=\"1000\"\n",
       "            src=\"http://pythontutor.com/visualize.html#code=def%20get_odds%28items%29%3A%0A%20%20%20%20for%20item%20in%20items%3A%0A%20%20%20%20%20%20%20%20if%20item%252%20%3D%3D%200%3A%0A%20%20%20%20%20%20%20%20%20%20%20%20items.remove%28item%29%0A%0Aitems%20%3D%20%5B1,2,3,4,5,6,7,8%5D%0Aget_odds%28items%29%0Aprint%28items%29&cumulative=true&curInstr=0&heapPrimitives=true&mode=display&origin=opt-frontend.js&py=3&rawInputLstJSON=%5B%5D&textReferences=false\"\n",
       "            frameborder=\"0\"\n",
       "            allowfullscreen\n",
       "            \n",
       "        ></iframe>\n",
       "        "
      ],
      "text/plain": [
       "<IPython.lib.display.IFrame at 0x1a32636f790>"
      ]
     },
     "execution_count": 37,
     "metadata": {},
     "output_type": "execute_result"
    }
   ],
   "source": [
    "# execute this code to open the example in Python Tutor\n",
    "src=\"http://pythontutor.com/visualize.html#code=def%20get_odds%28items%29%3A%0A%20%20%20%20for%20item%20in%20items%3A%0A%20%20%20%20%20%20%20%20if%20item%252%20%3D%3D%200%3A%0A%20%20%20%20%20%20%20%20%20%20%20%20items.remove%28item%29%0A%0Aitems%20%3D%20%5B1,2,3,4,5,6,7,8%5D%0Aget_odds%28items%29%0Aprint%28items%29&cumulative=true&curInstr=0&heapPrimitives=true&mode=display&origin=opt-frontend.js&py=3&rawInputLstJSON=%5B%5D&textReferences=false\"\n",
    "IFrame(src, width=1000, height=1000)"
   ]
  },
  {
   "cell_type": "markdown",
   "id": "66b17e44-96e5-4a50-ac7e-37d088addbe1",
   "metadata": {},
   "source": [
    "#### Solution with the `copy()` method\n",
    "\n",
    "Use `copy()` if you need the original (unchanged) list later in your program. `copy()` gets you a variable that refers to a new object which is an exact copy of the original one. Now, no matter what is done with this copy, the original list is unchanged."
   ]
  },
  {
   "cell_type": "code",
   "execution_count": 38,
   "id": "fd0507fc-49d3-47ed-9732-7d9be9167970",
   "metadata": {},
   "outputs": [
    {
     "name": "stdout",
     "output_type": "stream",
     "text": [
      "[1, 3, 5, 7]\n",
      "[1, 2, 3, 4, 5, 6, 7, 8]\n"
     ]
    }
   ],
   "source": [
    "def get_odds(items):\n",
    "    items = items.copy()\n",
    "    for item in items:\n",
    "        if item % 2 == 0:\n",
    "            items.remove(item)\n",
    "    return items\n",
    "\n",
    "items = [1, 2, 3, 4, 5, 6, 7, 8]\n",
    "print(get_odds(items))\n",
    "print(items)"
   ]
  },
  {
   "cell_type": "code",
   "execution_count": 39,
   "id": "35b809af-fd88-4035-81bb-4a659a15788b",
   "metadata": {},
   "outputs": [
    {
     "data": {
      "text/html": [
       "\n",
       "        <iframe\n",
       "            width=\"1000\"\n",
       "            height=\"1000\"\n",
       "            src=\"http://pythontutor.com/visualize.html#code=def%20get_odds%28items%29%3A%0A%20%20%20%20items%20%3D%20items.copy%28%29%0A%20%20%20%20for%20item%20in%20items%3A%0A%20%20%20%20%20%20%20%20if%20item%252%20%3D%3D%200%3A%0A%20%20%20%20%20%20%20%20%20%20%20%20items.remove%28item%29%0A%20%20%20%20return%20items%0A%0Aitems%20%3D%20%5B1,2,3,4,5,6,7,8%5D%0Aprint%28get_odds%28items%29%29%0Aprint%28items%29&cumulative=true&curInstr=0&heapPrimitives=true&mode=display&origin=opt-frontend.js&py=3&rawInputLstJSON=%5B%5D&textReferences=false\"\n",
       "            frameborder=\"0\"\n",
       "            allowfullscreen\n",
       "            \n",
       "        ></iframe>\n",
       "        "
      ],
      "text/plain": [
       "<IPython.lib.display.IFrame at 0x1a3263476d0>"
      ]
     },
     "execution_count": 39,
     "metadata": {},
     "output_type": "execute_result"
    }
   ],
   "source": [
    "# execute this code to open the example in Python Tutor\n",
    "src=\"http://pythontutor.com/visualize.html#code=def%20get_odds%28items%29%3A%0A%20%20%20%20items%20%3D%20items.copy%28%29%0A%20%20%20%20for%20item%20in%20items%3A%0A%20%20%20%20%20%20%20%20if%20item%252%20%3D%3D%200%3A%0A%20%20%20%20%20%20%20%20%20%20%20%20items.remove%28item%29%0A%20%20%20%20return%20items%0A%0Aitems%20%3D%20%5B1,2,3,4,5,6,7,8%5D%0Aprint%28get_odds%28items%29%29%0Aprint%28items%29&cumulative=true&curInstr=0&heapPrimitives=true&mode=display&origin=opt-frontend.js&py=3&rawInputLstJSON=%5B%5D&textReferences=false\"\n",
    "IFrame(src, width=1000, height=1000)"
   ]
  },
  {
   "cell_type": "markdown",
   "id": "2dc9d429-5b9c-4d62-aa27-19c02690d561",
   "metadata": {},
   "source": [
    "# Programming examples"
   ]
  },
  {
   "cell_type": "markdown",
   "id": "a3004272-53b9-4597-ba82-d44b03a41ef8",
   "metadata": {
    "tags": []
   },
   "source": [
    "### Programming example 1"
   ]
  },
  {
   "cell_type": "markdown",
   "id": "80ba0e79-b0ff-4806-a53d-93c9cb2eb683",
   "metadata": {
    "tags": []
   },
   "source": [
    "#### Printing number pyramides\n",
    "Write code to print three half pyramides of numbers:\n",
    "1. half pyramid with same numbers in each row,\n",
    "2. half pyramid with increasing numbers in each row,\n",
    "3. an inverted half pyramid with increasing numbers in each row.\n",
    "\n",
    "Ask the user to enter the starting and ending numbers.\n",
    "\n",
    "**Example 1:**\n",
    "```\n",
    "1  \n",
    "2 2  \n",
    "3 3 3  \n",
    "4 4 4 4  \n",
    "5 5 5 5 5\n",
    "```\n",
    "\n",
    "**Example 2:**\n",
    "```\n",
    "1 \n",
    "1 2 \n",
    "1 2 3 \n",
    "1 2 3 4 \n",
    "1 2 3 4 5\n",
    "```\n",
    "\n",
    "**Example 3:**\n",
    "```\n",
    "1 2 3 4 5 \n",
    "1 2 3 4 \n",
    "1 2 3 \n",
    "1 2 \n",
    "1\n",
    "```\n"
   ]
  },
  {
   "cell_type": "code",
   "execution_count": null,
   "id": "698dcf1c-da66-436a-8672-bd42a59d0b14",
   "metadata": {},
   "outputs": [],
   "source": [
    "# Your code goes here"
   ]
  },
  {
   "cell_type": "markdown",
   "id": "73f9c8ae-8393-45a6-b33a-91a287cb1af7",
   "metadata": {},
   "source": [
    "### Programming example 2"
   ]
  },
  {
   "cell_type": "markdown",
   "id": "0e064fbb-0d4e-41bd-a918-be6a2a5c00c5",
   "metadata": {},
   "source": [
    "Write a function called `intersect` that returns a list that is the intersection of two other lists. The intersection should not include duplicate elements.\n",
    "\n",
    "**Example:**  \n",
    "```\n",
    "list1 = [1, 2, 3]\n",
    "list2 = [2, 4, 6, 7, 1]\n",
    "\n",
    "intersection = intersect(list1, list2)\n",
    "print(intersection)\n",
    "\n",
    "[1, 2]\n",
    "```"
   ]
  },
  {
   "cell_type": "code",
   "execution_count": null,
   "id": "48acd614-3f41-4054-9f68-0bb88daae772",
   "metadata": {},
   "outputs": [],
   "source": [
    "# Your code goes here"
   ]
  },
  {
   "cell_type": "markdown",
   "id": "807ae9fc-8938-4e66-a892-31bbd548068c",
   "metadata": {},
   "source": [
    "### Programming example 3"
   ]
  },
  {
   "cell_type": "markdown",
   "id": "fa1ad825-24af-4b7d-8698-820bdddf521c",
   "metadata": {},
   "source": [
    "Write a function called `search` that checks whether an object belongs to a list. Solve this with a loop, i.e., you are not allowed to use the `in` operator to check for the membership of the object in the list. It returns `True` if the objects is in the list, and `False` otherwise.\n",
    "\n",
    "**Example:**  \n",
    "```\n",
    "list = [1, 2, 3]\n",
    "e1 = 6\n",
    "e2 = 2\n",
    "\n",
    "print(search(list, e1))\n",
    "False\n",
    "\n",
    "print(search(list, e2))\n",
    "True\n",
    "```"
   ]
  },
  {
   "cell_type": "code",
   "execution_count": null,
   "id": "96c95a04-bc74-436e-80ea-ac01774e02d0",
   "metadata": {},
   "outputs": [],
   "source": [
    "# Your code goes here"
   ]
  },
  {
   "cell_type": "markdown",
   "id": "7cc9740f-a6fc-48b4-81e7-d3a29cc41e65",
   "metadata": {},
   "source": [
    "### Programming example 4\n",
    "\n",
    "Starting with a list with elements of mixed types, i.e., integers, floats, and strings write a list comprehension that squares only the integers in the list.\n",
    "\n",
    "**Example:** \n",
    "```\n",
    "list = [2, 1.5, 'Tuesday', 4]\n",
    "print(squared_list)\n",
    "\n",
    "[4, 16]\n",
    "```"
   ]
  },
  {
   "cell_type": "code",
   "execution_count": null,
   "id": "82233ed4-3de1-4860-ae15-66b9857c40c2",
   "metadata": {},
   "outputs": [],
   "source": [
    "# Your code goes here"
   ]
  },
  {
   "cell_type": "markdown",
   "id": "aff35304-ffe0-4b65-adcf-dde16f975941",
   "metadata": {},
   "source": [
    "### Programming example 5\n",
    "\n",
    "Implement a function that prints a binary matrix (`print_binary_matrix`) represented as a list of lists containing only 0s and 1s. Print every contained list on a new line and separate each element with a single space character.\n",
    "\n",
    "**Example:** \n",
    "```\n",
    "matrix = [[1, 0, 0, 0], [0, 0, 0, 1], [1, 1, 1, 1], [0, 1, 0, 1]]\n",
    "print_binary_matrix(matrix)\n",
    "\n",
    "1 0 0 0 \n",
    "0 0 0 1 \n",
    "1 1 1 1 \n",
    "0 1 0 1 \n",
    "```  \n",
    "\n",
    "**Hint:** You can use double square brackets to index a single element from a list of lists. In the previous example `matrix[1]` gives you the second inner list, i.e., `[0, 0, 0, 1]`, and `matrix[1][3]` refers to the fourth element of that second list, i.e., it is `1`."
   ]
  },
  {
   "cell_type": "code",
   "execution_count": null,
   "id": "f247fce2-6087-4f91-a71e-2a95d540cf52",
   "metadata": {},
   "outputs": [],
   "source": [
    "# Your code goes here"
   ]
  },
  {
   "cell_type": "markdown",
   "id": "76a09883-315a-46e1-9cc5-859b6119b0b9",
   "metadata": {},
   "source": [
    "### Programming example 6\n",
    "\n",
    "Game of life (from Introduction to Programming in Python by Robert Sedgewick). Implement a function called `game_of_life` that simulates [Conway's game of life](https://en.wikipedia.org/wiki/Conway%27s_Game_of_Life). Consider a boolean matrix corresponding to a system of cells that we refer to as being either live or dead. The game consists of checking and perhaps updating the value of each cell, depending on the values of its neighbors (the adjacent cells in every direction, including diagonals). Live cells remain live and dead cells remain dead, with the following exceptions:\n",
    "* A dead cell with exactly three live neighbors becomes live.\n",
    "* A live cell with exactly one live neighbor becomes dead.\n",
    "* A live cell with more than three live neighbors becomes dead.\n",
    "Test your program with a glider, a famous pattern that moves down and to the right every four generations, as shown in the diagram below.\n",
    "\n",
    " ![Glider](glider.png)\n",
    " \n",
    "Use the function `print_binary_matrix` that you wrote in the previous example to display the results with a glider. \n",
    "\n",
    "**Hint 1:** You should write additional helper functions to e.g., return the size of the matrix, return the neighbors or count the live/dead neighbors as you will need to call these in multiple iterations steps. \n",
    "\n",
    "**Hint 2:** Please also note that since you will be changing the original matrix (recollect that lists are mutable objects) as you iterate through the matrix this may have unwanted side effects on the following computations. Hence, you should copy the list before each game update.\n",
    "\n",
    "**Hint 3:** As the matrix is a list of lists, you may need to copy the inner lists as well. This is typically referred to as *deep copy*.\n",
    "\n",
    "For a visually more appealing output, you can replace 0s and 1s with some other characters, e.g., _ and *."
   ]
  },
  {
   "cell_type": "code",
   "execution_count": null,
   "id": "59ed98ac-8e81-4209-8445-c96bbcc29ee2",
   "metadata": {},
   "outputs": [],
   "source": [
    "# Your code goes here"
   ]
  }
 ],
 "metadata": {
  "kernelspec": {
   "display_name": "Python 3 (ipykernel)",
   "language": "python",
   "name": "python3"
  },
  "language_info": {
   "codemirror_mode": {
    "name": "ipython",
    "version": 3
   },
   "file_extension": ".py",
   "mimetype": "text/x-python",
   "name": "python",
   "nbconvert_exporter": "python",
   "pygments_lexer": "ipython3",
   "version": "3.10.4"
  }
 },
 "nbformat": 4,
 "nbformat_minor": 5
}
