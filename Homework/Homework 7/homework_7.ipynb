{
 "cells": [
  {
   "cell_type": "markdown",
   "id": "148cf6b4-d38c-444a-b601-1b2a68d0a876",
   "metadata": {
    "tags": []
   },
   "source": [
    "# Homework 7"
   ]
  },
  {
   "cell_type": "markdown",
   "id": "821a28e6-a6b7-4dc1-9666-7864f0a5c17f",
   "metadata": {
    "tags": []
   },
   "source": [
    "## Overview\n",
    "* Sets\n",
    "* Dictionaries\n",
    "* Combination of data structures\n",
    "* Common mistakes\n",
    "* Recursion\n",
    "* Programming examples"
   ]
  },
  {
   "cell_type": "markdown",
   "id": "3381a5e2-a448-4222-abe9-a91a8d8a2f6c",
   "metadata": {
    "tags": []
   },
   "source": [
    "## Sets\n",
    "\n",
    "Similar to lists and tuples, sets are data structures that work with collections of data. The main difference is that sets are unordered and therefore unindexed. In addition, the sets *don't allow duplicates*.\n",
    "\n",
    "**Set properties:**\n",
    "* Equivalent to mathematical sets   \n",
    "* Sets are written with curly brackets: `{element1, element2}`  \n",
    "* Unordered collection with no duplicate elements  \n",
    "* Elements have to be immutable but a set itself is mutable  \n",
    "* Support mathematical operations, e.g. union, intersect, difference  \n",
    "\n",
    "**Python-Syntax:** `set_name = {item0, item1, item2, etc}`\n",
    "\n",
    "There are two different ways to declare a set. One is with the function `set()`. Similar to the example below, you can cast a list or a tuple to a set. You can see, that it is a set now, because of the curly brackets."
   ]
  },
  {
   "cell_type": "code",
   "execution_count": 1,
   "id": "7ead3496-7a13-47da-b6eb-d64832f222cc",
   "metadata": {},
   "outputs": [
    {
     "name": "stdout",
     "output_type": "stream",
     "text": [
      "{1, 2, 3, 4, 5}\n",
      "{1, 3, 4, 5, 6}\n"
     ]
    }
   ],
   "source": [
    "a = [1, 2, 3, 4, 4, 5] #list\n",
    "b = (1, 3, 4, 5, 6, 6, 6) #tuple\n",
    "c = set(a)\n",
    "d = set(b)\n",
    "print(c)\n",
    "print(d)"
   ]
  },
  {
   "cell_type": "markdown",
   "id": "3c516f7f-e2da-4db8-9039-e258d01a70ed",
   "metadata": {},
   "source": [
    "But you can also declare a set implicitly with curly brackets ({}) like in the example below."
   ]
  },
  {
   "cell_type": "code",
   "execution_count": 2,
   "id": "7bbec53b-b8b4-4c48-9df1-ffe3fe684ed0",
   "metadata": {
    "tags": []
   },
   "outputs": [
    {
     "name": "stdout",
     "output_type": "stream",
     "text": [
      "{'key', 'notebook', 'phone', 'pen', 'gum'}\n"
     ]
    }
   ],
   "source": [
    "backpack = {'notebook', 'phone', 'key', 'gum', 'pen'}\n",
    "print(backpack)"
   ]
  },
  {
   "cell_type": "markdown",
   "id": "1562cbda-72c4-4e88-be55-a5ecbf625752",
   "metadata": {},
   "source": [
    "**Be cautious when you want to create an empty set - you can't create it with `empty_set = {}`!** This would be another data structure named `dict`. But you will hear more about it in a few minutes."
   ]
  },
  {
   "cell_type": "code",
   "execution_count": 9,
   "id": "d2d33fd9-886e-4186-9424-69a5a904b70e",
   "metadata": {},
   "outputs": [
    {
     "name": "stdout",
     "output_type": "stream",
     "text": [
      "set() <class 'set'>\n",
      "{} <class 'dict'>\n"
     ]
    }
   ],
   "source": [
    "empty_set = set()\n",
    "print(empty_set,  type(empty_set))\n",
    "\n",
    "not_an_empty_set = {} # this would be a empty dict!\n",
    "print(not_an_empty_set, type(not_an_empty_set))"
   ]
  },
  {
   "cell_type": "markdown",
   "id": "4d25fb78-7410-4afe-9964-38329c0671fa",
   "metadata": {},
   "source": [
    "#### Add Elements `.add()`"
   ]
  },
  {
   "cell_type": "markdown",
   "id": "030d054b-a92d-493e-b6f9-b9aa51e44952",
   "metadata": {},
   "source": [
    "But what do you need to do when you want to fill the set? `empty_set += 'green'` won't work. Use the method `empty_set.add('green')` instead."
   ]
  },
  {
   "cell_type": "code",
   "execution_count": 5,
   "id": "3b980e51-3d7f-410b-8b70-dcd219a804c7",
   "metadata": {},
   "outputs": [
    {
     "name": "stdout",
     "output_type": "stream",
     "text": [
      "{'wallet', 'key', 'notebook', 'phone', 'gum'}\n"
     ]
    }
   ],
   "source": [
    "backpack = {'notebook', 'phone', 'key', 'gum', 'wallet'}\n",
    "print(backpack)"
   ]
  },
  {
   "cell_type": "code",
   "execution_count": 6,
   "id": "6c3ae9dd-61f0-4bd7-9d97-d00a396e7230",
   "metadata": {},
   "outputs": [
    {
     "name": "stdout",
     "output_type": "stream",
     "text": [
      "{'wallet', 'key', 'notebook', 'phone', 'gum', 'phone charger'}\n"
     ]
    }
   ],
   "source": [
    "#backpack += {\"phone charger\"} #This does not work...\n",
    "backpack.add(\"phone charger\")  #This is a more readable and therefore prefered way to add an item to a set\n",
    "print(backpack)"
   ]
  },
  {
   "cell_type": "markdown",
   "id": "a08a583a-e47c-450b-b09b-ac73930b0f34",
   "metadata": {},
   "source": [
    "So let's see if this would work with our empty_set2, which we know is a dictionary and no set:"
   ]
  },
  {
   "cell_type": "code",
   "execution_count": 10,
   "id": "6ecf9487-15fb-42c8-a565-8b650fffab10",
   "metadata": {},
   "outputs": [
    {
     "ename": "AttributeError",
     "evalue": "'dict' object has no attribute 'add'",
     "output_type": "error",
     "traceback": [
      "\u001b[1;31m---------------------------------------------------------------------------\u001b[0m",
      "\u001b[1;31mAttributeError\u001b[0m                            Traceback (most recent call last)",
      "Input \u001b[1;32mIn [10]\u001b[0m, in \u001b[0;36m<cell line: 1>\u001b[1;34m()\u001b[0m\n\u001b[1;32m----> 1\u001b[0m \u001b[43mnot_an_empty_set\u001b[49m\u001b[38;5;241;43m.\u001b[39;49m\u001b[43madd\u001b[49m(\u001b[38;5;124m'\u001b[39m\u001b[38;5;124mphone charger\u001b[39m\u001b[38;5;124m'\u001b[39m) \n\u001b[0;32m      2\u001b[0m \u001b[38;5;28mprint\u001b[39m(backpack)\n",
      "\u001b[1;31mAttributeError\u001b[0m: 'dict' object has no attribute 'add'"
     ]
    }
   ],
   "source": [
    "not_an_empty_set.add('phone charger') \n",
    "print(backpack)"
   ]
  },
  {
   "cell_type": "markdown",
   "id": "67bb4635-69eb-4f33-a534-d4aac6d5d9c7",
   "metadata": {},
   "source": [
    "#### Remove Elements `.remove()`\n",
    "\n",
    "One element should not be in the set? No problem - you can easily remove it with `.remove()`."
   ]
  },
  {
   "cell_type": "code",
   "execution_count": 14,
   "id": "cece083c-81f8-42bf-82f8-becf247ebc21",
   "metadata": {},
   "outputs": [
    {
     "name": "stdout",
     "output_type": "stream",
     "text": [
      "{'wallet', 'key', 'notebook', 'phone', 'gum'}\n"
     ]
    }
   ],
   "source": [
    "backpack = {'notebook', 'phone', 'key', 'gum', 'wallet'}\n",
    "print(backpack)"
   ]
  },
  {
   "cell_type": "code",
   "execution_count": 15,
   "id": "72aed32e-1ac0-48f6-bf6c-e23b85ede2b2",
   "metadata": {},
   "outputs": [
    {
     "name": "stdout",
     "output_type": "stream",
     "text": [
      "{'wallet', 'key', 'notebook', 'phone'}\n"
     ]
    }
   ],
   "source": [
    "backpack.remove('gum') # This is a more readable and therefore prefered way to remove an item from a set\n",
    "print(backpack)"
   ]
  },
  {
   "cell_type": "markdown",
   "id": "f65e7928-2c64-4a96-96db-432f8f73921e",
   "metadata": {},
   "source": [
    "#### Mixed Elements:\n",
    "You can mix the data types in a set as you like."
   ]
  },
  {
   "cell_type": "code",
   "execution_count": 16,
   "id": "98b897c9-0486-4680-b801-830ac7cf7419",
   "metadata": {},
   "outputs": [
    {
     "name": "stdout",
     "output_type": "stream",
     "text": [
      "{False, 1, 2, 3, 4, 5, 6, 3.1, 'A string'}\n"
     ]
    }
   ],
   "source": [
    "#Set with mixed elements\n",
    "my_set = {1, 2, 3, 3, 5, 6, 4, 3, 3, 3.1,'A string', False}\n",
    "print(my_set)"
   ]
  },
  {
   "cell_type": "markdown",
   "id": "b9b5dfc1-4708-4dd2-8017-fb65c5e250b6",
   "metadata": {},
   "source": [
    "What happens, if you have a list in a set for example?"
   ]
  },
  {
   "cell_type": "code",
   "execution_count": 17,
   "id": "1ce77067-fdca-4783-9a38-4e39ee80d1bb",
   "metadata": {},
   "outputs": [
    {
     "ename": "TypeError",
     "evalue": "unhashable type: 'list'",
     "output_type": "error",
     "traceback": [
      "\u001b[1;31m---------------------------------------------------------------------------\u001b[0m",
      "\u001b[1;31mTypeError\u001b[0m                                 Traceback (most recent call last)",
      "Input \u001b[1;32mIn [17]\u001b[0m, in \u001b[0;36m<cell line: 1>\u001b[1;34m()\u001b[0m\n\u001b[1;32m----> 1\u001b[0m test_set \u001b[38;5;241m=\u001b[39m {\u001b[38;5;241m1\u001b[39m, \u001b[38;5;241m2\u001b[39m, \u001b[38;5;241m3\u001b[39m, [\u001b[38;5;241m1\u001b[39m,\u001b[38;5;241m2\u001b[39m,\u001b[38;5;241m3\u001b[39m]}\n",
      "\u001b[1;31mTypeError\u001b[0m: unhashable type: 'list'"
     ]
    }
   ],
   "source": [
    "test_set = {1, 2, 3, [1,2,3]} # <-list is unhashable"
   ]
  },
  {
   "cell_type": "markdown",
   "id": "8080fb52-cf14-4e4a-8112-413a840a8b07",
   "metadata": {},
   "source": [
    "#### Hashing?"
   ]
  },
  {
   "cell_type": "markdown",
   "id": "6bed3124-d612-4b21-a8e1-050693655d66",
   "metadata": {},
   "source": [
    "Next problem with a set: it can only contain hashable elements. \n",
    "\n",
    "**Hashable??**\n",
    "Hashing is a concept in computer science, to create fast access to large amounts of data. A data type is hashable if it has a hash value, which does not change during its lifetime (it needs to have the `__hash__()` method). It also needs to be comparable to other objects (it needs to have the `__eq__()` method). In Python almost all built-in data types which are immutable are hashable. Immutable containers (tuples) are only hashable if the elements inside are also hashable.\n",
    "\n",
    "What's the difference again?\n",
    "Mutable: Value can be changed after assigning.\n",
    "Immutable: If you want to change a value, a new variable/object will be created, because it can't be changed.\n",
    "\n",
    "Little overview:\n",
    "\n",
    "| **Mutable**  | **Immutable**  |\n",
    "|-----------|------------|\n",
    "|  = changeable      |  = unchangeable  |\n",
    "|  lists      |  tuples  |\n",
    "| sets      | strings       |\n",
    "| dicts      | bools       |\n",
    "|          | floats, integers,...       |\n",
    "\n",
    "As you can see, sets are mutable. Let's see, what that means:\n",
    "\n",
    "Every object in Python (and everything is a object in Python) has an ID. What happens, if you add an element to a `set`?"
   ]
  },
  {
   "cell_type": "code",
   "execution_count": 18,
   "id": "51ec8868-cd93-4e35-8bef-3d2cf55558a5",
   "metadata": {},
   "outputs": [
    {
     "name": "stdout",
     "output_type": "stream",
     "text": [
      "1696923256864\n",
      "1696923256864\n",
      "{1, 2, 3, 4, 5, 6}\n"
     ]
    }
   ],
   "source": [
    "set_numbers = {1, 2, 3, 4, 5} # sets are mutable -> changeable\n",
    "print(id(set_numbers))\n",
    "set_numbers.add(6)\n",
    "print(id(set_numbers))\n",
    "print(set_numbers)"
   ]
  },
  {
   "cell_type": "markdown",
   "id": "d81d6357-17a0-4788-8e2e-7e07b50a233e",
   "metadata": {},
   "source": [
    "For comparison, what happens, when you \"add\" an element to a `tuple`?"
   ]
  },
  {
   "cell_type": "code",
   "execution_count": 19,
   "id": "ca35423e-fc6a-407a-9bfc-837f76221091",
   "metadata": {},
   "outputs": [
    {
     "name": "stdout",
     "output_type": "stream",
     "text": [
      "1696923722800\n",
      "1696923581312\n",
      "(1, 2, 3, 4, 5, 6)\n"
     ]
    }
   ],
   "source": [
    "tuple_numbers = (1, 2, 3, 4, 5)\n",
    "print(id(tuple_numbers))\n",
    "tuple_numbers += (6,)\n",
    "print(id(tuple_numbers))\n",
    "print(tuple_numbers)"
   ]
  },
  {
   "cell_type": "markdown",
   "id": "7d98fe89-f1bb-4e6d-979a-c11528806e8b",
   "metadata": {},
   "source": [
    "More information on hashing? \n",
    "\n",
    "Check https://en.wikipedia.org/wiki/Hash_function or https://runestone.academy/runestone/books/published/pythonds/SortSearch/Hashing.html. or https://docs.python.org/3/glossary.html#hashable\n",
    "\n",
    "More information about mutable and immutable? \n",
    "\n",
    "Check https://towardsdatascience.com/immutable-vs-mutable-data-types-in-python-e8a9a6fcfbdc. or https://docs.python.org/3/glossary.html"
   ]
  },
  {
   "cell_type": "markdown",
   "id": "41ec85a2-b6eb-4eaa-adea-5b915d64c632",
   "metadata": {},
   "source": [
    "#### One string-element in a set?\n",
    "\n",
    "Have attention with sets with a string as its only element, because funny things can happen:"
   ]
  },
  {
   "cell_type": "code",
   "execution_count": 20,
   "id": "1a049cac-d8cc-4674-b885-ddf76c4e5878",
   "metadata": {},
   "outputs": [
    {
     "name": "stdout",
     "output_type": "stream",
     "text": [
      "{'i', 'l', 's', 'n', 'g', 't', 'o', 'e'}\n"
     ]
    }
   ],
   "source": [
    "one_element_set = set('singleton')\n",
    "print(one_element_set)"
   ]
  },
  {
   "cell_type": "code",
   "execution_count": 21,
   "id": "5209bd3f-3737-485f-a9b6-1516da54915b",
   "metadata": {},
   "outputs": [
    {
     "name": "stdout",
     "output_type": "stream",
     "text": [
      "{'singleton'}\n"
     ]
    }
   ],
   "source": [
    "one_element_set = {'singleton'}\n",
    "print(one_element_set)"
   ]
  },
  {
   "cell_type": "code",
   "execution_count": 22,
   "id": "3f90ee5a-954e-4695-8ddc-97e287704d6a",
   "metadata": {},
   "outputs": [
    {
     "name": "stdout",
     "output_type": "stream",
     "text": [
      "{'singleton'}\n"
     ]
    }
   ],
   "source": [
    "one_element_set = set(['singleton'])\n",
    "print(one_element_set)"
   ]
  },
  {
   "cell_type": "code",
   "execution_count": 23,
   "id": "18f79234-01c6-4ce7-abdd-54c3bc931b44",
   "metadata": {},
   "outputs": [
    {
     "ename": "TypeError",
     "evalue": "unhashable type: 'list'",
     "output_type": "error",
     "traceback": [
      "\u001b[1;31m---------------------------------------------------------------------------\u001b[0m",
      "\u001b[1;31mTypeError\u001b[0m                                 Traceback (most recent call last)",
      "Input \u001b[1;32mIn [23]\u001b[0m, in \u001b[0;36m<cell line: 1>\u001b[1;34m()\u001b[0m\n\u001b[1;32m----> 1\u001b[0m one_element_set \u001b[38;5;241m=\u001b[39m {[\u001b[38;5;124m'\u001b[39m\u001b[38;5;124msingleton\u001b[39m\u001b[38;5;124m'\u001b[39m]}\n\u001b[0;32m      2\u001b[0m \u001b[38;5;28mprint\u001b[39m(one_element_set)\n",
      "\u001b[1;31mTypeError\u001b[0m: unhashable type: 'list'"
     ]
    }
   ],
   "source": [
    "one_element_set = {['singleton']}\n",
    "print(one_element_set)"
   ]
  },
  {
   "cell_type": "markdown",
   "id": "c232a055-2180-4118-b887-19c0f1bf8c17",
   "metadata": {},
   "source": [
    "#### Set methodes: `&`, `|`, `^`, `-`\n",
    "\n",
    "Sets have very handy methods to make intersections, unions, or substract one set from another. "
   ]
  },
  {
   "cell_type": "code",
   "execution_count": 24,
   "id": "b55ae40b-a462-464c-9018-db47256617b7",
   "metadata": {
    "tags": []
   },
   "outputs": [
    {
     "name": "stdout",
     "output_type": "stream",
     "text": [
      "Intersection (AND):  {'key', 'phone'}\n",
      "Union (OR):  {'key', 'notebook', 'phone', 'sandwich', 'gum', 'wallet', 'bottle'}\n",
      "Symmetric Difference (XOR):  {'notebook', 'sandwich', 'gum', 'wallet', 'bottle'}\n",
      "Difference:  {'wallet', 'notebook', 'gum'}\n",
      "Difference:  {'sandwich', 'bottle'}\n"
     ]
    }
   ],
   "source": [
    "backpack = {'notebook', 'phone', 'key', 'gum', 'wallet'}\n",
    "other_bag = {'key', 'sandwich', 'bottle', 'phone'}\n",
    "\n",
    "print('Intersection (AND): ', backpack & other_bag)          #Items in both bags\n",
    "print('Union (OR): ', backpack | other_bag)                  #Combine both bags\n",
    "print('Symmetric Difference (XOR): ', backpack ^ other_bag)  #Items in only one of the bags\n",
    "print('Difference: ', backpack - other_bag)                  #Items in the first, but not the second bag\n",
    "print('Difference: ', other_bag - backpack)                  #Items in the first, but not the second bag"
   ]
  },
  {
   "cell_type": "markdown",
   "id": "46a84628-9afb-4648-810b-0ca8b14a29f8",
   "metadata": {},
   "source": [
    "Nice to know? This is a way to add an element:"
   ]
  },
  {
   "cell_type": "code",
   "execution_count": 25,
   "id": "675c07c2-590a-48f4-875d-dc921c3eccbf",
   "metadata": {},
   "outputs": [
    {
     "name": "stdout",
     "output_type": "stream",
     "text": [
      "{'pencil', 'mobile', 'pen', 'paper'}\n"
     ]
    }
   ],
   "source": [
    "backpack = {'mobile', 'pen', 'paper'}\n",
    "\n",
    "backpack |= {'pencil'}\n",
    "print(backpack)"
   ]
  },
  {
   "cell_type": "markdown",
   "id": "a3d24504-0104-41a5-89cc-b39fcd4a8772",
   "metadata": {
    "tags": []
   },
   "source": [
    "## Dictionaries"
   ]
  },
  {
   "cell_type": "markdown",
   "id": "8801a25f-20d2-4198-bcbd-7ee8632c445e",
   "metadata": {},
   "source": [
    "Dictionaries provide a way to map values that are associated with one another.    \n",
    "This means that they are a collection of `key: value` pairs.  \n",
    "A dictionary begins and ends with curly braces: "
   ]
  },
  {
   "cell_type": "code",
   "execution_count": 26,
   "id": "4a36a788-afcb-483b-9cdb-9615df0a0414",
   "metadata": {},
   "outputs": [
    {
     "data": {
      "text/plain": [
       "{}"
      ]
     },
     "execution_count": 26,
     "metadata": {},
     "output_type": "execute_result"
    }
   ],
   "source": [
    "empty_dict = {} # just an empty dictionary\n",
    "# empty_dict = dict()\n",
    "empty_dict"
   ]
  },
  {
   "cell_type": "markdown",
   "id": "5271fead-f764-4d01-91b9-aa054d7a190e",
   "metadata": {},
   "source": [
    "Each item consists of a key and a value and is seperated with comas.   \n",
    "\n",
    "Values: Can be hashable or not hashable. So they can be strings, numbers, lists, sets or even other dictionaries.  \n",
    "Keys: Must be hashable. So they can only be strings, numbers and tuples (tuples if the contain only hashable elements). "
   ]
  },
  {
   "cell_type": "code",
   "execution_count": 32,
   "id": "b47791a5-685a-4aca-a43d-696304445396",
   "metadata": {
    "tags": []
   },
   "outputs": [
    {
     "data": {
      "text/plain": [
       "{'name': 'Anna',\n",
       " 'family_name': ['Smith', 'Williams'],\n",
       " 'phone': 12345678,\n",
       " 'city': 'Vienna'}"
      ]
     },
     "execution_count": 32,
     "metadata": {},
     "output_type": "execute_result"
    }
   ],
   "source": [
    "contact_info = {'name': 'Anna', 'family_name': ['Smith', 'Williams'], 'phone': 12345678, 'city': 'Vienna'}\n",
    "contact_info"
   ]
  },
  {
   "cell_type": "markdown",
   "id": "650ebe48-ab94-464c-8191-b414c550bba8",
   "metadata": {},
   "source": [
    "What happens if we try to use for example a `list` as a key?"
   ]
  },
  {
   "cell_type": "code",
   "execution_count": 28,
   "id": "1fed6976-d5cb-4bc2-9125-6250f4b855fb",
   "metadata": {},
   "outputs": [
    {
     "ename": "TypeError",
     "evalue": "unhashable type: 'list'",
     "output_type": "error",
     "traceback": [
      "\u001b[1;31m---------------------------------------------------------------------------\u001b[0m",
      "\u001b[1;31mTypeError\u001b[0m                                 Traceback (most recent call last)",
      "Input \u001b[1;32mIn [28]\u001b[0m, in \u001b[0;36m<cell line: 1>\u001b[1;34m()\u001b[0m\n\u001b[1;32m----> 1\u001b[0m contact_info \u001b[38;5;241m=\u001b[39m {[\u001b[38;5;124m'\u001b[39m\u001b[38;5;124mname\u001b[39m\u001b[38;5;124m'\u001b[39m, \u001b[38;5;124m'\u001b[39m\u001b[38;5;124msurname\u001b[39m\u001b[38;5;124m'\u001b[39m]: \u001b[38;5;124m'\u001b[39m\u001b[38;5;124mAnna Smith\u001b[39m\u001b[38;5;124m'\u001b[39m}\n",
      "\u001b[1;31mTypeError\u001b[0m: unhashable type: 'list'"
     ]
    }
   ],
   "source": [
    "contact_info = {['name', 'surname']: 'Anna Smith'}"
   ]
  },
  {
   "cell_type": "markdown",
   "id": "f4d513c9-ed44-454c-98b7-df189c588aa7",
   "metadata": {},
   "source": [
    "This produced a TypeError! In this case the expression “unhashable” means that this `list` is an object that can be changed and therefore is not unique over its lifetime and can not be hashed.  \n",
    "We want keys to be **unique and reliable**. Therefore we want them to be unchangeable, hashable data types."
   ]
  },
  {
   "cell_type": "markdown",
   "id": "d4a8503e-d5b4-4cfc-b032-0c69156003fd",
   "metadata": {},
   "source": [
    "If we want to look at one specific item in the dictionary we can't access it with integers or slices (as we do with lists), but with its keys:"
   ]
  },
  {
   "cell_type": "code",
   "execution_count": 29,
   "id": "14a48868-e534-4b1d-a2b1-8a17d5c38bf5",
   "metadata": {},
   "outputs": [
    {
     "data": {
      "text/plain": [
       "'Anna'"
      ]
     },
     "execution_count": 29,
     "metadata": {},
     "output_type": "execute_result"
    }
   ],
   "source": [
    "key = 'name'\n",
    "# key = 'wrong key' # this will produce a KeyError\n",
    "contact_info[key]"
   ]
  },
  {
   "cell_type": "markdown",
   "id": "50f495a1-7f7b-4d52-87e2-34e6d5d9b049",
   "metadata": {},
   "source": [
    "Python also has a set of built-in methods that allow access to all keys, all values or all items:"
   ]
  },
  {
   "cell_type": "code",
   "execution_count": 33,
   "id": "e31fbbf5-c694-4227-89e9-0dd53135ab1a",
   "metadata": {
    "tags": []
   },
   "outputs": [
    {
     "name": "stdout",
     "output_type": "stream",
     "text": [
      "Dictionary keys:  dict_keys(['name', 'family_name', 'phone', 'city'])\n",
      "Dictionary values:  dict_values(['Anna', ['Smith', 'Williams'], 12345678, 'Vienna'])\n",
      "Dictionary Items:  dict_items([('name', 'Anna'), ('family_name', ['Smith', 'Williams']), ('phone', 12345678), ('city', 'Vienna')])\n"
     ]
    }
   ],
   "source": [
    "print('Dictionary keys: ', contact_info.keys())\n",
    "print('Dictionary values: ', contact_info.values())\n",
    "print('Dictionary Items: ', contact_info.items())"
   ]
  },
  {
   "cell_type": "markdown",
   "id": "5af701f1-a755-4778-817e-0cf47ec10d54",
   "metadata": {},
   "source": [
    "A single `key: value` pair can be added to a dictionary using the following syntax:\n",
    "    \n",
    "```\n",
    "dictionary[key] = value\n",
    "```\n"
   ]
  },
  {
   "cell_type": "code",
   "execution_count": 34,
   "id": "15a30d6d-3a8a-4adf-acfe-2ce10805f828",
   "metadata": {
    "tags": []
   },
   "outputs": [
    {
     "name": "stdout",
     "output_type": "stream",
     "text": [
      "{'name': 'Anna', 'family_name': ['Smith', 'Williams'], 'phone': 12345678, 'city': 'Vienna', 'mail': 'someone@modul.ac.at'}\n"
     ]
    }
   ],
   "source": [
    "contact_info['mail'] = 'someone@modul.ac.at'\n",
    "print(contact_info)"
   ]
  },
  {
   "cell_type": "markdown",
   "id": "66be93e7-28ca-4b7e-9ad3-def86013f835",
   "metadata": {},
   "source": [
    "If we want to add **more than one** `key: value` pair, we can use the `update()` method:"
   ]
  },
  {
   "cell_type": "code",
   "execution_count": 36,
   "id": "36546ed8-0e54-49c3-ae35-ee94351423e5",
   "metadata": {},
   "outputs": [
    {
     "name": "stdout",
     "output_type": "stream",
     "text": [
      "{'name': 'Anna', 'family_name': ['Smith', 'Williams'], 'phone': 12345678, 'city': 'Vienna', 'mail': 'someone@modul.ac.at', 'country': 'Austria', 'street': 'Inffeldgasse'}\n"
     ]
    }
   ],
   "source": [
    "additional_data = {'country': 'Austria', 'street': 'Inffeldgasse'}\n",
    "contact_info.update(additional_data)\n",
    "print(contact_info)"
   ]
  },
  {
   "cell_type": "markdown",
   "id": "2a2831b4-12a9-4f9e-a887-8bbc761bca47",
   "metadata": {},
   "source": [
    "What else can one do with dictionaries? Here are some common use cases:"
   ]
  },
  {
   "cell_type": "code",
   "execution_count": 37,
   "id": "0d391e5f-929d-494d-8108-b88866032533",
   "metadata": {},
   "outputs": [
    {
     "name": "stdout",
     "output_type": "stream",
     "text": [
      "name Anna\n",
      "family_name ['Smith', 'Williams']\n",
      "phone 98765\n",
      "city Vienna\n",
      "mail someone@modul.ac.at\n",
      "country Austria\n",
      "street Inffeldgasse\n"
     ]
    }
   ],
   "source": [
    "contact_info['phone'] = 98765  # overwrite values using a key\n",
    "\n",
    "for key, value in contact_info.items(): #iterate over dictionary\n",
    "    print(key, value)"
   ]
  },
  {
   "cell_type": "code",
   "execution_count": 38,
   "id": "b636249b-0b5a-4bcc-8bf8-a989e8c8c163",
   "metadata": {},
   "outputs": [
    {
     "name": "stdout",
     "output_type": "stream",
     "text": [
      "True\n",
      "False\n"
     ]
    }
   ],
   "source": [
    "print('name' in contact_info) # check if key is content of the dictionary\n",
    "print('wrong key' in contact_info)"
   ]
  },
  {
   "cell_type": "code",
   "execution_count": 39,
   "id": "60bfb6e2-96cd-437a-9335-04904bb56a45",
   "metadata": {},
   "outputs": [
    {
     "name": "stdout",
     "output_type": "stream",
     "text": [
      "{'name': 'Anna', 'family_name': ['Smith', 'Williams'], 'phone': 98765, 'city': 'Vienna', 'country': 'Austria', 'street': 'Inffeldgasse'}\n"
     ]
    }
   ],
   "source": [
    "del contact_info['mail'] # deletes a specific key value pair\n",
    "print(contact_info)"
   ]
  },
  {
   "cell_type": "markdown",
   "id": "b6362a4e-d364-465d-8de7-5e9abbb9d852",
   "metadata": {
    "tags": []
   },
   "source": [
    "## Combination of data structures"
   ]
  },
  {
   "cell_type": "markdown",
   "id": "3118b3a1-4876-48fc-8125-9fcb48e29d85",
   "metadata": {},
   "source": [
    "Are you confused with all the different data types to store data? Maybe this helps:\n",
    "\n",
    "|    | **List**  | **Tuple**  | **Set**    | **Dict**   |\n",
    "|--------------|-----------|------------|------------|            |\n",
    "| **Declaration**|  a_list = [1,\"two\", True]      |  a_tuple = (1,\"two\", True)  |  a_set = {1,\"two\", True} | a_dict = {1:\"one\", \"two\": 2, \"three\":True}            |\n",
    "| **Type casting**      | list()      | tuple()       | set()           |  dict()          |\n",
    "| **Duplicates?**      | yes      | yes       | no           |  keys: no , values: yes          |\n",
    "| **Ordered?**      | yes      | yes       | no           |  yes          |\n",
    "| **Mutable?**      | yes      | no       | yes          |  yes          |\n",
    "| **subscriptable by**      | integers or slices      |integers or slices      |not subscriptable        | indexed by keys          |\n",
    "| **empty declaration**      | empty_list = []      | empty_tuple = ()        | empty_set = set()            |  empty_dict = {}           |\n"
   ]
  },
  {
   "cell_type": "markdown",
   "id": "941fa245-0ca9-4c00-9004-1a40254a4be0",
   "metadata": {},
   "source": [
    "Of course, data structures can also be combined, we can create: \n",
    "* List of lists\n",
    "* Tuple of lists\n",
    "* Dictionary with list as values\n",
    "* A dictionary within a dictionary\n",
    "* and so on ..."
   ]
  },
  {
   "cell_type": "code",
   "execution_count": 40,
   "id": "0e53968a-e5f1-4fb2-aa73-0fff73da885d",
   "metadata": {},
   "outputs": [
    {
     "name": "stdout",
     "output_type": "stream",
     "text": [
      "[[1, 0, 0], [0, 1, 0], [0, 0, 1]]\n"
     ]
    }
   ],
   "source": [
    "# Simple matrix as list of lists\n",
    "first_row =  [1, 0, 0]\n",
    "second_row = [0, 1, 0]\n",
    "third_row =  [0, 0, 1]\n",
    "\n",
    "identity_matrix = [first_row, second_row, third_row]\n",
    "print(identity_matrix)"
   ]
  },
  {
   "cell_type": "code",
   "execution_count": 41,
   "id": "2f70c149-eedb-4604-af1e-9c74eaa92bd2",
   "metadata": {},
   "outputs": [
    {
     "name": "stdout",
     "output_type": "stream",
     "text": [
      "[{'name': 'Paul', 'grade': 4}, {'name': 'Lina', 'grade': 1}]\n"
     ]
    }
   ],
   "source": [
    "# Declaring a list with dictionaries as elements\n",
    "list_of_grades = [\n",
    "    {'name': 'Paul', 'grade': 4},\n",
    "    {'name': 'Lina', 'grade': 1}\n",
    "]\n",
    "\n",
    "print(list_of_grades)\n",
    "#print(list_of_grades[0])\n",
    "#print(list_of_grades[0]['name'])"
   ]
  },
  {
   "cell_type": "code",
   "execution_count": 42,
   "id": "0188033f-8c0c-455b-9c08-76eaa139e7fb",
   "metadata": {},
   "outputs": [
    {
     "name": "stdout",
     "output_type": "stream",
     "text": [
      "{1: {'name': 'Kem', 'age': 27, 'sex': 'non-binary'}, 2: {'name': 'Marie', 'age': 22, 'sex': 'female'}}\n"
     ]
    }
   ],
   "source": [
    "# Declaring two combined dictionaries\n",
    "first_person_info = {'name': 'Kem', 'age': 27, 'sex': 'non-binary'}\n",
    "second_person_info = {'name': 'Marie', 'age': 22, 'sex': 'female'}\n",
    "patients_registry = {1: first_person_info, 2: second_person_info}\n",
    "\n",
    "print(patients_registry)\n",
    "#print(patients_registry[2]['age'])\n",
    "#print(patients_registry[1]['sex'])"
   ]
  },
  {
   "cell_type": "markdown",
   "id": "b6c8920d-8ce0-4102-a70f-56c85a572fa1",
   "metadata": {
    "tags": []
   },
   "source": [
    "## Common mistakes"
   ]
  },
  {
   "cell_type": "markdown",
   "id": "4fa7914b-9460-46ba-b192-1ed82c53153b",
   "metadata": {},
   "source": [
    "#### Iterating over a dictionary to get the keys and values without using the .items() method"
   ]
  },
  {
   "cell_type": "code",
   "execution_count": 43,
   "id": "a8651ef3-5825-4fa7-a5da-d1c493b89c13",
   "metadata": {
    "tags": []
   },
   "outputs": [
    {
     "ename": "ValueError",
     "evalue": "too many values to unpack (expected 2)",
     "output_type": "error",
     "traceback": [
      "\u001b[1;31m---------------------------------------------------------------------------\u001b[0m",
      "\u001b[1;31mValueError\u001b[0m                                Traceback (most recent call last)",
      "Input \u001b[1;32mIn [43]\u001b[0m, in \u001b[0;36m<cell line: 4>\u001b[1;34m()\u001b[0m\n\u001b[0;32m      1\u001b[0m phonebook \u001b[38;5;241m=\u001b[39m {\u001b[38;5;124m'\u001b[39m\u001b[38;5;124mAnna Smith\u001b[39m\u001b[38;5;124m'\u001b[39m: \u001b[38;5;241m123456789\u001b[39m,\n\u001b[0;32m      2\u001b[0m              \u001b[38;5;124m'\u001b[39m\u001b[38;5;124mLeeroy Jenkins\u001b[39m\u001b[38;5;124m'\u001b[39m: \u001b[38;5;241m987654321\u001b[39m}\n\u001b[1;32m----> 4\u001b[0m \u001b[38;5;28;01mfor\u001b[39;00m name, number \u001b[38;5;129;01min\u001b[39;00m phonebook: \n\u001b[0;32m      5\u001b[0m     \u001b[38;5;28mprint\u001b[39m(name, number)\n",
      "\u001b[1;31mValueError\u001b[0m: too many values to unpack (expected 2)"
     ]
    }
   ],
   "source": [
    "phonebook = {'Anna Smith': 123456789,\n",
    "             'Leeroy Jenkins': 987654321}\n",
    "\n",
    "for name, number in phonebook: \n",
    "    print(name, number)"
   ]
  },
  {
   "cell_type": "markdown",
   "id": "328ff1d5-7820-438b-ab49-bd7583e0f606",
   "metadata": {},
   "source": [
    "If you iterate over a dictionary without specifying `items()`, `keys()` or `values()`, the for loop iterates over the `keys` by default.\n",
    "In the example above we tried to assign two values to the iterator (we expected a dictionary's key and value). Since a `key` is only one value, we have 'too many values to unpack' as stated in the error message."
   ]
  },
  {
   "cell_type": "code",
   "execution_count": 44,
   "id": "52d01140-71d7-46fe-aacc-af0662308421",
   "metadata": {},
   "outputs": [
    {
     "name": "stdout",
     "output_type": "stream",
     "text": [
      "Anna Smith\n",
      "Leeroy Jenkins\n"
     ]
    }
   ],
   "source": [
    "for name in phonebook:\n",
    "    print(name)"
   ]
  },
  {
   "cell_type": "markdown",
   "id": "6688bcec-fcb0-47d6-a017-b2dd66c96b40",
   "metadata": {},
   "source": [
    "#### Using `dict.update()` to assign single key-value pairs\n",
    "This is bad practice. Remember to take a look at the [style guide](https://github.com/dhelic/focsp/blob/main/style.md) before ultimately handing in the assignment."
   ]
  },
  {
   "cell_type": "code",
   "execution_count": 45,
   "id": "17837063-5e1c-4291-967b-63f2e0ed4df9",
   "metadata": {},
   "outputs": [
    {
     "data": {
      "text/plain": [
       "{'Anna Smith': 123456789,\n",
       " 'Leeroy Jenkins': 987654321,\n",
       " 'Leo Bonacci': 112358132}"
      ]
     },
     "execution_count": 45,
     "metadata": {},
     "output_type": "execute_result"
    }
   ],
   "source": [
    "phonebook = {'Anna Smith': 123456789,\n",
    "             'Leeroy Jenkins': 987654321}\n",
    "\n",
    "# No:\n",
    "phonebook.update({'Leo Bonacci': 112358132})\n",
    "\n",
    "# Yes:\n",
    "phonebook['Leo Bonacci'] = 112358132\n",
    "\n",
    "phonebook"
   ]
  },
  {
   "cell_type": "markdown",
   "id": "deb07c58-7d5d-41a7-acae-639a5f904b3c",
   "metadata": {},
   "source": [
    "Numeric values with different types can be equal (e.g. 1 == 1.0), this means that they represent the same key. So don't do something like this:"
   ]
  },
  {
   "cell_type": "code",
   "execution_count": 46,
   "id": "dba22ac8-0cae-4d78-bc15-5eb6e61d2c5f",
   "metadata": {},
   "outputs": [
    {
     "name": "stdout",
     "output_type": "stream",
     "text": [
      "float_one\n",
      "float_one\n"
     ]
    }
   ],
   "source": [
    "numbers = {1: 'int_one', 1.0: 'float_one'}\n",
    "\n",
    "print(numbers[1])\n",
    "print(numbers[1.0])"
   ]
  },
  {
   "cell_type": "markdown",
   "id": "d22a25b4-cced-4662-9e08-068a1e8f0819",
   "metadata": {},
   "source": [
    "#### Common mistakes with sets"
   ]
  },
  {
   "cell_type": "code",
   "execution_count": 47,
   "id": "2595418f-cca2-46cf-b87a-28d10ff8f707",
   "metadata": {},
   "outputs": [
    {
     "ename": "TypeError",
     "evalue": "unhashable type: 'list'",
     "output_type": "error",
     "traceback": [
      "\u001b[1;31m---------------------------------------------------------------------------\u001b[0m",
      "\u001b[1;31mTypeError\u001b[0m                                 Traceback (most recent call last)",
      "Input \u001b[1;32mIn [47]\u001b[0m, in \u001b[0;36m<cell line: 1>\u001b[1;34m()\u001b[0m\n\u001b[1;32m----> 1\u001b[0m backpack \u001b[38;5;241m=\u001b[39m {\u001b[38;5;124m'\u001b[39m\u001b[38;5;124mwallet\u001b[39m\u001b[38;5;124m'\u001b[39m, [\u001b[38;5;124m'\u001b[39m\u001b[38;5;124mtoothbrush\u001b[39m\u001b[38;5;124m'\u001b[39m, \u001b[38;5;124m'\u001b[39m\u001b[38;5;124mtoothpaste\u001b[39m\u001b[38;5;124m'\u001b[39m]}\n",
      "\u001b[1;31mTypeError\u001b[0m: unhashable type: 'list'"
     ]
    }
   ],
   "source": [
    "backpack = {'wallet', ['toothbrush', 'toothpaste']} # trying to add muteable objects to a set"
   ]
  },
  {
   "cell_type": "code",
   "execution_count": 48,
   "id": "ba4ced53-d2aa-4b68-b483-d2aad030a239",
   "metadata": {},
   "outputs": [
    {
     "ename": "TypeError",
     "evalue": "'set' object is not subscriptable",
     "output_type": "error",
     "traceback": [
      "\u001b[1;31m---------------------------------------------------------------------------\u001b[0m",
      "\u001b[1;31mTypeError\u001b[0m                                 Traceback (most recent call last)",
      "Input \u001b[1;32mIn [48]\u001b[0m, in \u001b[0;36m<cell line: 2>\u001b[1;34m()\u001b[0m\n\u001b[0;32m      1\u001b[0m backpack \u001b[38;5;241m=\u001b[39m  {\u001b[38;5;124m'\u001b[39m\u001b[38;5;124mwallet\u001b[39m\u001b[38;5;124m'\u001b[39m, \u001b[38;5;124m'\u001b[39m\u001b[38;5;124mtoothbrush\u001b[39m\u001b[38;5;124m'\u001b[39m}\n\u001b[1;32m----> 2\u001b[0m \u001b[38;5;28mprint\u001b[39m(\u001b[43mbackpack\u001b[49m\u001b[43m[\u001b[49m\u001b[38;5;241;43m0\u001b[39;49m\u001b[43m]\u001b[49m)\n",
      "\u001b[1;31mTypeError\u001b[0m: 'set' object is not subscriptable"
     ]
    }
   ],
   "source": [
    "backpack =  {'wallet', 'toothbrush'}\n",
    "print(backpack[0]) # trying to subsubscript a set"
   ]
  },
  {
   "cell_type": "markdown",
   "id": "0f52236c-032e-4619-9ac5-d7b30f67e311",
   "metadata": {},
   "source": [
    "#### Scope and mutable datatypes\n",
    "\n",
    "In your programming career you might want to pass a variable which holds a mutable datatype to function. Be aware that when working with such a variable inside the function, the changes on the variable also hold when you exit the function.\n",
    "If you want to leave your variable unchanged, use a `copy`."
   ]
  },
  {
   "cell_type": "code",
   "execution_count": 55,
   "id": "e90e0c96-cb5d-4253-8e94-4e5c3b6f8d83",
   "metadata": {},
   "outputs": [
    {
     "name": "stdout",
     "output_type": "stream",
     "text": [
      "--------------- Example 1---------------\n",
      "{'compass', 'wallet', 'phone'} \n",
      "\n",
      "id of backpack outside function: 1696923258208\n",
      "id of backpack after applying remove method: 1696923258208\n",
      "bum_bag: {'compass', 'wallet'}\n",
      "backpack: {'compass', 'wallet'}\n",
      "\n",
      "IDs\n",
      "bum_bag:  1696923258208\n",
      "backpack: 1696923258208\n",
      "True\n",
      "--------------- Example 2---------------\n",
      "{'compass', 'wallet', 'phone'} \n",
      "\n",
      "id of backpack outside function: 1696923260896\n",
      "id of backpack after applying remove method: 1696923257984\n",
      "bum_bag: {'compass', 'wallet'}\n",
      "backpack: {'compass', 'wallet', 'phone'}\n",
      "\n",
      "IDs\n",
      "bum_bag:  1696923257984\n",
      "backpack: 1696923260896\n",
      "False\n"
     ]
    }
   ],
   "source": [
    "print(' Example 1'.center(40, '-'))\n",
    "\n",
    "backpack = {'wallet', 'phone', 'compass'} # mutable\n",
    "print(backpack, '\\n')\n",
    "print(f'id of backpack outside function: {id(backpack)}')\n",
    "\n",
    "def remove_item_from_backpack(backpack, item):\n",
    "    if item in backpack:\n",
    "        backpack.remove(item)\n",
    "    print(f'id of backpack after applying remove method: {id(backpack)}')\n",
    "    return backpack\n",
    "\n",
    "bum_bag = remove_item_from_backpack(backpack, 'phone')\n",
    "\n",
    "print(f'bum_bag: {bum_bag}\\nbackpack: {backpack}')\n",
    "print('\\nIDs')\n",
    "print(f'bum_bag:  {id(bum_bag)}\\nbackpack: {id(backpack)}')\n",
    "print(id(bum_bag) == id(backpack))\n",
    "\n",
    "#--------------------------------------------------------------\n",
    "print(' Example 2'.center(40, '-'))\n",
    "\n",
    "\n",
    "backpack = {'wallet', 'phone', 'compass'}\n",
    "print(backpack, '\\n')\n",
    "print(f'id of backpack outside function: {id(backpack)}')\n",
    "\n",
    "def remove_item_from_backpack(backpack, item):\n",
    "    if item in backpack:\n",
    "        backpack.remove(item)\n",
    "        print(f'id of backpack after applying remove method: {id(backpack)}')\n",
    "    return backpack\n",
    "\n",
    "\n",
    "\n",
    "bum_bag = remove_item_from_backpack(backpack.copy(), 'phone') # Difference in this line: we used .copy() on the backpack\n",
    "\n",
    "print(f'bum_bag: {bum_bag}\\nbackpack: {backpack}')\n",
    "print('\\nIDs')\n",
    "print(f'bum_bag:  {id(bum_bag)}\\nbackpack: {id(backpack)}')\n",
    "print(id(bum_bag) == id(backpack))"
   ]
  },
  {
   "cell_type": "markdown",
   "id": "1784bc57-b8c1-4d22-864b-c63ad6dd267a",
   "metadata": {},
   "source": [
    "## Programming examples"
   ]
  },
  {
   "cell_type": "markdown",
   "id": "7aa31aef-6988-42c5-9694-d72872f729ce",
   "metadata": {},
   "source": [
    "### Programming example 1\n",
    "\n",
    "Anna and Jules both have a sheet of paper with a lot of numbers. They want to know:\n",
    "* (a) which numbers are on both Annas and Jules sheet of paper\n",
    "* (b) which numbers are just on Annas sheet of paper\n",
    "* (c) which odd numbers does one of them have but not the other one?\n",
    "\n",
    "`annas_numbers = {12, 45, 22, 66, 53, 87, 21, 23, 99, 88, 14}`\n",
    "\n",
    "`jules_numbers = {12, 33, 87, 99, 44, 66, 98, 77, 45, 23, 12}`\n",
    "\n",
    "\n",
    "Print this statements: \n",
    "\n",
    "`\"Jules and Anna both have the numbers: {numbers}\"`\n",
    "\n",
    "`\"Anna has some numbers, which Jules doesn't have: {numbers}\"`\n",
    "\n",
    "`\"These numbers are odd, and are just on Jules or Annas paper: {numbers}\"`"
   ]
  },
  {
   "cell_type": "code",
   "execution_count": 9,
   "id": "24f4440e",
   "metadata": {},
   "outputs": [],
   "source": [
    "# your code goes here"
   ]
  },
  {
   "cell_type": "markdown",
   "id": "fffb3401-08ba-4697-8b58-ceb8bab08e5f",
   "metadata": {},
   "source": [
    "### Programming example 2\n",
    "\n",
    "Use a dictionary to implement a histogram. Histogram is a statistical tool for a collection of counters (or frequencies) of some objects or quantities. For example suppose that this lists holds the colors of cars owned by a company:\n",
    "\n",
    "`cars = ['red', 'blue', 'red', 'black', 'yellow', 'red', 'blue', 'green', 'green', 'red', 'blue']`\n",
    "\n",
    "Histogram of the car colors is:\n",
    "\n",
    "`'red': 4`\n",
    "\n",
    "`'blue': 3`\n",
    "\n",
    "`'black': 1`\n",
    "\n",
    "`'yellow': 1`\n",
    "\n",
    "`'green': 2`\n",
    "\n",
    "You should write a function called `histogram`, which takes as a parameter a list or a tuple and returns a dictionary with the histogram. Test your function on the cars list from above. Then create three more lists of your choice and test your function again."
   ]
  },
  {
   "cell_type": "code",
   "execution_count": 10,
   "id": "047e0a3d-e6d6-491f-8e30-9a9236890ac1",
   "metadata": {},
   "outputs": [],
   "source": [
    "# your code goes here"
   ]
  },
  {
   "cell_type": "markdown",
   "id": "28a5cc2d-3fde-436d-8ca7-23a6177478ee",
   "metadata": {},
   "source": [
    "### Programming example 3\n",
    "\n",
    "Write a new histogram function for numerical data. The function takes a list or a tuple of numbers and return the counts or frequencies of data falling into intervals or bins of equal length. Your function should also take the number of bins as a second parameter. Using the maximal and the minimal values from your data as well as the number of bins passed to the function, create equally long bins and compute counts of your data falling into each bin. Here is one example:\n",
    "\n",
    "`data = [1, 0, 4, 67, 34, 22, 90, 83, 5, 6, 7, 62, 100]`\n",
    "\n",
    "Hence, we have `max(data)` is 100, `min(data)` is 0 and e.g., with five bins we will have to following intervals and the following histogram:\n",
    "\n",
    "`(0, 20): 6`\n",
    "\n",
    "`(21, 40): 2`\n",
    "\n",
    "`(41, 60): 0`\n",
    "\n",
    "`(61, 80): 2`\n",
    "\n",
    "`(81, 100): 3`\n",
    "\n",
    "Test your function with the data from above. Create three more lists with numbers and test with them as well."
   ]
  },
  {
   "cell_type": "code",
   "execution_count": 12,
   "id": "fa5b6f0c-ba49-4197-975f-8173519ca2ac",
   "metadata": {},
   "outputs": [],
   "source": [
    "# your code goes here"
   ]
  },
  {
   "cell_type": "markdown",
   "id": "a081cbdb-2161-4f19-8821-9acc4fed20b0",
   "metadata": {},
   "source": [
    "### Programming example 4\n",
    "\n",
    "Implement a function that checks whether a string is palindrom with a recursion. Ignore all the characters except for English letters. Ignore the cases."
   ]
  },
  {
   "cell_type": "code",
   "execution_count": 13,
   "id": "8bca7637-ff3b-445d-8b64-9bd5325bda8c",
   "metadata": {},
   "outputs": [],
   "source": [
    "# your code goes here"
   ]
  },
  {
   "cell_type": "markdown",
   "id": "3464966f-39c7-4865-8e8f-0966d0cb40e1",
   "metadata": {},
   "source": [
    "### Programming example 5\n",
    "\n",
    "Implement the binary search for lists with a recursion. As binary search will only work with sorted lists make sure that the list is sorted before you start the search."
   ]
  },
  {
   "cell_type": "code",
   "execution_count": 14,
   "id": "5d743bf7-c0c0-4397-8c63-e19fab3e2679",
   "metadata": {},
   "outputs": [],
   "source": [
    "# your code goes here"
   ]
  }
 ],
 "metadata": {
  "kernelspec": {
   "display_name": "Python 3 (ipykernel)",
   "language": "python",
   "name": "python3"
  },
  "language_info": {
   "codemirror_mode": {
    "name": "ipython",
    "version": 3
   },
   "file_extension": ".py",
   "mimetype": "text/x-python",
   "name": "python",
   "nbconvert_exporter": "python",
   "pygments_lexer": "ipython3",
   "version": "3.10.4"
  }
 },
 "nbformat": 4,
 "nbformat_minor": 5
}
