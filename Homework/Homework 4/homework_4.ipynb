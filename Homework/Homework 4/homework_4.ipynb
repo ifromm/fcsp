{
 "cells": [
  {
   "cell_type": "markdown",
   "metadata": {},
   "source": [
    "# Homework 4"
   ]
  },
  {
   "cell_type": "markdown",
   "metadata": {
    "tags": []
   },
   "source": [
    "## Overview\n",
    "* Variables\n",
    "* Print\n",
    "* Numbers\n",
    "* Math\n",
    "* Booleans\n",
    "* Number comparisons\n",
    "* Object comparisons\n",
    "* Control flow\n",
    "* Strings\n",
    "* Common mistakes - what are errors?\n",
    "* Programming examples"
   ]
  },
  {
   "cell_type": "markdown",
   "metadata": {},
   "source": [
    "## Helpful resources\n",
    "https://docs.python.org/3/library/stdtypes.html  \n",
    "https://learnxinyminutes.com/docs/python3/"
   ]
  },
  {
   "cell_type": "markdown",
   "metadata": {},
   "source": [
    "## Getting started..."
   ]
  },
  {
   "cell_type": "markdown",
   "metadata": {
    "tags": []
   },
   "source": [
    "Python is a programming language. Just as spoken languages, it gives us a the possibility to communicate ideas. \\\n",
    "In terms of programming we write *commands* to communicate with a computer. These commands are usually written in a text file. Such text files are then called *programs*.\\\n",
    "Telling a computer to read these text files is called *running* a program. The computer interpretes the set of operations and commands and performs those actions."
   ]
  },
  {
   "cell_type": "markdown",
   "metadata": {
    "tags": []
   },
   "source": [
    "## Variables\n",
    "\n",
    "Variables are used to store and reuse data. This data can be a number, a string, a Boolean or some other data type. \\\n",
    "The equal sign `=` is used to \"assign\" a value to a variable:"
   ]
  },
  {
   "cell_type": "code",
   "execution_count": 1,
   "metadata": {},
   "outputs": [],
   "source": [
    "this_is_a_number = 10\n",
    "this_is_a_message = 'This is fun!'"
   ]
  },
  {
   "cell_type": "markdown",
   "metadata": {},
   "source": [
    "The name of the variable should describe the assigned data. The variable name can consist of letters, numbers and underscore character `_`. The name can’t begin with numbers but it can have numbers after the first letter (e.g. `super_cool_variable_3` is fine). You can get more information on naming conventions in the [style guide](https://hackmd.io/@info/info_styleguide). \n"
   ]
  },
  {
   "cell_type": "markdown",
   "metadata": {
    "tags": []
   },
   "source": [
    "## Print"
   ]
  },
  {
   "cell_type": "markdown",
   "metadata": {
    "tags": []
   },
   "source": [
    "The usage of `print()` instructs a computer to \"talk\", i.e., print a message. The message you want to print needs to be surrounded by quotes, either ' or \" (you should select one of these characters and use it consistently in all of your programs). The printed words that appear as a result of `print()` are referred to as output. "
   ]
  },
  {
   "cell_type": "code",
   "execution_count": 2,
   "metadata": {
    "tags": []
   },
   "outputs": [
    {
     "name": "stdout",
     "output_type": "stream",
     "text": [
      "Hello beautiful people\n"
     ]
    }
   ],
   "source": [
    "print('Hello beautiful people')"
   ]
  },
  {
   "cell_type": "markdown",
   "metadata": {
    "tags": []
   },
   "source": [
    "By default, the print functions also prints a newline (`\\n`) at the end of the string"
   ]
  },
  {
   "cell_type": "code",
   "execution_count": 3,
   "metadata": {
    "tags": []
   },
   "outputs": [
    {
     "name": "stdout",
     "output_type": "stream",
     "text": [
      "Hello there!\n",
      "Hasta la vista!\n"
     ]
    }
   ],
   "source": [
    "saying_hello = 'Hello there!'\n",
    "saying_goodbye = 'Hasta la vista!'\n",
    "\n",
    "# you can also print the content of a variable\n",
    "print(saying_hello)\n",
    "print(saying_goodbye)"
   ]
  },
  {
   "cell_type": "code",
   "execution_count": null,
   "metadata": {},
   "outputs": [],
   "source": [
    "saying_hello"
   ]
  },
  {
   "cell_type": "markdown",
   "metadata": {},
   "source": [
    "What happened here?  \n",
    "__Jupyter always displays the result of the last statement!__  \n",
    "This is _not_ normal python behaviour. In order to show <span style=\"color:red\">output</span>, you have to use <span style=\"color:red\">_print_</span> in python. <span style=\"color:red\">__Take care of this in your assignments!__</span>"
   ]
  },
  {
   "cell_type": "markdown",
   "metadata": {
    "tags": []
   },
   "source": [
    "## Numbers\n",
    "https://docs.python.org/3/library/stdtypes.html  \n",
    "Numbers can either be integers (natural numbers), floats (decimal numbers) or complex numbers. To find out the type of the number you can use `type` provided by python. Since Python is dynamically-typed you don't have to explicitly define the type of your variables."
   ]
  },
  {
   "cell_type": "markdown",
   "metadata": {
    "tags": []
   },
   "source": [
    "#### Integers:\n",
    "An Integer is a Datatype for natural numbers. The numbers can be negative or positive. In python Integers have unlimited precision."
   ]
  },
  {
   "cell_type": "code",
   "execution_count": null,
   "metadata": {
    "tags": []
   },
   "outputs": [],
   "source": [
    "an_integer = 5\n",
    "type(an_integer) # The type is int"
   ]
  },
  {
   "cell_type": "code",
   "execution_count": null,
   "metadata": {
    "tags": []
   },
   "outputs": [],
   "source": [
    "an_integer"
   ]
  },
  {
   "cell_type": "markdown",
   "metadata": {
    "tags": []
   },
   "source": [
    "#### Floats:\n",
    "A Float is a Datatype for decimal numbers. These numbers can be also negative or positive. In python floats have a limited precision, dependent on the system."
   ]
  },
  {
   "cell_type": "code",
   "execution_count": null,
   "metadata": {
    "tags": []
   },
   "outputs": [],
   "source": [
    "a_float = 1.45\n",
    "type(a_float) # the type is float"
   ]
  },
  {
   "cell_type": "code",
   "execution_count": null,
   "metadata": {
    "tags": []
   },
   "outputs": [],
   "source": [
    "a_float"
   ]
  },
  {
   "cell_type": "markdown",
   "metadata": {
    "tags": []
   },
   "source": [
    "#### Complex numbers\n",
    "A Complex is Datatype for complex numbers composed of a real and a imaginary part. Each of the part is a float."
   ]
  },
  {
   "cell_type": "code",
   "execution_count": null,
   "metadata": {
    "tags": []
   },
   "outputs": [],
   "source": [
    "a_complex_number = 10.1 + 3j\n",
    "type(a_complex_number) # the type is complex"
   ]
  },
  {
   "cell_type": "code",
   "execution_count": null,
   "metadata": {
    "tags": []
   },
   "outputs": [],
   "source": [
    "a_complex_number"
   ]
  },
  {
   "cell_type": "markdown",
   "metadata": {},
   "source": [
    "#### Using the Constructors:\n",
    "The constructors `int()`, `float()`, and `complex()` can be used to produce numbers of a specific type."
   ]
  },
  {
   "cell_type": "code",
   "execution_count": null,
   "metadata": {
    "tags": []
   },
   "outputs": [],
   "source": [
    "an_integer = int(5)\n",
    "an_integer"
   ]
  },
  {
   "cell_type": "code",
   "execution_count": null,
   "metadata": {
    "tags": []
   },
   "outputs": [],
   "source": [
    "a_float = float(5)\n",
    "a_float"
   ]
  },
  {
   "cell_type": "code",
   "execution_count": null,
   "metadata": {
    "tags": []
   },
   "outputs": [],
   "source": [
    "a_complex_number = complex(5, 3)\n",
    "a_complex_number"
   ]
  },
  {
   "cell_type": "markdown",
   "metadata": {
    "tags": []
   },
   "source": [
    "The constructors `int()`, `float()`, and `complex()` can also be used to cast numbers. Casting is the procedure of converting the type of the number to another type."
   ]
  },
  {
   "cell_type": "markdown",
   "metadata": {
    "tags": []
   },
   "source": [
    "## Math\n",
    "Following math operations are available in python (for float and int):\n",
    "\n",
    "| Operation         | Result                                                                      | Notes  | Full documentation |\n",
    "|-------------------|-----------------------------------------------------------------------------|--------|--------------------|\n",
    "| `x + y`           | sum of x and y                                                              |        |                    |\n",
    "| `x - y`           | difference of x and y                                                       |        |                    |\n",
    "| `x * y`           | product of x and y                                                          |        |                    |\n",
    "| `x / y`           | quotient of x and y                                                         |        |                    |\n",
    "| `x // y`          | floored quotient of x and y                                                 | (1)    |                    |\n",
    "| `x % y`           | remainder of x / y  (modulo)                                                | (2)    |                    |\n",
    "| `-x`              | x negated                                                                   |        |                    |\n",
    "| `+x`              | x unchanged                                                                 |        |                    |\n",
    "| `abs(x)`          | absolute value or magnitude of x                                            |        | abs()              |\n",
    "| `int(x)`          | x converted to integer                                                      | (3)(6) | int()              |\n",
    "| `float(x)`        | x converted to floating point                                               | (4)(6) | float()            |\n",
    "| `complex(re, im)` | a complex number with real part re, imaginary part im. im defaults to zero. | (6)    | complex()          |\n",
    "| `c.conjugate()`   | conjugate of the complex number c                                           |        |                    |\n",
    "| `divmod(x, y)`    | the pair (x // y, x % y)                                                    | (2)    | divmod()           |\n",
    "| `pow(x, y)`       | x to the power y (attention x ^ y is not the power but the Bitwise Xor of the two numbers)                    | (5)    | pow()              |\n",
    "| `x ** y`          | x to the power y (attention x ^ y is not the power but the Bitwise Xor of the two numbers)                    | (5)    |                    |\n",
    "\n",
    "Notes:\n",
    "\n",
    "1) Also referred to as integer division. The result is a natural integer, though the result’s type is not necessarily int. The result is the largest integer smaller than the quotient: `1//2` is `0`, `(-1)//2` is `-1`, `1//(-2)` is `-1`, and `(-1)//(-2)` is `0`.\n",
    "\n",
    "2) Not for complex numbers. Instead convert to floats using abs() if appropriate.\n",
    "\n",
    "3) Conversion from floating point to integer may round or truncate; see functions math.floor() and math.ceil() for well-defined conversions.\n",
    "\n",
    "4) float also accepts the strings `nan` and `inf` with an optional prefix `+` or `-` for Not a Number (NaN) and positive or negative infinity.\n",
    "\n",
    "5) Python defines `pow(0, 0)` and `0 ** 0` to be `1`, as is common for programming languages.\n",
    "\n",
    "6) The numeric literals accepted include the digits 0 to 9 or any Unicode equivalent (code points with the Nd property). See https://www.unicode.org/Public/13.0.0/ucd/extracted/DerivedNumericType.txt for a complete list of code points with the Nd property."
   ]
  },
  {
   "cell_type": "markdown",
   "metadata": {},
   "source": [
    "## Booleans\n",
    "https://docs.python.org/3/library/stdtypes.html#truth-value-testing  \n",
    "Python also supports Boolean Datatype. Booleans can only be one of two values, which are `True` or `False`. Notice the capital letters at the beginning."
   ]
  },
  {
   "cell_type": "code",
   "execution_count": null,
   "metadata": {},
   "outputs": [],
   "source": [
    "true_value = True\n",
    "false_value = False\n",
    "type(true_value)"
   ]
  },
  {
   "cell_type": "markdown",
   "metadata": {},
   "source": [
    "Booleans can be combined an manipulated. There are the following Boolean logical operations:\n",
    "\n",
    "| Logical operation     | Operator    | Result                               |\n",
    "|-----------------------|-------------|--------------------------------------|\n",
    "| Disjunction           | `x or y`    | (OR) if x is false, then y, else x        |\n",
    "| Conjunction           | `x and y`   | (AND) if x is false, then x, else y        |\n",
    "| Negation              | `not x`     | (NOT) if x is false, then True, else False |\n",
    "| Exclusive disjunction | `x ^ y`     | (XOR) if x is false, then y, else y, if x and y is true, then false |\n",
    "\n",
    "\n",
    "To compare two booleans we use `==`."
   ]
  },
  {
   "cell_type": "markdown",
   "metadata": {},
   "source": [
    "#### `and`\n",
    "\"And\" Boolean operator\n",
    "\n",
    "|   x   |   y   | `x and y` |\n",
    "|-------|-------|-----------|\n",
    "|`False`|`False`| `False`   |\n",
    "|`False`|`True` | `False`   |\n",
    "|`True` |`False`| `False`   |\n",
    "|`True` |`True` | `True`    |"
   ]
  },
  {
   "cell_type": "code",
   "execution_count": null,
   "metadata": {},
   "outputs": [],
   "source": [
    "true_value and false_value"
   ]
  },
  {
   "cell_type": "markdown",
   "metadata": {
    "tags": []
   },
   "source": [
    "#### `or`\n",
    "\"Or\" Boolean operator\n",
    "\n",
    "|   x   |   y   | `x or y` |\n",
    "|-------|-------|-----------|\n",
    "|`False`|`False`| `False`   |\n",
    "|`False`|`True` | `True`    |\n",
    "|`True` |`False`| `True`    |\n",
    "|`True` |`True` | `True`    |"
   ]
  },
  {
   "cell_type": "code",
   "execution_count": null,
   "metadata": {},
   "outputs": [],
   "source": [
    "true_value or false_value"
   ]
  },
  {
   "cell_type": "markdown",
   "metadata": {},
   "source": [
    "#### `not`\n",
    "\"Not\" Boolean operator\n",
    "\n",
    "|   x   |   `not x` |\n",
    "|-------|-----------|\n",
    "|`True` | `False`   |\n",
    "|`False`| `True`    |"
   ]
  },
  {
   "cell_type": "code",
   "execution_count": null,
   "metadata": {},
   "outputs": [],
   "source": [
    "not true_value"
   ]
  },
  {
   "cell_type": "code",
   "execution_count": null,
   "metadata": {},
   "outputs": [],
   "source": [
    "not false_value"
   ]
  },
  {
   "cell_type": "markdown",
   "metadata": {},
   "source": [
    "#### XOR `^`\n",
    "\"Xor\" Boolean operator\n",
    "\n",
    "|   x   |   y   | `x ^ y` |\n",
    "|-------|-------|-----------|\n",
    "|`False`|`False`| `False`   |\n",
    "|`False`|`True` | `True`    |\n",
    "|`True` |`False`| `True`    |\n",
    "|`True` |`True` | `False`    |"
   ]
  },
  {
   "cell_type": "code",
   "execution_count": null,
   "metadata": {},
   "outputs": [],
   "source": [
    "true_value ^ false_value"
   ]
  },
  {
   "cell_type": "markdown",
   "metadata": {},
   "source": [
    "## Number comparisons\n",
    "The comparisons of two numbers results in a Boolean.\n",
    "In Python there are six comparison operators:  \n",
    "\n",
    "| Operation   | Meaning                 | Example                         |\n",
    "|-------------|-------------------------|---------------------------------|\n",
    "| `<`         | strictly less than      | `5 < 4` -> `False`              |\n",
    "| `<=`        | less than or equal      | `5 <= 4` -> `False`             |\n",
    "| `>`         | strictly greater than   | `5 > 4` -> `True`               |\n",
    "| `>=`        | greater than or equal   | `5 >= 4` -> `False`             |\n",
    "| `==`        | equal                   | `5 == 4` -> `False`             |\n",
    "| `!=`        | not equal               | `5 != 4` -> `True`              |"
   ]
  },
  {
   "cell_type": "markdown",
   "metadata": {},
   "source": [
    "**Be careful with float comparisons!**"
   ]
  },
  {
   "cell_type": "code",
   "execution_count": null,
   "metadata": {},
   "outputs": [],
   "source": [
    "0.1 + 0.1 + 0.1 + 0.1 + 0.1 + 0.1 + 0.1 == 0.7"
   ]
  },
  {
   "cell_type": "code",
   "execution_count": null,
   "metadata": {},
   "outputs": [],
   "source": [
    "0.1 + 0.1 + 0.1 + 0.1 + 0.1 + 0.1 + 0.1 + 0.1 == 0.8"
   ]
  },
  {
   "cell_type": "markdown",
   "metadata": {},
   "source": [
    "What happend here? Remember that the floats do not have infinite precision:"
   ]
  },
  {
   "cell_type": "code",
   "execution_count": null,
   "metadata": {},
   "outputs": [],
   "source": [
    "0.1 + 0.1 + 0.1 + 0.1 + 0.1 + 0.1 + 0.1 + 0.1"
   ]
  },
  {
   "cell_type": "markdown",
   "metadata": {},
   "source": [
    "Let's have a look at `0.1` up to the 42 decimal place. You should see that the higher decimal places are not zero."
   ]
  },
  {
   "cell_type": "code",
   "execution_count": null,
   "metadata": {},
   "outputs": [],
   "source": [
    "a = 0.1\n",
    "print(a)\n",
    "print(f\"{a:.42f}\")"
   ]
  },
  {
   "cell_type": "markdown",
   "metadata": {},
   "source": [
    "Ok? What should you do with this Information? You should be **extremely** careful when comparing floating numbers for equality, actually you should **never** compare floating numbers for equality. But what if you have to compare them? You always should compare whether the **difference of the two numbers is small**:"
   ]
  },
  {
   "cell_type": "code",
   "execution_count": null,
   "metadata": {},
   "outputs": [],
   "source": [
    "abs(0.1 + 0.1 + 0.1 + 0.1 + 0.1 + 0.1 + 0.1 + 0.1 - 0.8) < 10**-10 # 0.1+0.1+0.1+0.1+0.1+0.1+0.1+0.1 == 0.8 rewritten"
   ]
  },
  {
   "cell_type": "markdown",
   "metadata": {},
   "source": [
    "## Object comparisons\n",
    "\n",
    "In addition to number comparisons, there are two identity operators, which check whether two variables are the same object, \n",
    "i.e., whether they occupy the same memory location.\n",
    "\n",
    "| Operation   | Meaning                 | Example                         |\n",
    "|-------------|-------------------------|---------------------------------|\n",
    "| `is`        | object identity         | `x is y` -> `False`             |\n",
    "| `is not`    | negated object identity | `x is not y` -> `True`          |"
   ]
  },
  {
   "cell_type": "code",
   "execution_count": null,
   "metadata": {},
   "outputs": [],
   "source": [
    "a = 0.1\n",
    "b = 0.1"
   ]
  },
  {
   "cell_type": "markdown",
   "metadata": {},
   "source": [
    "`a` and `b` have the same value, hence:"
   ]
  },
  {
   "cell_type": "code",
   "execution_count": null,
   "metadata": {},
   "outputs": [],
   "source": [
    "a == b"
   ]
  },
  {
   "cell_type": "markdown",
   "metadata": {},
   "source": [
    "But `a` and `b` are different objects and they occupy different memory locations:"
   ]
  },
  {
   "cell_type": "code",
   "execution_count": null,
   "metadata": {},
   "outputs": [],
   "source": [
    "a is b"
   ]
  },
  {
   "cell_type": "code",
   "execution_count": null,
   "metadata": {},
   "outputs": [],
   "source": [
    "a is not b"
   ]
  },
  {
   "cell_type": "markdown",
   "metadata": {},
   "source": [
    "## Control flow\n",
    "https://docs.python.org/3/tutorial/controlflow.html  \n",
    "In python, there are different possibilities to control the flow of the program. The most simple and intuitive control flow statement is the conditional statement `if`, `else` and `elif`.\n",
    "General form:\n",
    "```python\n",
    "if condition:\n",
    "    # do something\n",
    "elif some_other_condition:\n",
    "    # do something else\n",
    "else:\n",
    "    # do something different\n",
    "```"
   ]
  },
  {
   "cell_type": "code",
   "execution_count": null,
   "metadata": {},
   "outputs": [],
   "source": [
    "a_number = 17\n",
    "if a_number > 10:\n",
    "    print(\"a_number is larger than 10.\")\n",
    "elif a_number < 10:    # This elif clause is optional.\n",
    "    print(\"a_number is smaller than 10.\")\n",
    "else:                  # This is optional too.\n",
    "    print(\"a_number is indeed 10.\")"
   ]
  },
  {
   "cell_type": "markdown",
   "metadata": {},
   "source": [
    "## Strings\n",
    "https://docs.python.org/3/library/stdtypes.html#textseq  \n",
    "Another Datatype in Python is `string`. This Datatype holds textual data. A string in python is created with double quotes (\") or single quotes (') (Important don't mix them up!). Each string can be seen as a sequence of characters.\n",
    "You can do a lot with strings and since python is a cool programing language it provides already a big set of string methods to use, the most important are:  \n",
    "\n",
    "| Method          | Result                                                |\n",
    "|-----------------|-------------------------------------------------------|\n",
    "| `len(string)`   | gives the length of the string (number of characters) |\n",
    "| `string[4]`     | gives the 5th character of the string (indexing starts at 0!)\n",
    "| `str.join(iterable)` | Joins the iterable to a string. `str` is the delimiter between the elements |\n",
    "| `str.split(sep=None, maxsplit=- 1)`| Splits the string by the seperator |\n",
    "| `str.find(sub[, start[, end]])` | Finds the substring in `str` and returns the index |\n",
    "| `str.replace(old, new[, count])`| Replaces `old` with `new` in `str` |\n",
    "| `string.isdigit()` | Checks if the string is only consisting of numbers |\n",
    "* More information: https://docs.python.org/3/library/stdtypes.html#string-methods"
   ]
  },
  {
   "cell_type": "code",
   "execution_count": null,
   "metadata": {},
   "outputs": [],
   "source": [
    "string_1 = \"Hello\"\n",
    "string_2 = 'World'"
   ]
  },
  {
   "cell_type": "markdown",
   "metadata": {},
   "source": [
    "### \"Mathematical\" operations on strings\n",
    "\n",
    "What? Math on string? This is getting crazy.  \n",
    "But actually it makes sense:  \n",
    "If you want to concatenate two strings you can use `+`:"
   ]
  },
  {
   "cell_type": "code",
   "execution_count": null,
   "metadata": {},
   "outputs": [],
   "source": [
    "string_1 + ' ' + string_2"
   ]
  },
  {
   "cell_type": "code",
   "execution_count": null,
   "metadata": {},
   "outputs": [],
   "source": [
    "string_2 + ' ' + string_1"
   ]
  },
  {
   "cell_type": "markdown",
   "metadata": {},
   "source": [
    "If you want to repeat a string 10 times you can use `*`:"
   ]
  },
  {
   "cell_type": "code",
   "execution_count": null,
   "metadata": {},
   "outputs": [],
   "source": [
    "string_1 * 10"
   ]
  },
  {
   "cell_type": "markdown",
   "metadata": {},
   "source": [
    "To get a single character of the string you can use square brakets. Be carefull, we always start indexing with 0!  \n",
    "For example the string `hello_world = 'Hello World'` has the following indexing:  \n",
    "```python\n",
    "hello_world[0] = 'H'\n",
    "hello_world[1] = 'e'\n",
    "hello_world[2] = 'l'\n",
    "hello_world[3] = 'l'\n",
    "hello_world[4] = 'o'\n",
    "hello_world[5] = ' '\n",
    "hello_world[6] = 'W'\n",
    "hello_world[7] = 'o'\n",
    "hello_world[8] = 'r'\n",
    "hello_world[9] = 'l'\n",
    "hello_world[10] = 'd'\n",
    "```\n",
    "\n",
    "You can also get substrings from the string by slicing. The slicing follows this pattern:\n",
    "```python\n",
    "str[start:end:stepsize]\n",
    "```\n",
    "Notice that `start` is always inclusive and `end` exclusive.\n",
    "\n",
    "eg:\n",
    "```python\n",
    "hello_world[0:4] = 'Hell'\n",
    "hello_world[0:4:2] = 'Hl'\n",
    "hello_world[0:-3] = 'Hello Wo'\n",
    "hello_world[0:-3:3] = 'HlW'\n",
    "hello_world[::] = 'Hello World'\n",
    "hello_world[::-1] = 'dlroW olleH' # reverse String\n",
    "```"
   ]
  },
  {
   "cell_type": "markdown",
   "metadata": {
    "tags": []
   },
   "source": [
    "Now let´s also take a look at the methods we mentioned earlier that exist for strings:"
   ]
  },
  {
   "cell_type": "code",
   "execution_count": null,
   "metadata": {
    "tags": []
   },
   "outputs": [],
   "source": [
    "string = 'I am a string'"
   ]
  },
  {
   "cell_type": "code",
   "execution_count": null,
   "metadata": {
    "tags": []
   },
   "outputs": [],
   "source": [
    "len(string)"
   ]
  },
  {
   "cell_type": "code",
   "execution_count": null,
   "metadata": {
    "tags": []
   },
   "outputs": [],
   "source": [
    "splitted_string = string.split(' ')\n",
    "splitted_string"
   ]
  },
  {
   "cell_type": "code",
   "execution_count": null,
   "metadata": {},
   "outputs": [],
   "source": [
    "' '.join(splitted_string)"
   ]
  },
  {
   "cell_type": "code",
   "execution_count": null,
   "metadata": {
    "tags": []
   },
   "outputs": [],
   "source": [
    "string.find('string') # returns the index where the substring starts. What happens if the substring does not exist?"
   ]
  },
  {
   "cell_type": "code",
   "execution_count": null,
   "metadata": {},
   "outputs": [],
   "source": [
    "string = '123'\n",
    "string.isdigit()"
   ]
  },
  {
   "cell_type": "markdown",
   "metadata": {},
   "source": [
    "There are different ways to create a string containing a value of a variable:"
   ]
  },
  {
   "cell_type": "code",
   "execution_count": null,
   "metadata": {},
   "outputs": [],
   "source": [
    "name = 'Tim'\n",
    "age = 25\n",
    "print(f'Hi, my name is {name} and I am {age} years old')"
   ]
  },
  {
   "cell_type": "code",
   "execution_count": null,
   "metadata": {
    "tags": []
   },
   "outputs": [],
   "source": [
    "pi = 3.14159265359\n",
    "print(f'{pi:.2f}, take it or leave it')"
   ]
  },
  {
   "cell_type": "markdown",
   "metadata": {
    "tags": []
   },
   "source": [
    "## Common mistakes - what are errors?"
   ]
  },
  {
   "cell_type": "markdown",
   "metadata": {},
   "source": [
    "Programming languages are able to find (they point to the location where a mistake occurred), understand and explain (some of the) mistakes that are made in a program.  \n",
    "These mistakes are calle *errors* or *bugs*. This is why the process of changing a program until it no longer produces errors is called *debugging*."
   ]
  },
  {
   "cell_type": "markdown",
   "metadata": {},
   "source": [
    "Common errors are  `SyntaxError`, `NameError`, `IndentationError` and `IndexError` (index out of range). \n",
    "\n",
    "A `SyntaxError` occurs when there is something wrong with the way your program is written (punctuation, missing parenthesis...):"
   ]
  },
  {
   "cell_type": "code",
   "execution_count": null,
   "metadata": {
    "tags": []
   },
   "outputs": [],
   "source": [
    "# no error here\n",
    "# this is the second line\n",
    "# there will be an error in line 4:\n",
    "print(\"This message has mismatched quote marks!') "
   ]
  },
  {
   "cell_type": "code",
   "execution_count": null,
   "metadata": {},
   "outputs": [],
   "source": [
    "print(len('Hello')"
   ]
  },
  {
   "cell_type": "code",
   "execution_count": null,
   "metadata": {
    "tags": []
   },
   "outputs": [],
   "source": [
    "some_var = 17\n",
    "if some_var > 10\n",
    "    print(\"some_var is totally bigger than 10.\")"
   ]
  },
  {
   "cell_type": "markdown",
   "metadata": {},
   "source": [
    "A `NameError` occurs when the Python interpreter sees a word which is not recognized:"
   ]
  },
  {
   "cell_type": "code",
   "execution_count": null,
   "metadata": {},
   "outputs": [],
   "source": [
    "spell = Abracadabra"
   ]
  },
  {
   "cell_type": "code",
   "execution_count": null,
   "metadata": {},
   "outputs": [],
   "source": [
    "number = flot(8)"
   ]
  },
  {
   "cell_type": "code",
   "execution_count": null,
   "metadata": {},
   "outputs": [],
   "source": [
    "boolean = true"
   ]
  },
  {
   "cell_type": "markdown",
   "metadata": {},
   "source": [
    "An `IndentationError` occurs when the spaces or tabs are not placed properly:"
   ]
  },
  {
   "cell_type": "code",
   "execution_count": null,
   "metadata": {},
   "outputs": [],
   "source": [
    "some_var = 17\n",
    "\n",
    "if some_var > 10:\n",
    "print('some_var is larger than 10.') # no indendation at all\n",
    "elif some_var < 10: \n",
    "  print('some_var is smaller than 10.') # this will not produce an error, but should be avoided\n",
    "else:                 \n",
    "            print('some_var is indeed 10.') #this will not produce an error, but should be avoided"
   ]
  },
  {
   "cell_type": "markdown",
   "metadata": {},
   "source": [
    "An `IndexError` will occur when your code is trying to access an index that is invalid:"
   ]
  },
  {
   "cell_type": "code",
   "execution_count": null,
   "metadata": {},
   "outputs": [],
   "source": [
    "hello_world = 'Hello World'\n",
    "\n",
    "hello_world[13]"
   ]
  },
  {
   "cell_type": "markdown",
   "metadata": {},
   "source": [
    "## Programming examples"
   ]
  },
  {
   "cell_type": "markdown",
   "metadata": {
    "tags": []
   },
   "source": [
    "### Programming example 1"
   ]
  },
  {
   "cell_type": "markdown",
   "metadata": {},
   "source": [
    "Compute the body-mass index (BMI) using the following formula:\n",
    "\n",
    "$BMI = \\frac{weight\\;[kg]}{(height\\;[m])^2}$\n",
    "\n",
    "You should first declare and initialize the variables `weight` and `height` by assigning them values of your choice.\n",
    "Print the BMI rounded to 2 decimal places and also its classification as below:\n",
    "\n",
    "* BMI < 18.5: underweight\n",
    "* 18.5 <= BMI < 25: normal weight\n",
    "* 25 <= BMI < 30: overweight\n",
    "* 30 <= BMI < 40: obesity\n",
    "* BMI >= 40: morbid obesity\n",
    "\n",
    "Hint: use if/elif/else statements.\n",
    "\n",
    "**Example:**\n",
    "\n",
    "``\n",
    "weight = 69\n",
    "``\n",
    "\n",
    "``\n",
    "height = 1.75\n",
    "``\n",
    "\n",
    "You should display something like:\n",
    "```\n",
    "BMI: 22.53\n",
    "Classification: normal weight\n",
    "```"
   ]
  },
  {
   "cell_type": "code",
   "execution_count": null,
   "metadata": {},
   "outputs": [],
   "source": [
    "# Your code goes here\n"
   ]
  },
  {
   "cell_type": "markdown",
   "metadata": {},
   "source": [
    "### Programming example 2"
   ]
  },
  {
   "cell_type": "markdown",
   "metadata": {},
   "source": [
    "If I leave my house at 6:52 am and run 1 kilometer at an easy pace (8:15 per kilometer), then 3 kilometers at\n",
    "tempo (7:12 per kilometer) and 1 kilometer at easy pace again, what time do I get home for breakfast?"
   ]
  },
  {
   "cell_type": "code",
   "execution_count": null,
   "metadata": {},
   "outputs": [],
   "source": [
    "# Your code goes here\n"
   ]
  },
  {
   "cell_type": "markdown",
   "metadata": {},
   "source": [
    "### Programming example 3"
   ]
  },
  {
   "cell_type": "markdown",
   "metadata": {},
   "source": [
    "Declare and initialize a string of your choice, e.g., use your name as the initial value of the string.\n",
    "Print the string with enough leading spaces so that the last letter of the string is in column 40\n",
    "of the display, e.g.:\\\n",
    "<code>                                   denis</code>"
   ]
  },
  {
   "cell_type": "code",
   "execution_count": null,
   "metadata": {},
   "outputs": [],
   "source": [
    "# Your code goes here"
   ]
  },
  {
   "cell_type": "markdown",
   "metadata": {},
   "source": [
    "### Programming example 4"
   ]
  },
  {
   "cell_type": "markdown",
   "metadata": {},
   "source": [
    "Declare and initialize a string of your choice with odd number of characters. Using string slicing extract the following substrings from the original string:\n",
    "* substring starting at the beginning of the string until the middle (not including the middle character) of the string\n",
    "* substring starting at the beginning of the string until the middle (including the middle character) of the string\n",
    "* substring starting at the middle (not including the middle character) until the end of the string\n",
    "* substring starting at the middle (including the middle character) until the end of the string\n",
    "* substring including every second character of the original string\n",
    "* substring including every third character of the original string\n",
    "* substring including every second character but in reverse"
   ]
  },
  {
   "cell_type": "code",
   "execution_count": null,
   "metadata": {},
   "outputs": [],
   "source": [
    "# Your code goes here"
   ]
  }
 ],
 "metadata": {
  "kernelspec": {
   "display_name": "Python 3 (ipykernel)",
   "language": "python",
   "name": "python3"
  },
  "language_info": {
   "codemirror_mode": {
    "name": "ipython",
    "version": 3
   },
   "file_extension": ".py",
   "mimetype": "text/x-python",
   "name": "python",
   "nbconvert_exporter": "python",
   "pygments_lexer": "ipython3",
   "version": "3.10.4"
  }
 },
 "nbformat": 4,
 "nbformat_minor": 4
}
