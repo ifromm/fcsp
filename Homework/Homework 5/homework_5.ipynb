{
 "cells": [
  {
   "cell_type": "markdown",
   "id": "42df0f01-c219-499e-a596-a1515eb55361",
   "metadata": {
    "tags": []
   },
   "source": [
    "# Homework 5"
   ]
  },
  {
   "cell_type": "markdown",
   "id": "dcad3c7d-6089-46cd-b1bd-c79d450e4bec",
   "metadata": {
    "jp-MarkdownHeadingCollapsed": true,
    "tags": []
   },
   "source": [
    "## Overview\n",
    "* Lists\n",
    "* Tuples\n",
    "* For loops\n",
    "* Input\n",
    "* While loops\n",
    "* Common mistakes\n",
    "* Programming examples"
   ]
  },
  {
   "cell_type": "markdown",
   "id": "f19982e4-0d8a-49dd-81d4-43ab74592ca0",
   "metadata": {},
   "source": [
    "## Lists\n",
    "\n",
    "https://docs.python.org/3.9/tutorial/datastructures.html#<br>\n",
    "https://docs.python.org/3.9/tutorial/datastructures.html#tuples-and-sequences\n",
    "\n",
    "Lists can be used to store a sequence (an array) of arbitrary items. The elements don't need to be from the same datatype, you can mix them up as you like. The list can be changed and every element can be replaced or deleted after assignment. Also, new elements can be always added to the list. We call such kind of objects, which we can change at any time, mutable objects. Unlike other programming-languages, you don't need to know the exact size of the list or which datatype will be stored in the list - this is all managed by python! (--> very convenient for us).\n",
    "\n",
    "**List-Properties:**\n",
    "* stores data from any datatype (can be mixed as well),\n",
    "* iterable (we can iterate over the elements),\n",
    "* mutable (we can change it any time),\n",
    "* can contain mutable elements (the elements of the list may be also changed at any time).\n",
    "\n",
    "**Python-Syntax:** `list_name = [item0, item1, item2, etc]`"
   ]
  },
  {
   "cell_type": "code",
   "execution_count": null,
   "id": "9921565f",
   "metadata": {},
   "outputs": [],
   "source": [
    "list_of_arbitrary_items = [1, 2, 3.5, 4, 4, 'I am a list item (*-*)']"
   ]
  },
  {
   "cell_type": "markdown",
   "id": "88404aee-d7ca-4f89-82cb-b7ecb00cd64a",
   "metadata": {},
   "source": [
    "Every list item can be accessed by its index. Keep in mind, that the **indices start at 0**! Typically, you iterate through the list from the 'left' to the 'right' but you can also go the other way around using negative indices. In this case, **the last list-element would be at index -1**. But what happens if you want to use an index which is higher than the index of the last element? Python will gently force you to correct this mistake by raising an IndexError. \n",
    "\n",
    "**Python-Syntax:** `list_name[index]`"
   ]
  },
  {
   "cell_type": "code",
   "execution_count": null,
   "id": "0eac05e9",
   "metadata": {},
   "outputs": [],
   "source": [
    "print(list_of_arbitrary_items[0])    # accesses first list-element\n",
    "print(list_of_arbitrary_items[3])    # accesses fourth list-element\n",
    "print(list_of_arbitrary_items[-1])   # accesses the last lists-element the other way round\n",
    "print(list_of_arbitrary_items[6])    # This does not work!"
   ]
  },
  {
   "cell_type": "markdown",
   "id": "a7fdd46d-3b97-4c4d-a78a-d2a98dee5596",
   "metadata": {},
   "source": [
    "In some cases you don't know the values you want to store in the first place. It is common practice to define an empty list which will be filled with data at a later time. \n",
    "\n",
    "**Python-Syntax:** `list_name = []` "
   ]
  },
  {
   "cell_type": "code",
   "execution_count": null,
   "id": "943d4e6d",
   "metadata": {},
   "outputs": [],
   "source": [
    "empty_list = []     # this list will be filled later\n",
    "print(empty_list)"
   ]
  },
  {
   "cell_type": "markdown",
   "id": "f63221b5-750d-424f-b397-6a2372779706",
   "metadata": {},
   "source": [
    "As we already know, lists are mutable datatypes and now we will try to (i) overwrite/replace an already existing element using its index and to (ii) add a completely new element. The new element will be added at the end of the already exisiting list. \n",
    "\n",
    "**Python-Syntax:** \n",
    "* replace an element: `list_name[index] = new_value`\n",
    "* add an element: `list_name.append(new_value)`\n"
   ]
  },
  {
   "cell_type": "code",
   "execution_count": null,
   "id": "69da9e74",
   "metadata": {},
   "outputs": [],
   "source": [
    "# replace an element:\n",
    "print(list_of_arbitrary_items)     # before the replacement\n",
    "list_of_arbitrary_items[2] = 9\n",
    "print(list_of_arbitrary_items)     # after the replacement\n",
    "\n",
    "# add an element:\n",
    "list_of_arbitrary_items.append(1)\n",
    "list_of_arbitrary_items.append(2)\n",
    "print(list_of_arbitrary_items)"
   ]
  },
  {
   "cell_type": "markdown",
   "id": "aac9c794-4682-4a7b-ac01-d6696bc8ac10",
   "metadata": {},
   "source": [
    "With `append`, you can **only add one item to the list at a time**. "
   ]
  },
  {
   "cell_type": "code",
   "execution_count": null,
   "id": "ef9e7988",
   "metadata": {},
   "outputs": [],
   "source": [
    "empty_list.append(1, 2)        # This won't work!\n",
    "print(empty_list)"
   ]
  },
  {
   "cell_type": "markdown",
   "id": "2f6aeaab-e604-42a2-a6b2-24af8f7cd6dd",
   "metadata": {},
   "source": [
    "But behold! There is a way to add more items at once to a list. Unfortunately, the subtraction of a list from a list is not supported.   "
   ]
  },
  {
   "cell_type": "code",
   "execution_count": null,
   "id": "e2fba136",
   "metadata": {},
   "outputs": [],
   "source": [
    "empty_list += [4, 3, 2, 1] \n",
    "print(empty_list)"
   ]
  },
  {
   "cell_type": "markdown",
   "id": "6f8aedad-d02f-4061-9c20-b33a5ce6b93a",
   "metadata": {},
   "source": [
    "Alternatively, we can use extend function to add more elements to a list with one call."
   ]
  },
  {
   "cell_type": "code",
   "execution_count": null,
   "id": "1419bff4-8b79-4df2-9f04-6aaf009dd176",
   "metadata": {},
   "outputs": [],
   "source": [
    "empty_list = []       # we initialize again to the empty list of elements\n",
    "empty_list.extend([4, 3, 2, 1])\n",
    "print(empty_list)"
   ]
  },
  {
   "cell_type": "markdown",
   "id": "3cd7bbf5-f798-41af-bf2f-a4a691a9e448",
   "metadata": {},
   "source": [
    "Let us see what will happen if we use append function to add a list of elements:"
   ]
  },
  {
   "cell_type": "code",
   "execution_count": null,
   "id": "231cc2c5-a518-48ac-8860-7d7e826bedcc",
   "metadata": {},
   "outputs": [],
   "source": [
    "empty_list = []       # we initialize again to the empty list of elements\n",
    "empty_list.append([4,3,2,1])\n",
    "print(empty_list)"
   ]
  },
  {
   "cell_type": "markdown",
   "id": "f2dddb34-2312-4a64-b15d-a033d024e12e",
   "metadata": {},
   "source": [
    "In this case, append function adds the list as an element but not all the individual elements to the list (notice the double square brackets)! Be carefull there!"
   ]
  },
  {
   "cell_type": "markdown",
   "id": "897a676b-fce7-41e7-a51a-df6058f982bc",
   "metadata": {},
   "source": [
    "If you want to know, how many elements are stored in you list (e.q. to avoid an IndexError) you can use the same function you would use for strings:"
   ]
  },
  {
   "cell_type": "code",
   "execution_count": null,
   "id": "0322a88f",
   "metadata": {},
   "outputs": [],
   "source": [
    "len(empty_list)"
   ]
  },
  {
   "cell_type": "markdown",
   "id": "a69f947e-f0f3-4479-a06a-7b9e4e9e1875",
   "metadata": {},
   "source": [
    "Sometimes you know the value of an element in the list but not its index. To retreive the index of an element with that value we can use the `index`-method. This method **returns the index of the element with the known value** (starting from the left). If the list contains no element with that kind of value, python will raise a ValueError. One important thing to know: the index function returns the index of the first occurring instance! This means, if you have multiple elements of the list with the same value, you will only get the index of the first element having that value.  \n",
    "\n",
    "**Python-Syntax:** `list_name.index(element_value)`"
   ]
  },
  {
   "cell_type": "code",
   "execution_count": null,
   "id": "64bd5fa4",
   "metadata": {},
   "outputs": [],
   "source": [
    "integers = [10, 20, 30, 40, 25, 20, 100]"
   ]
  },
  {
   "cell_type": "code",
   "execution_count": null,
   "id": "8003ef32",
   "metadata": {},
   "outputs": [],
   "source": [
    "print(integers.index(25))\n",
    "print(integers.index(20))    # The list contains two elements with the value 20, but only the first instance will be returned!  \n",
    "print(integers.index(420))   # This will raise an ValueError since no element with value 420 is stored in the list. "
   ]
  },
  {
   "cell_type": "markdown",
   "id": "c8bda3a7-a92f-4668-baa5-7f6f393fbea5",
   "metadata": {},
   "source": [
    "If you want to count occurences of a certain value in a list you can use `count()`:\n",
    "\n",
    "**Python-Syntax:** `list_name.count(value_to_count)`"
   ]
  },
  {
   "cell_type": "code",
   "execution_count": null,
   "id": "d892861d",
   "metadata": {},
   "outputs": [],
   "source": [
    "print(integers.count(10))\n",
    "print(integers.count(20))\n",
    "print(integers.count(420))   # This will return 0 since no element with value 420 is stored in the list."
   ]
  },
  {
   "cell_type": "markdown",
   "id": "78633f93-53fc-47fd-86f8-375d323f7a39",
   "metadata": {},
   "source": [
    "Lists can also be sorted if all list elements are of the same datatype! For example, all elements must be integers. A list with integers will be sorted in ascending or descending order, depending on the parameter that we pass. Sorting also works for string-lists, they will be sorted in alphabetical order or reverse alphabetical order. \n",
    "\n",
    "**Python-Syntax:** `list_name.sort()`"
   ]
  },
  {
   "cell_type": "code",
   "execution_count": null,
   "id": "ae057cba",
   "metadata": {},
   "outputs": [],
   "source": [
    "integers.sort()\n",
    "print(integers)\n",
    "integers.sort(reverse=True)\n",
    "print(integers)\n",
    "list_of_letters = ['p', 'y', 't', 'h', 'o', 'n']\n",
    "print(list_of_letters)\n",
    "list_of_letters.sort()\n",
    "print(list_of_letters)\n",
    "list_of_letters.sort(reverse=True)\n",
    "print(list_of_letters)"
   ]
  },
  {
   "cell_type": "markdown",
   "id": "b5e959d3-1a19-456e-b099-3e88ee022062",
   "metadata": {},
   "source": [
    "## Tuples\n",
    "\n",
    "Tuples are very similar to lists but with some minor differences - once defined, a tuple cannot be changed! Hence, tuples are constants and objects with such a property are called immutable.   \n",
    "\n",
    "**Tuple-Properties:**\n",
    "* stores data from any datatype (can be mixed as well),\n",
    "* iterable,\n",
    "* **immutable**,\n",
    "* cannot contain mutable objects (as opposed to lists).\n",
    "\n",
    "**Python-Syntax:** \n",
    "* `tuple_name = (item0, item1, item2, etc)` preferred way \n",
    "* `tuple_name = item0, item1, item2, etc`  \n"
   ]
  },
  {
   "cell_type": "code",
   "execution_count": null,
   "id": "18acecb1",
   "metadata": {},
   "outputs": [],
   "source": [
    "some_words_and_numbers = ('hi', 'bye', 15)  # preferred way\n",
    "newspapers = 'Die_Presse', 'Der_Standard', 'FAZ' # this works to but it is not as readable\n",
    "\n",
    "#Special tuples\n",
    "one_element_tuple = ('singleton',)\n",
    "empty_tuple = ()\n",
    "print(newspapers)\n",
    "print(one_element_tuple)\n",
    "print(empty_tuple)"
   ]
  },
  {
   "cell_type": "markdown",
   "id": "c928e2d3-6ba1-4a6d-b5cc-ef279ffcd6c3",
   "metadata": {},
   "source": [
    "As already mentioned, tuples are immutable. They cannot be changed and hence do not use tuples if you have to change them later! In that case, use lists instead."
   ]
  },
  {
   "cell_type": "code",
   "execution_count": null,
   "id": "315d12f6",
   "metadata": {},
   "outputs": [],
   "source": [
    "newspapers[2] = 'Die_Zeit'  #  <- Not a valid action for tuples, raises TypeError!"
   ]
  },
  {
   "cell_type": "markdown",
   "id": "fc665b54-4cee-45bb-8cc3-87cc06039b6a",
   "metadata": {},
   "source": [
    "In the following example, it **appears** that you can add an element ...."
   ]
  },
  {
   "cell_type": "code",
   "execution_count": null,
   "id": "f5ae1734",
   "metadata": {},
   "outputs": [],
   "source": [
    "newspapers += ('Kleine Zeitung',) \n",
    "print(newspapers)"
   ]
  },
  {
   "cell_type": "markdown",
   "id": "20c6f67f-f14a-4663-8d0e-97a628de66f5",
   "metadata": {},
   "source": [
    "... but appearances are deceiving. Lets have a deeper look what happend! The function `id()` will help us to determine where the mistake happened. `id()` returns the identity of an object (an integer typically referring to the memory location of the object), which does not change during the object's lifetime. \n",
    "Python created a new tuple (including the new value) instead of changing the already existing one. Hence, always keep in mind: **tuples are immutable**!"
   ]
  },
  {
   "cell_type": "code",
   "execution_count": null,
   "id": "d5319550",
   "metadata": {},
   "outputs": [],
   "source": [
    "newspapers = ('Die_Presse', 'Der_Standard', 'FAZ') \n",
    "print(id(newspapers))\n",
    "archived_newspapers = newspapers  # we archive the old newspapers to compare the objects\n",
    "newspapers += ('Kleine Zeitung',) \n",
    "print(id(newspapers)) # ID is not the same, a new tuple was created instead and the old one is overwritten\n",
    "archived_newspapers == newspapers  # we can also use object comparisons to check for the equality of the tuples"
   ]
  },
  {
   "cell_type": "markdown",
   "id": "7732178a-5712-4ec9-945b-1101950dfa92",
   "metadata": {},
   "source": [
    "Does this also happen if we change a list? Since lists are mutable, there should be nothing to worry about. "
   ]
  },
  {
   "cell_type": "code",
   "execution_count": null,
   "id": "b1000536",
   "metadata": {},
   "outputs": [],
   "source": [
    "list_numbers = [1, 2, 3, 4, 5] # list are mutable -> changable\n",
    "print(id(list_numbers))\n",
    "archived_list_numbers = list_numbers\n",
    "list_numbers.append(6)\n",
    "print(id(list_numbers))    # ID is the same so no new list was created\n",
    "archived_list_numbers == list_numbers"
   ]
  },
  {
   "cell_type": "markdown",
   "id": "2a21f146-adb2-4fa6-85e1-73cc7f25ec13",
   "metadata": {},
   "source": [
    "Tuple indexing works in the same way as with lists."
   ]
  },
  {
   "cell_type": "code",
   "execution_count": null,
   "id": "bf0e7052",
   "metadata": {},
   "outputs": [],
   "source": [
    "print(newspapers[0])   # access first tuple-element\n",
    "print(newspapers[1])   # access second tuple-element\n",
    "print(newspapers[-1])  # access last tuple-element"
   ]
  },
  {
   "cell_type": "markdown",
   "id": "18e2c436-6106-4827-8603-2022ca3cea47",
   "metadata": {},
   "source": [
    "If it is necessary, you can cast a list into a tuple via type-casting or vice versa. "
   ]
  },
  {
   "cell_type": "code",
   "execution_count": null,
   "id": "bc376e19",
   "metadata": {},
   "outputs": [],
   "source": [
    "integer_list = [1, 2, 3, 4]\n",
    "print(type(integer_list))\n",
    "integer_list = tuple(integer_list)\n",
    "print(type(integer_list))"
   ]
  },
  {
   "cell_type": "markdown",
   "id": "c7c3f820-f481-4156-9e9c-da58eedfabd1",
   "metadata": {},
   "source": [
    "One very usefull feature is multiple variable assignment or value unpacking. Using this syntax, you can directly assign values of tuple-elements to variables. You can use as many variables as the number of elements in the tuple, but this is especially usefull for short tuples.\n",
    "\n",
    "**Python-Syntax:** `var1,var2,var3,etc = tuple_name`"
   ]
  },
  {
   "cell_type": "code",
   "execution_count": null,
   "id": "0c79e62b",
   "metadata": {},
   "outputs": [],
   "source": [
    "np1, np2, np3, np4 = newspapers\n",
    "print(np1)\n",
    "print(np2)\n",
    "print(np3)\n",
    "print(np4)"
   ]
  },
  {
   "cell_type": "markdown",
   "id": "3c52dd24-477a-4bdc-9727-1345ef5aa90b",
   "metadata": {},
   "source": [
    "## For loops\n",
    "https://docs.python.org/3/tutorial/controlflow.html#for-statements  \n",
    "https://docs.python.org/3/tutorial/datastructures.html#looping-techniques  \n",
    "\n",
    "`for`-loops iterate over sequences (which are referred to as _iterables_). Often in our programs, we need to repeat the same operation on every element of a list and instead of writing this operation as many times as the list length, we define a loop over the list elements and write the operation only once. Then the loop will execute the operation on every list element for us.\n",
    "\n",
    "The `for`-loop in python is defined as follow:\n",
    "```python\n",
    "for variable in sequence:\n",
    "    # do stuff\n",
    "```\n",
    "\n",
    "So we start with the `for` keyword followed by a variable name, this variable is created here as a local variable and contains one element of the sequence. With each new iteration step of the loop this element changes until the end of the sequence is reached, or we as programmers decide to stop the loop. Next comes the `in` keyword followed by the sequence.  \n",
    "\n",
    "Let's have a look at a for loop, looping over this new amazing datatype we just learned, a `list`:"
   ]
  },
  {
   "cell_type": "code",
   "execution_count": null,
   "id": "68b36437",
   "metadata": {},
   "outputs": [],
   "source": [
    "numbers = [0, 1, 2, 3, 4, 5, 6]\n",
    "\n",
    "for number in numbers:\n",
    "    print(f'Number in list: {number}')"
   ]
  },
  {
   "cell_type": "markdown",
   "id": "e65c49ee-abda-4ca0-82fb-e33833dab63a",
   "metadata": {},
   "source": [
    "For loops can iterate over any sequence and, in addition to lists, we already two more sequences, i.e., strings and tuples. So, we can iterate over strings and tuples in the same way too:"
   ]
  },
  {
   "cell_type": "code",
   "execution_count": null,
   "id": "8e2b6656",
   "metadata": {},
   "outputs": [],
   "source": [
    "hello_world = 'Hello World!'\n",
    "for letter in hello_world:\n",
    "    print(f'Letter in tuple: {letter}')"
   ]
  },
  {
   "cell_type": "code",
   "execution_count": null,
   "id": "ab98a44b",
   "metadata": {},
   "outputs": [],
   "source": [
    "numbers = (0, 1, 2, 3, 4, 5, 6)\n",
    "for number in numbers:\n",
    "    print(f'Element in tuple: {number}')"
   ]
  },
  {
   "cell_type": "markdown",
   "id": "0b57957d-f7d5-4e3b-8629-33f6bb37b235",
   "metadata": {},
   "source": [
    "As mentioned, we can further control the execution of the`for`-loop. There are two keywords for that:  \n",
    "* `continue`: stops the current iteration steps and begins the next one.\n",
    "* `break`: Stops the whole loop completely by exiting from the loop."
   ]
  },
  {
   "cell_type": "code",
   "execution_count": null,
   "id": "76187190",
   "metadata": {},
   "outputs": [],
   "source": [
    "# continue -> Print every letter but the letter 'l'\n",
    "for letter in hello_world:\n",
    "    if letter == 'l':\n",
    "        continue\n",
    "    print(letter)"
   ]
  },
  {
   "cell_type": "code",
   "execution_count": null,
   "id": "346c871b",
   "metadata": {},
   "outputs": [],
   "source": [
    "# break -> Print all letters until the first encounter of the letter 'l'\n",
    "for letter in hello_world:\n",
    "    if letter == 'l':\n",
    "        break\n",
    "    print(letter)"
   ]
  },
  {
   "cell_type": "markdown",
   "id": "c8cbfcc8-265f-4dad-a7c9-ef9ca26ce2f3",
   "metadata": {},
   "source": [
    "Sometimes, you may encounter a situation where you need the index of the element in the sequence and the element itself. For this case you can use `enumerate`. `enumerate` generates two iterables, first the index sequences, and second the sequence of the elements. If you don't need the elements we can define them with a underscore `_`."
   ]
  },
  {
   "cell_type": "code",
   "execution_count": null,
   "id": "fe9d7696",
   "metadata": {},
   "outputs": [],
   "source": [
    "data = [63, 100, 48, 79, 4, 85, 26, 84, 16, 73, 58, 78]\n",
    "for index_of_element, element in enumerate(data):\n",
    "    print(f'{index_of_element}. element in data is {element}')\n",
    "    \n",
    "for index_of_element, _ in enumerate(data):\n",
    "    print(f'{index_of_element}. element')"
   ]
  },
  {
   "cell_type": "markdown",
   "id": "9920998a-05ed-4c37-94bc-6cc5a7736723",
   "metadata": {},
   "source": [
    "#### *Advanced: list comprehensions*\n",
    "You can rewrite every for loop which creates a list into a list comprehension. The syntax is as follows: \n",
    "```python\n",
    "resulting_list = [iterator for iterator in sequence]\n",
    "```\n",
    "You can also combine this with conditions:\n",
    "```python\n",
    "resulting_list = [iterator for iterator in sequence if condition]\n",
    "```"
   ]
  },
  {
   "cell_type": "code",
   "execution_count": null,
   "id": "ba191c2a",
   "metadata": {},
   "outputs": [],
   "source": [
    "squared_numbers = [1, 4, 9]\n",
    "\n",
    "# this loop creates a list where every element is the square root of a given list\n",
    "numbers = []\n",
    "for squared_number in squared_numbers:\n",
    "    numbers.append(squared_number ** (1 / 2))\n",
    "\n",
    "print(numbers)"
   ]
  },
  {
   "cell_type": "code",
   "execution_count": null,
   "id": "25143af3",
   "metadata": {},
   "outputs": [],
   "source": [
    "# this is the list comprehension equivalent\n",
    "numbers = [squared_number ** (1 / 2) for squared_number in squared_numbers]\n",
    "print(numbers)"
   ]
  },
  {
   "cell_type": "markdown",
   "id": "1c9abab1-485f-47d1-9572-4d9f15a0deff",
   "metadata": {},
   "source": [
    "You can also use conditions inside a list comprehension:"
   ]
  },
  {
   "cell_type": "code",
   "execution_count": null,
   "id": "908a1f5c",
   "metadata": {},
   "outputs": [],
   "source": [
    "random_numbers = [6, 90, 10, 15, 114, 25, 18]\n",
    "\n",
    "filtered_numbers = []\n",
    "\n",
    "for number in random_numbers:\n",
    "    if number < 20:\n",
    "        filtered_numbers.append(number)\n",
    "\n",
    "print(filtered_numbers)"
   ]
  },
  {
   "cell_type": "code",
   "execution_count": null,
   "id": "37f77f97",
   "metadata": {},
   "outputs": [],
   "source": [
    "filtered_numbers = [number for number in random_numbers if number < 20]\n",
    "print(filtered_numbers)"
   ]
  },
  {
   "cell_type": "markdown",
   "id": "a9b5a470-cf8c-4ce4-9be2-382f8d165588",
   "metadata": {},
   "source": [
    "Ok let's get even more advanced since we are already there😉 Sometimes, list comprehensions handle a lot of data occupying a lot of computer memory. To prevent this we can use generator comprehensions creating a generator object, which occupies only a small amount of memory. This is a lazy object, which only calculates the next element when needed, not all the elements at once as a list comprehension. A generator comprehension is created with round brackets instead of square brackets."
   ]
  },
  {
   "cell_type": "code",
   "execution_count": null,
   "id": "7037aae4",
   "metadata": {},
   "outputs": [],
   "source": [
    "import sys\n",
    "list_comprehension = [element ** 4 for element in range(1000000)]\n",
    "print(f'Size of the list comprehension object: { sys.getsizeof(list_comprehension)} bytes')\n",
    "\n",
    "generator_comprehension = (element ** 4 for element in range(1000000))\n",
    "print(f'Size of the generator comprehension object: {sys.getsizeof(generator_comprehension)} bytes')"
   ]
  },
  {
   "cell_type": "markdown",
   "id": "2770b80c-b5fa-45c6-bcc6-8f7183ec67e8",
   "metadata": {
    "tags": []
   },
   "source": [
    "## Input\n",
    "In the last units we already learned how to assign values to variables. However, sometimes we want to let the *user decide* what value should be assigned to a variable. For this purpose, the built-in function `input()` is very useful. When asked, the user can type in a value and it gets assigned to the variable."
   ]
  },
  {
   "cell_type": "code",
   "execution_count": null,
   "id": "b66b406d-209c-471c-8719-7194ef0ce10f",
   "metadata": {
    "tags": []
   },
   "outputs": [],
   "source": [
    "name = input('What is your name? ')\n",
    "print(name)"
   ]
  },
  {
   "cell_type": "markdown",
   "id": "2cc5aa8a-688d-423f-ad6f-b2859cb94632",
   "metadata": {},
   "source": [
    "Be aware, the result is always a string!"
   ]
  },
  {
   "cell_type": "code",
   "execution_count": null,
   "id": "9b7e608a-86a6-4222-9d26-3abb87ef7df0",
   "metadata": {},
   "outputs": [],
   "source": [
    "age = input(f'Hello {name}, please enter your age: ')\n",
    "print(type(age))"
   ]
  },
  {
   "cell_type": "markdown",
   "id": "f1759e49-dbd3-44c3-bdc9-c788f28df111",
   "metadata": {},
   "source": [
    "As the values that are assigned with the `input()` function are always strings, simply math like this will produce an error:"
   ]
  },
  {
   "cell_type": "code",
   "execution_count": null,
   "id": "9aa7e8e9-ec19-44e6-b402-e1463d9b0683",
   "metadata": {},
   "outputs": [],
   "source": [
    "print(age + 5)"
   ]
  },
  {
   "cell_type": "markdown",
   "id": "1b22b013-57c1-4e89-8656-748ffe1d79d0",
   "metadata": {},
   "source": [
    "Solution: cast it to an integer!"
   ]
  },
  {
   "cell_type": "code",
   "execution_count": null,
   "id": "6aa595f2-cd5b-47ae-8846-cfdecd90bb31",
   "metadata": {},
   "outputs": [],
   "source": [
    "age = int(age)\n",
    "print(age + 5)"
   ]
  },
  {
   "cell_type": "markdown",
   "id": "989d5764-056b-4ef2-a9d8-1debefb77612",
   "metadata": {},
   "source": [
    "So, always remember, if you need to calculate something with an entered number, use typecasts:"
   ]
  },
  {
   "cell_type": "code",
   "execution_count": null,
   "id": "69fce157-81f1-41f4-a7ae-d30d520c2d61",
   "metadata": {},
   "outputs": [],
   "source": [
    "age = int(input(f'Hello {name}, please enter your age: '))\n",
    "print(type(age))\n",
    "new_age = age + 2\n",
    "print(f'In two years you will be {new_age}')"
   ]
  },
  {
   "cell_type": "markdown",
   "id": "af24b655-0774-45c4-be87-5865b3584edc",
   "metadata": {},
   "source": [
    "But is there also another possibility to make sure that the input is casted in a correct manner?   \n",
    "Yes, there is! \n",
    "Just take a look at the following example. The user will be asked to enter their `age`. If `age` is not a positive number this will happen over and over again until the correct input is entered. Try it out yourself!"
   ]
  },
  {
   "cell_type": "code",
   "execution_count": null,
   "id": "fbb8dd18-3484-4b4f-80d2-9b33e8a8ccf1",
   "metadata": {},
   "outputs": [],
   "source": [
    "while True:\n",
    "    age = input('Please enter your age: ')\n",
    "    if not age.isnumeric():\n",
    "        print(f'\"age\" must be a positive integer but is: \"{age}\"')\n",
    "    else:\n",
    "        age = int(age)\n",
    "        print(f'Your current age is {age}. So in two years you will be {age + 2} years old')\n",
    "        break"
   ]
  },
  {
   "cell_type": "markdown",
   "id": "adad87f8-ef31-41ed-b4eb-9356bea2316e",
   "metadata": {},
   "source": [
    "All right, that was quite cool. But let's start from the beginning..."
   ]
  },
  {
   "cell_type": "markdown",
   "id": "24003126-1ad4-4dd5-8e6b-645979de8b51",
   "metadata": {
    "tags": []
   },
   "source": [
    "## While loops\n"
   ]
  },
  {
   "cell_type": "markdown",
   "id": "164dd30a-d63f-4f25-a90a-77b049817eed",
   "metadata": {},
   "source": [
    "Besides `for`-loops there is an other common looping technique which is used in python: `while`-loops.  \n",
    "This type of loop performs instructions while a given condition is true."
   ]
  },
  {
   "cell_type": "markdown",
   "id": "2a678bd5-efc7-4929-8d0a-d70e9b5abee8",
   "metadata": {},
   "source": [
    "General form:\n",
    "\n",
    "```python\n",
    "while condition:\n",
    "    # do something\n",
    "```"
   ]
  },
  {
   "cell_type": "markdown",
   "id": "aec1824d-a265-49c2-8019-975ff75b727d",
   "metadata": {
    "tags": []
   },
   "source": [
    "Example:"
   ]
  },
  {
   "cell_type": "code",
   "execution_count": null,
   "id": "c0324418-09a5-4b4f-9487-3d527a0a3fb6",
   "metadata": {},
   "outputs": [],
   "source": [
    "counter = 0\n",
    "print('while-loop begins:\\n')\n",
    "while counter < 3:\n",
    "    print('The condition counter < 3 is still true.') \n",
    "    print(f'counter is currently {counter}') # print current value of counter\n",
    "    \n",
    "    counter += 1                             # counter = counter+1\n",
    "    print('incrementing counter...')\n",
    "    print('-' * 40)\n",
    "\n",
    "print('The condition counter < 3 is false.')\n",
    "print(f'counter is currently {counter}\\n')\n",
    "print('while-loop ends!')"
   ]
  },
  {
   "cell_type": "markdown",
   "id": "c151efb2-e903-43ea-990c-960a612d9cde",
   "metadata": {
    "tags": []
   },
   "source": [
    "`for`-loops can be used to iterate over sequences. Just for better understanding, let us rewrite the `while`-loop from above with a `for`-loop:"
   ]
  },
  {
   "cell_type": "code",
   "execution_count": null,
   "id": "505c9922-5921-4833-8408-d373bb152f62",
   "metadata": {},
   "outputs": [],
   "source": [
    "# prints all numbers from 0-3 with a while loop\n",
    "number = 0\n",
    "while number <= 3:\n",
    "    print(number)\n",
    "    number += 1"
   ]
  },
  {
   "cell_type": "code",
   "execution_count": null,
   "id": "57cd15ba-0e4c-430e-a409-4c72b045c902",
   "metadata": {},
   "outputs": [],
   "source": [
    "# prints all numbers from 0-3 with a for loop\n",
    "numbers = [0, 1, 2, 3]\n",
    "for number in numbers: \n",
    "    print(number)"
   ]
  },
  {
   "cell_type": "markdown",
   "id": "d7b30ec1-dc2b-4fcc-a23f-98f1425151b3",
   "metadata": {},
   "source": [
    "### Controlling `while`\n",
    "\n",
    "Just as `for`-loops, also `while`-loops can be controlled by using the `break` and `continue` keywords."
   ]
  },
  {
   "cell_type": "markdown",
   "id": "b53d7dec-c4ec-4dca-b2fc-9037f4f55e7d",
   "metadata": {
    "tags": []
   },
   "source": [
    "#### `break`-statement\n",
    "`break`: stops the execution of the innermost loop altogether"
   ]
  },
  {
   "cell_type": "code",
   "execution_count": null,
   "id": "a7dbb974-6052-4167-b92f-e12be3c4014c",
   "metadata": {
    "tags": []
   },
   "outputs": [],
   "source": [
    "x = 0\n",
    "while x < 10:\n",
    "    x += 1\n",
    "    if x % 4 == 0:\n",
    "        break\n",
    "    print(x)\n",
    "print('Executed after while-loop')"
   ]
  },
  {
   "cell_type": "markdown",
   "id": "ee261c0e-4c0c-4ea7-977d-725964ff9db8",
   "metadata": {},
   "source": [
    "#### `continue`-statement\n",
    "`continue`: stops the current iteration and starts with the next iteration of the innermost loop"
   ]
  },
  {
   "cell_type": "code",
   "execution_count": null,
   "id": "bbc4d675-2069-460f-9104-2d66ef254ca4",
   "metadata": {
    "tags": []
   },
   "outputs": [],
   "source": [
    "x = 0\n",
    "while x < 10:\n",
    "    x += 1\n",
    "    if x % 2 == 0:\n",
    "        print(f\"{x} is even\")\n",
    "        continue\n",
    "    print(f\"{x} is odd\")"
   ]
  },
  {
   "cell_type": "markdown",
   "id": "7ec6d5b0-83fd-4880-aad2-04bccc47d9b3",
   "metadata": {},
   "source": [
    "### Infinite Loops"
   ]
  },
  {
   "cell_type": "markdown",
   "id": "277b106f-2dea-4064-886c-aaafe4b1b272",
   "metadata": {},
   "source": [
    "A loop that never ends is called an infinite loop. \n",
    "It is very important to avoid this because it will make your program run forever. A forever running program consumes all of your computers resources, so if you accidentally stumble into an infinite loop end it with `ctrl + c` in the terminal and with \"interrupt kernel\" in jupyter lab."
   ]
  },
  {
   "cell_type": "code",
   "execution_count": null,
   "id": "f1f391db-aaec-4543-b030-250271857352",
   "metadata": {
    "tags": []
   },
   "outputs": [],
   "source": [
    "# Don't do this... \n",
    "# while True:\n",
    "#     print(\"Oh Oh...\")"
   ]
  },
  {
   "cell_type": "markdown",
   "id": "5a9b85dd-47ea-4b34-9d72-2991cff43c65",
   "metadata": {
    "tags": []
   },
   "source": [
    "## Common mistakes"
   ]
  },
  {
   "cell_type": "markdown",
   "id": "34a404ea-914b-4169-bdac-09972c369a51",
   "metadata": {},
   "source": [
    "#### Infinite Loops\n",
    "\n",
    "Never reaching end condition when working with while-loops is a mistake that may occur, so be aware! :)\n"
   ]
  },
  {
   "cell_type": "code",
   "execution_count": null,
   "id": "b7ec1e73-90c6-4b25-b54b-004cd49f6d7d",
   "metadata": {},
   "outputs": [],
   "source": [
    "number = 5\n",
    "\n",
    "while number > 0:\n",
    "    print(\"hello\")\n",
    "    \n",
    "    # this will fix it:\n",
    "    #number -= 1"
   ]
  },
  {
   "cell_type": "markdown",
   "id": "98b23ae6-5242-47d1-b52d-847eb66e751e",
   "metadata": {},
   "source": [
    "## Programming examples"
   ]
  },
  {
   "cell_type": "markdown",
   "id": "f948c519-5d4a-4df1-a9ca-4cca799e9264",
   "metadata": {
    "tags": []
   },
   "source": [
    "### Programming example 1"
   ]
  },
  {
   "cell_type": "markdown",
   "id": "ce94ffbe-fe3e-4fcb-ad7e-fc12cccf65c9",
   "metadata": {},
   "source": [
    "#### Palindromes\n",
    "Check if a string is a palindrome. Ask the user for a string as an input. Your code should then check if the string that user entered is a palindrome. If so print true else print false. A palindrome is a word or sentence which is the same in reverse. Solve this problem:\n",
    "* with loops,\n",
    "* without any loops,\n",
    "* check whether case insensitive string is a palindrome and also neglect punctuation and spaces.\n",
    "\n",
    "\n",
    "**Example:**\n",
    "```\n",
    "anna -> True\n",
    "Hello World -> False\n",
    "evil olive -> True\n",
    "```\n",
    "**Example for the last bullet point:**\n",
    "```\n",
    "Dammit, I’m mad! -> True\n",
    "Won’t lovers revolt now? -> True\n",
    "```"
   ]
  },
  {
   "cell_type": "code",
   "execution_count": null,
   "id": "5783ae5e-af76-4919-a3d2-2c91b547fbc7",
   "metadata": {},
   "outputs": [],
   "source": [
    "# Your code goes here"
   ]
  },
  {
   "cell_type": "markdown",
   "id": "cae034b2-f851-4f85-9812-854e3920a1a3",
   "metadata": {},
   "source": [
    "### Programming example 2"
   ]
  },
  {
   "cell_type": "markdown",
   "id": "818ddb80-644a-4c44-aba1-fe7fc12216b6",
   "metadata": {},
   "source": [
    "Start with a list of integers. Compute a list where the i<sup>th</sup> element is the difference between the (i+1)<sup>th</sup> and i<sup>th</sup> element of the original list.\n",
    "\n",
    "**Example:**  \n",
    "```\n",
    "[1, 2, 3] -> [1, 1]\n",
    "[6, 90, 10, 15, 114, 25, 18, 91, 51] -> [84, -80, 5, 99, -89, -7, 73, -40]\n",
    "[63, 100, 48, 79, 4, 85, 26, 84, 16, 73, 58, 78, 87, 198, 321, 17] -> [37, -52, 31, -75, 81, -59, 58, -68, 57, -15, 20, 9, 111, 123, -304]\n",
    "```"
   ]
  },
  {
   "cell_type": "code",
   "execution_count": null,
   "id": "defaec72-958a-41f0-b5c6-6db7f3866079",
   "metadata": {},
   "outputs": [],
   "source": [
    "# Your code goes here"
   ]
  },
  {
   "cell_type": "markdown",
   "id": "24628f8d-ff81-43eb-b301-11798325d1bc",
   "metadata": {},
   "source": [
    "### Programming example 3"
   ]
  },
  {
   "cell_type": "markdown",
   "id": "e8d1ab30-0bf9-46ad-9b42-756a0f4bf27d",
   "metadata": {},
   "source": [
    "Compute a sliced sum of a list of integers that keeps the sum of every second integer from the original list by using list slicing."
   ]
  },
  {
   "cell_type": "code",
   "execution_count": null,
   "id": "77b94e77-7230-43de-86ce-a96899001e52",
   "metadata": {},
   "outputs": [],
   "source": [
    "# Your code goes here"
   ]
  },
  {
   "cell_type": "markdown",
   "id": "fc6c4d04-57d8-4613-94fc-0af5d4450ae0",
   "metadata": {},
   "source": [
    "### Programming example 4\n",
    "\n",
    "Now that we all know how `while`-loops work, it is time to look at a \"real-life\" example.   \n",
    "Almost every program that we use in our daily life runs until we tell it to quit. In the background this is often performed with a `while` loop.\n",
    "\n",
    "Write a program which will ask the user to either enter a *name of a person* or to enter *quit*, if the user wants to stop the program. As long as the program is not stopped with *quit*, we will ask the user to enter new names.   \n",
    "The question could look like the following:\n",
    "```\n",
    "Hello, is there someone I should know? To stop, please enter quit: \n",
    "```\n",
    "If the user enters a name, it should be stored in a list.  \n",
    "We don't want to save a name twice, so make sure that the list does not contain any duplicates.\n",
    "\n",
    "If the user enters quit, the program no longer asks for new names and the list containing all the entered names is printed.\n",
    "\n",
    "For example:\n",
    "\n",
    "```\n",
    "Hello, is there someone I should know? To stop, please enter quit: Anna\n",
    "Hello, is there someone I should know? To stop, please enter quit: Jules\n",
    "Hello, is there someone I should know? To stop, please enter quit: Anna\n",
    "Hello, is there someone I should know? To stop, please enter quit: quit\n",
    "```\n",
    "\n",
    "```\n",
    "['Anna', 'Jules']\n",
    "```"
   ]
  },
  {
   "cell_type": "code",
   "execution_count": null,
   "id": "924567a9-e0a2-4e7b-8e00-81966cf926b2",
   "metadata": {},
   "outputs": [],
   "source": [
    "# Your code goes here"
   ]
  },
  {
   "cell_type": "markdown",
   "id": "515c0b82-0d34-4118-9b0b-8a58b4170249",
   "metadata": {},
   "source": [
    "### Programming example 5\n",
    "\n",
    "Implement the binary (bisection) search algorithm for finding the square root of a number x entered by the user. Use the error tolerance of $10^{-2}$. Output the solution and the number of steps that the algorithm needed to find the solution."
   ]
  },
  {
   "cell_type": "code",
   "execution_count": null,
   "id": "fd382939-39d9-4867-ba16-a2ed05dd0907",
   "metadata": {},
   "outputs": [],
   "source": [
    "# Your code goes here"
   ]
  },
  {
   "cell_type": "markdown",
   "id": "6c0a0936-dfd9-450f-a90d-8635cdfed2a2",
   "metadata": {},
   "source": [
    "### Programming example 6\n",
    "\n",
    "Implement the Newton's algorithm for finding the square root of a number x entered by the user. Use the error tolerance of $10^{-2}$. Output the solution and the number of steps that the algorithm needed to find the solution."
   ]
  },
  {
   "cell_type": "code",
   "execution_count": null,
   "id": "b40d0b59-bd57-45b6-880b-0b3eea473f9b",
   "metadata": {},
   "outputs": [],
   "source": [
    "# Your code goes here"
   ]
  }
 ],
 "metadata": {
  "kernelspec": {
   "display_name": "Python 3 (ipykernel)",
   "language": "python",
   "name": "python3"
  },
  "language_info": {
   "codemirror_mode": {
    "name": "ipython",
    "version": 3
   },
   "file_extension": ".py",
   "mimetype": "text/x-python",
   "name": "python",
   "nbconvert_exporter": "python",
   "pygments_lexer": "ipython3",
   "version": "3.10.4"
  }
 },
 "nbformat": 4,
 "nbformat_minor": 5
}
